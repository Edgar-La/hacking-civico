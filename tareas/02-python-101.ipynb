{
  "nbformat": 4,
  "nbformat_minor": 0,
  "metadata": {
    "colab": {
      "name": "Untitled0.ipynb",
      "provenance": [],
      "authorship_tag": "ABX9TyMY7d+FwmSGJM+/SBVZXOSW",
      "include_colab_link": true
    },
    "kernelspec": {
      "name": "python3",
      "display_name": "Python 3"
    }
  },
  "cells": [
    {
      "cell_type": "markdown",
      "metadata": {
        "id": "view-in-github",
        "colab_type": "text"
      },
      "source": [
        "<a href=\"https://colab.research.google.com/github/Edgar-La/hacking-civico/blob/master/tareas/02-python-101.ipynb\" target=\"_parent\"><img src=\"https://colab.research.google.com/assets/colab-badge.svg\" alt=\"Open In Colab\"/></a>"
      ]
    },
    {
      "cell_type": "code",
      "metadata": {
        "id": "zQLzdtnjb6r1",
        "colab_type": "code",
        "colab": {
          "base_uri": "https://localhost:8080/",
          "height": 67
        },
        "outputId": "cf7e4a91-28bf-4e7b-dcbf-3b8d2342d54c"
      },
      "source": [
        "def densidad_poblacional(poblacion, area_ciudad):\n",
        "  return int(poblacion)/int(area_ciudad)\n",
        "\n",
        "casos = [{ 'locacion_': 'Mexico',\n",
        "            'poblacion_': 126190788,\n",
        "            'area_': 1973000 \n",
        "         },\n",
        "         { 'locacion_': 'Guanajuato',\n",
        "            'poblacion_': 5853677,\n",
        "            'area_': 30607 \n",
        "         },\n",
        "         { 'locacion_': 'Guanajuato',\n",
        "            'poblacion_': 184239,\n",
        "            'area_': 9967\n",
        "         },]\n",
        "\n",
        "for t in casos:\n",
        "  densidad = densidad_poblacional(t['poblacion_'], t['area_'])\n",
        "  print('En ' + t['locacion_'] + ' la densidad poblacional es: ' + str(densidad))\n"
      ],
      "execution_count": 13,
      "outputs": [
        {
          "output_type": "stream",
          "text": [
            "En Mexico la densidad poblacional es: 63.95883831728332\n",
            "En Guanajuato la densidad poblacional es: 191.25288332734343\n",
            "En Guanajuato la densidad poblacional es: 18.484900170562856\n"
          ],
          "name": "stdout"
        }
      ]
    }
  ]
}