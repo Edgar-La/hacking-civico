{
  "nbformat": 4,
  "nbformat_minor": 0,
  "metadata": {
    "colab": {
      "name": "Untitled0.ipynb",
      "provenance": [],
      "collapsed_sections": [],
      "authorship_tag": "ABX9TyNGYfbu+zTBxBrNWdQZS3bz",
      "include_colab_link": true
    },
    "kernelspec": {
      "name": "python3",
      "display_name": "Python 3"
    }
  },
  "cells": [
    {
      "cell_type": "markdown",
      "metadata": {
        "id": "view-in-github",
        "colab_type": "text"
      },
      "source": [
        "<a href=\"https://colab.research.google.com/github/Edgar-La/hacking-civico/blob/master/tareas/02-python-101.ipynb\" target=\"_parent\"><img src=\"https://colab.research.google.com/assets/colab-badge.svg\" alt=\"Open In Colab\"/></a>"
      ]
    },
    {
      "cell_type": "markdown",
      "metadata": {
        "id": "MAgQOetnm5dd",
        "colab_type": "text"
      },
      "source": [
        "**CALCULO DE DENSIDAD POBLACIONAL**"
      ]
    },
    {
      "cell_type": "markdown",
      "metadata": {
        "id": "JN0z8vWDlFZ2",
        "colab_type": "text"
      },
      "source": [
        "\n",
        "En este primer bloque calculamos la densidad de 3 locaciones distintas.\n",
        "Para esto primero definimos un registro con ayuda de una lista con diccionarios, en la cual se encuentran los datos a analizar."
      ]
    },
    {
      "cell_type": "markdown",
      "metadata": {
        "id": "DpqTaw2Rm46a",
        "colab_type": "text"
      },
      "source": [
        ""
      ]
    },
    {
      "cell_type": "code",
      "metadata": {
        "id": "zQLzdtnjb6r1",
        "colab_type": "code",
        "colab": {}
      },
      "source": [
        "casos = [{ 'locacion_': 'Mexico',\n",
        "            'poblacion_': 126190788,\n",
        "            'area_': 1973000 \n",
        "         },\n",
        "         { 'locacion_': 'Guanajuato',\n",
        "            'poblacion_': 5853677,\n",
        "            'area_': 30607 \n",
        "         },\n",
        "         { 'locacion_': 'Guanajuato',\n",
        "            'poblacion_': 184239,\n",
        "            'area_': 9967\n",
        "         },]"
      ],
      "execution_count": 14,
      "outputs": []
    },
    {
      "cell_type": "markdown",
      "metadata": {
        "id": "6i3MDkEFleO8",
        "colab_type": "text"
      },
      "source": [
        "En este siguiente bloque definimos la funcion que calcula la densidad poblacional"
      ]
    },
    {
      "cell_type": "code",
      "metadata": {
        "id": "qyNB8sZrlolz",
        "colab_type": "code",
        "colab": {}
      },
      "source": [
        "def densidad_poblacional(poblacion, area_ciudad):\n",
        "  return int(poblacion)/int(area_ciudad)"
      ],
      "execution_count": 15,
      "outputs": []
    },
    {
      "cell_type": "markdown",
      "metadata": {
        "id": "eL_EQpjblrcf",
        "colab_type": "text"
      },
      "source": [
        "Y por ultimo, utilizamos un ciclo.\n",
        "Con este ciclo analizamos el directorio.\n",
        "El ciclo se repite 3 veces porque tenemos 3 locaciones, por esta razón llamamos a la funcion de densidad_poblacion() 3 veces, una por locacion."
      ]
    },
    {
      "cell_type": "code",
      "metadata": {
        "id": "be23yPT_mKyf",
        "colab_type": "code",
        "colab": {
          "base_uri": "https://localhost:8080/",
          "height": 67
        },
        "outputId": "bb8e3076-4e1c-4ddf-f286-edadbca51bce"
      },
      "source": [
        "for t in casos:\n",
        "  densidad = densidad_poblacional(t['poblacion_'], t['area_'])\n",
        "  print('En ' + t['locacion_'] + ' la densidad poblacional es: ' + str(densidad))"
      ],
      "execution_count": 16,
      "outputs": [
        {
          "output_type": "stream",
          "text": [
            "En Mexico la densidad poblacional es: 63.95883831728332\n",
            "En Guanajuato la densidad poblacional es: 191.25288332734343\n",
            "En Guanajuato la densidad poblacional es: 18.484900170562856\n"
          ],
          "name": "stdout"
        }
      ]
    },
    {
      "cell_type": "markdown",
      "metadata": {
        "id": "pLt9GWb2S3uI",
        "colab_type": "text"
      },
      "source": [
        "**----------------------------------------------------------------------------**"
      ]
    },
    {
      "cell_type": "markdown",
      "metadata": {
        "id": "FhImxXnNnJG3",
        "colab_type": "text"
      },
      "source": [
        "\n",
        "\n",
        "\n",
        "\n",
        "**CALCULO DE GASTO PER CAPITA** "
      ]
    },
    {
      "cell_type": "markdown",
      "metadata": {
        "id": "l9gZADDIqGws",
        "colab_type": "text"
      },
      "source": [
        "Para esta sección tomaremos el gasto destinado al sector energético del presente y anterior año.\n",
        "Estas cantidades son consideradas a nivel federal"
      ]
    },
    {
      "cell_type": "code",
      "metadata": {
        "id": "_brd1KqXq2Cx",
        "colab_type": "code",
        "colab": {}
      },
      "source": [
        "mexico_energia = {'2020': 1028793,\n",
        "                  '2019': 1110805.8}"
      ],
      "execution_count": 17,
      "outputs": []
    },
    {
      "cell_type": "markdown",
      "metadata": {
        "id": "2E2y158HrSc1",
        "colab_type": "text"
      },
      "source": [
        "Posterior a esto se define la funcion que va a calcular el gasto per capita.\n",
        "Esta va a tomar los datos del directorio anteriormente definido."
      ]
    },
    {
      "cell_type": "code",
      "metadata": {
        "id": "b5_B-2T-svsb",
        "colab_type": "code",
        "colab": {}
      },
      "source": [
        "def gasto_per_capita(presupuesto, poblacion):\n",
        "  gasto = presupuesto/poblacion\n",
        "  #gasto_2 = presupuesto2/poblacion\n",
        "  #return gasto_1, gasto_2\n",
        "  return gasto"
      ],
      "execution_count": 18,
      "outputs": []
    },
    {
      "cell_type": "markdown",
      "metadata": {
        "id": "h6ngzStntSHo",
        "colab_type": "text"
      },
      "source": [
        "Posterior a esto, llamaremos a la funcion gasto_per_capita()"
      ]
    },
    {
      "cell_type": "code",
      "metadata": {
        "id": "DTlD6S8Ct2VL",
        "colab_type": "code",
        "colab": {
          "base_uri": "https://localhost:8080/",
          "height": 50
        },
        "outputId": "a87c7af5-d1cc-47a8-ac83-3de78594cdec"
      },
      "source": [
        "#for t in mexico_energia:\n",
        "for llave, valor in mexico_energia.items():\n",
        "  g = gasto_per_capita(valor, casos[1]['poblacion_'])\n",
        "  print('En el año ' + llave + ' se gasto $' + str(g) + ' por habitante en el edo. de Guanajuato, en energía.')"
      ],
      "execution_count": 30,
      "outputs": [
        {
          "output_type": "stream",
          "text": [
            "En el año 2020 se gasto $0.1757515831502148 por habitante en el edo. de Guanajuato, en energía.\n",
            "En el año 2019 se gasto $0.18976205895883905 por habitante en el edo. de Guanajuato, en energía.\n"
          ],
          "name": "stdout"
        }
      ]
    },
    {
      "cell_type": "markdown",
      "metadata": {
        "id": "-p32EV6DyaID",
        "colab_type": "text"
      },
      "source": [
        "Para saber si disminuyó o aumento lo verificamos como:"
      ]
    },
    {
      "cell_type": "code",
      "metadata": {
        "id": "ouAKfH5xyfZe",
        "colab_type": "code",
        "colab": {
          "base_uri": "https://localhost:8080/",
          "height": 34
        },
        "outputId": "2e09fec4-0b06-4bae-eb10-2782e1758f5c"
      },
      "source": [
        "h = 100-(0.18976205895883905/0.1757515831502148)*100\n",
        "\n",
        "if h < 0:\n",
        "  print('El gasto disminuyo un ' + str( '{0:.3g}'.format( abs(h) )) + '%')\n",
        "elif h == 0:\n",
        "  print('El gasto se mantuvo constante.')\n",
        "else:\n",
        "  print('El gasto aumento un ' + str( '{0:.3g}'.format( abs(h) )) + '%')"
      ],
      "execution_count": 16,
      "outputs": [
        {
          "output_type": "stream",
          "text": [
            "El gasto disminuyo un 7.97%\n"
          ],
          "name": "stdout"
        }
      ]
    }
  ]
}