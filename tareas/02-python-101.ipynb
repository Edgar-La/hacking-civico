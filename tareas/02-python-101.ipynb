{
  "nbformat": 4,
  "nbformat_minor": 0,
  "metadata": {
    "colab": {
      "name": "Untitled0.ipynb",
      "provenance": [],
      "authorship_tag": "ABX9TyO8+e4PrF7CG4cdnPHqczc2",
      "include_colab_link": true
    },
    "kernelspec": {
      "name": "python3",
      "display_name": "Python 3"
    }
  },
  "cells": [
    {
      "cell_type": "markdown",
      "metadata": {
        "id": "view-in-github",
        "colab_type": "text"
      },
      "source": [
        "<a href=\"https://colab.research.google.com/github/Edgar-La/hacking-civico/blob/master/tareas/02-python-101.ipynb\" target=\"_parent\"><img src=\"https://colab.research.google.com/assets/colab-badge.svg\" alt=\"Open In Colab\"/></a>"
      ]
    },
    {
      "cell_type": "markdown",
      "metadata": {
        "id": "JN0z8vWDlFZ2",
        "colab_type": "text"
      },
      "source": [
        "En este primer bloque calculamos la densidad de 3 locaciones distintas.\n",
        "Para esto primero definimos un registro con ayuda de una lista con diccionarios, en la cual se encuentran los datos a analizar."
      ]
    },
    {
      "cell_type": "code",
      "metadata": {
        "id": "zQLzdtnjb6r1",
        "colab_type": "code",
        "colab": {}
      },
      "source": [
        "casos = [{ 'locacion_': 'Mexico',\n",
        "            'poblacion_': 126190788,\n",
        "            'area_': 1973000 \n",
        "         },\n",
        "         { 'locacion_': 'Guanajuato',\n",
        "            'poblacion_': 5853677,\n",
        "            'area_': 30607 \n",
        "         },\n",
        "         { 'locacion_': 'Guanajuato',\n",
        "            'poblacion_': 184239,\n",
        "            'area_': 9967\n",
        "         },]"
      ],
      "execution_count": 14,
      "outputs": []
    },
    {
      "cell_type": "markdown",
      "metadata": {
        "id": "6i3MDkEFleO8",
        "colab_type": "text"
      },
      "source": [
        "En este siguiente bloque definimos la funcion que calcula la densidad poblacional"
      ]
    },
    {
      "cell_type": "code",
      "metadata": {
        "id": "qyNB8sZrlolz",
        "colab_type": "code",
        "colab": {}
      },
      "source": [
        "def densidad_poblacional(poblacion, area_ciudad):\n",
        "  return int(poblacion)/int(area_ciudad)"
      ],
      "execution_count": 15,
      "outputs": []
    },
    {
      "cell_type": "markdown",
      "metadata": {
        "id": "eL_EQpjblrcf",
        "colab_type": "text"
      },
      "source": [
        "Y por ultimo, utilizamos un ciclo.\n",
        "Con este ciclo analizamos el directorio.\n",
        "El ciclo se repite 3 veces porque tenemos 3 locaciones, por esta razón llamamos a la funcion de densidad_poblacion() 3 veces, una por locacion."
      ]
    },
    {
      "cell_type": "code",
      "metadata": {
        "id": "be23yPT_mKyf",
        "colab_type": "code",
        "colab": {
          "base_uri": "https://localhost:8080/",
          "height": 67
        },
        "outputId": "bb8e3076-4e1c-4ddf-f286-edadbca51bce"
      },
      "source": [
        "for t in casos:\n",
        "  densidad = densidad_poblacional(t['poblacion_'], t['area_'])\n",
        "  print('En ' + t['locacion_'] + ' la densidad poblacional es: ' + str(densidad))"
      ],
      "execution_count": 16,
      "outputs": [
        {
          "output_type": "stream",
          "text": [
            "En Mexico la densidad poblacional es: 63.95883831728332\n",
            "En Guanajuato la densidad poblacional es: 191.25288332734343\n",
            "En Guanajuato la densidad poblacional es: 18.484900170562856\n"
          ],
          "name": "stdout"
        }
      ]
    }
  ]
}