{
  "nbformat": 4,
  "nbformat_minor": 0,
  "metadata": {
    "colab": {
      "name": "Untitled2.ipynb",
      "provenance": [],
      "authorship_tag": "ABX9TyPKOuvAKlt9HxnqCh8S1d2h",
      "include_colab_link": true
    },
    "kernelspec": {
      "name": "python3",
      "display_name": "Python 3"
    }
  },
  "cells": [
    {
      "cell_type": "markdown",
      "metadata": {
        "id": "view-in-github",
        "colab_type": "text"
      },
      "source": [
        "<a href=\"https://colab.research.google.com/github/Edgar-La/hacking-civico/blob/master/proyecto/proyecto-hacking-civico.ipynb\" target=\"_parent\"><img src=\"https://colab.research.google.com/assets/colab-badge.svg\" alt=\"Open In Colab\"/></a>"
      ]
    },
    {
      "cell_type": "markdown",
      "metadata": {
        "id": "k5TU7c7zxVb8"
      },
      "source": [
        "# Titulo:\n",
        "\n",
        "En este documento encontras lo siguiente:\n",
        "\n",
        "* Descripcion:\n",
        "\n",
        "* Selección y obtención de los datos\n",
        "\n",
        "* Exploración de los datos\n",
        "\n",
        "* Visualización de los datos\n",
        "\n",
        "* Conclusión \n",
        "\n",
        "* Referencias\n"
      ]
    },
    {
      "cell_type": "code",
      "metadata": {
        "id": "K2nqdAbzw8Vl"
      },
      "source": [
        ""
      ],
      "execution_count": null,
      "outputs": []
    }
  ]
}