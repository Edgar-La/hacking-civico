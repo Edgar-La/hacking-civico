{
  "nbformat": 4,
  "nbformat_minor": 0,
  "metadata": {
    "colab": {
      "name": "Untitled2.ipynb",
      "provenance": [],
      "authorship_tag": "ABX9TyPM1nUMyJh4oMXiZ8pconJZ",
      "include_colab_link": true
    },
    "kernelspec": {
      "name": "python3",
      "display_name": "Python 3"
    }
  },
  "cells": [
    {
      "cell_type": "markdown",
      "metadata": {
        "id": "view-in-github",
        "colab_type": "text"
      },
      "source": [
        "<a href=\"https://colab.research.google.com/github/Edgar-La/hacking-civico/blob/master/proyecto/proyecto-hacking-civico.ipynb\" target=\"_parent\"><img src=\"https://colab.research.google.com/assets/colab-badge.svg\" alt=\"Open In Colab\"/></a>"
      ]
    },
    {
      "cell_type": "markdown",
      "metadata": {
        "id": "k5TU7c7zxVb8"
      },
      "source": [
        "# __Titulo:__\n",
        "En este documento encontras lo siguiente:\n",
        "\n",
        "* Descripcion:\n",
        "\n",
        "* Selección y obtención de los datos\n",
        "\n",
        "* Exploración de los datos\n",
        "\n",
        "* Visualización de los datos\n",
        "\n",
        "* Conclusión \n",
        "\n",
        "* Referencias\n"
      ]
    },
    {
      "cell_type": "markdown",
      "metadata": {
        "id": "dnDExWAlzIbo"
      },
      "source": [
        "## __Descripcion.__"
      ]
    },
    {
      "cell_type": "markdown",
      "metadata": {
        "id": "2iZgq7iOzNM_"
      },
      "source": [
        "## __Seleccion y obtencion de datos.__"
      ]
    },
    {
      "cell_type": "code",
      "metadata": {
        "id": "K2nqdAbzw8Vl"
      },
      "source": [
        ""
      ],
      "execution_count": null,
      "outputs": []
    },
    {
      "cell_type": "markdown",
      "metadata": {
        "id": "jKefbChTzZj_"
      },
      "source": [
        "## __Exploracion de los datos.__"
      ]
    },
    {
      "cell_type": "code",
      "metadata": {
        "id": "Chyj_kMAzfd2"
      },
      "source": [
        ""
      ],
      "execution_count": null,
      "outputs": []
    },
    {
      "cell_type": "markdown",
      "metadata": {
        "id": "xNooQLIdzf1N"
      },
      "source": [
        "## __Visualizacion de los datos.__"
      ]
    },
    {
      "cell_type": "code",
      "metadata": {
        "id": "pkl8_grCzj7_"
      },
      "source": [
        ""
      ],
      "execution_count": null,
      "outputs": []
    },
    {
      "cell_type": "markdown",
      "metadata": {
        "id": "IMZKLOQuzkbK"
      },
      "source": [
        "## __Conclusion.__"
      ]
    },
    {
      "cell_type": "markdown",
      "metadata": {
        "id": "TnekKsQwznOA"
      },
      "source": [
        "## __Referencias.__"
      ]
    }
  ]
}