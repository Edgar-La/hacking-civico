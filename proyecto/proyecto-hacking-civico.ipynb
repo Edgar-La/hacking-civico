{
  "nbformat": 4,
  "nbformat_minor": 0,
  "metadata": {
    "colab": {
      "name": "Untitled2.ipynb",
      "provenance": [],
      "toc_visible": true,
      "authorship_tag": "ABX9TyNm9bedzYBAZMQnwIHzW4GL",
      "include_colab_link": true
    },
    "kernelspec": {
      "name": "python3",
      "display_name": "Python 3"
    }
  },
  "cells": [
    {
      "cell_type": "markdown",
      "metadata": {
        "id": "view-in-github",
        "colab_type": "text"
      },
      "source": [
        "<a href=\"https://colab.research.google.com/github/Edgar-La/hacking-civico/blob/master/proyecto/proyecto-hacking-civico.ipynb\" target=\"_parent\"><img src=\"https://colab.research.google.com/assets/colab-badge.svg\" alt=\"Open In Colab\"/></a>"
      ]
    },
    {
      "cell_type": "markdown",
      "metadata": {
        "id": "k5TU7c7zxVb8"
      },
      "source": [
        "# __Titulo:__\n",
        "En este documento encontras lo siguiente:\n",
        "\n",
        "* Descripcion:\n",
        "\n",
        "* Selección y obtención de los datos\n",
        "\n",
        "* Exploración de los datos\n",
        "\n",
        "* Visualización de los datos\n",
        "\n",
        "* Conclusión \n",
        "\n",
        "* Referencias\n"
      ]
    },
    {
      "cell_type": "markdown",
      "metadata": {
        "id": "dnDExWAlzIbo"
      },
      "source": [
        "## __Descripcion.__\n",
        "Información de los registros de la deuda pública contraída vigente (acreedor, acreditado, monto, garantías, tasas, comisiones, plazos, amortizaciones, destino, etc.).\n",
        "Auditoría Superior del Estado de Guanajuato"
      ]
    },
    {
      "cell_type": "markdown",
      "metadata": {
        "id": "2iZgq7iOzNM_"
      },
      "source": [
        "## __Seleccion y obtencion de datos.__"
      ]
    },
    {
      "cell_type": "code",
      "metadata": {
        "id": "K2nqdAbzw8Vl"
      },
      "source": [
        "#Importar paquetes de Python\n",
        "import pandas as pd\n",
        "import numpy as np\n",
        "import altair as alt\n",
        "import statistics"
      ],
      "execution_count": 50,
      "outputs": []
    },
    {
      "cell_type": "code",
      "metadata": {
        "id": "EXiUT7oaZ4B6"
      },
      "source": [
        "#Para descargar los datos\n",
        "!wget http://www.aseg.gob.mx/descarga/deuda_publica.csv"
      ],
      "execution_count": null,
      "outputs": []
    },
    {
      "cell_type": "code",
      "metadata": {
        "id": "O6eFtuo74Pyh"
      },
      "source": [
        "#Convertir datos en DataFrame\n",
        "\n",
        "# Especificamos el nombre del archivo por abrir\n",
        "nombre_archivo = 'deuda_publica.csv'\n",
        "# Utilizamos la función de Pandas para cargar un archivo CSV\n",
        "Datos = pd.read_csv(nombre_archivo, encoding = 'latin-1')"
      ],
      "execution_count": 70,
      "outputs": []
    },
    {
      "cell_type": "code",
      "metadata": {
        "id": "GEof6pOhMhC1",
        "outputId": "abca2302-2baa-459c-ee98-7c19e89cb357",
        "colab": {
          "base_uri": "https://localhost:8080/",
          "height": 446
        }
      },
      "source": [
        "# Limpieza del nombre de las columnas, remover espacios y '.'\n",
        "Datos.columns = Datos.columns.str.replace(' ', '_')\n",
        "Datos.columns = Datos.columns.str.replace('.', '')\n",
        "\n",
        "#Limpieza de lo que contienen ciertas columnas, como '$', ',', y también pasamos los NaN -> 0 con fillna(0) indicando la columna\n",
        "for t in Datos.Monto_original_contratado_en_pesos:\n",
        "    Datos.Monto_original_contratado_en_pesos = Datos.Monto_original_contratado_en_pesos.str.replace('$', '')\n",
        "    Datos.Monto_original_contratado_en_pesos = Datos.Monto_original_contratado_en_pesos.str.replace(',', '') \n",
        "Datos['Monto_original_contratado_en_pesos'] = Datos['Monto_original_contratado_en_pesos'].fillna(0)                         ### Nuevo comando  ###\n",
        "\n",
        "for t in Datos.Monto_dispuesto_en_pesos:\n",
        "    Datos.Monto_dispuesto_en_pesos = Datos.Monto_dispuesto_en_pesos.str.replace('$', '')\n",
        "    Datos.Monto_dispuesto_en_pesos = Datos.Monto_dispuesto_en_pesos.str.replace(',', '')\n",
        "    #Datos.Monto_dispuesto_en_pesos = Datos.Monto_dispuesto_en_pesos.str.replace('NaN', '0')\n",
        "    Datos.Monto_dispuesto_en_pesos = Datos.Monto_dispuesto_en_pesos.str.replace('Total', '0')\n",
        "Datos['Monto_dispuesto_en_pesos'] = Datos['Monto_dispuesto_en_pesos'].fillna(0)\n",
        "\n",
        "for t in Datos.Saldo_en_pesos\t:\n",
        "    Datos.Saldo_en_pesos = Datos.Saldo_en_pesos.str.replace('$', '')\n",
        "    Datos.Saldo_en_pesos = Datos.Saldo_en_pesos.str.replace(',', '')\n",
        "Datos['Saldo_en_pesos'] = Datos['Saldo_en_pesos'].fillna(0)\n",
        "\n",
        "Datos.head()   #Muestra cabecera"
      ],
      "execution_count": 71,
      "outputs": [
        {
          "output_type": "execute_result",
          "data": {
            "text/html": [
              "<div>\n",
              "<style scoped>\n",
              "    .dataframe tbody tr th:only-of-type {\n",
              "        vertical-align: middle;\n",
              "    }\n",
              "\n",
              "    .dataframe tbody tr th {\n",
              "        vertical-align: top;\n",
              "    }\n",
              "\n",
              "    .dataframe thead th {\n",
              "        text-align: right;\n",
              "    }\n",
              "</style>\n",
              "<table border=\"1\" class=\"dataframe\">\n",
              "  <thead>\n",
              "    <tr style=\"text-align: right;\">\n",
              "      <th></th>\n",
              "      <th>Ente_Acreditado</th>\n",
              "      <th>No_de_Crédito</th>\n",
              "      <th>No_de_inscripción_SHCP</th>\n",
              "      <th>Registro_Estatal</th>\n",
              "      <th>Ambito</th>\n",
              "      <th>Institución_Acreedora</th>\n",
              "      <th>Tipo_de_Obligación</th>\n",
              "      <th>Clase_del_titulo</th>\n",
              "      <th>Monto_original_contratado_en_pesos</th>\n",
              "      <th>Monto_dispuesto_en_pesos</th>\n",
              "      <th>Saldo_en_pesos</th>\n",
              "      <th>Tasa</th>\n",
              "      <th>Fecha_de_Contratación</th>\n",
              "      <th>Plazo_máximo_(meses)</th>\n",
              "      <th>Fecha_de_Vencimiento</th>\n",
              "      <th>Garantía</th>\n",
              "      <th>Destino</th>\n",
              "    </tr>\n",
              "  </thead>\n",
              "  <tbody>\n",
              "    <tr>\n",
              "      <th>0</th>\n",
              "      <td>Gobierno del Estado de Guanajuato</td>\n",
              "      <td>NaN</td>\n",
              "      <td>167/2002</td>\n",
              "      <td>124/02</td>\n",
              "      <td>Estatal</td>\n",
              "      <td>Banco del Bajío, S.A.</td>\n",
              "      <td>Contrato de Apertura de Crédito Simple</td>\n",
              "      <td>Pesos</td>\n",
              "      <td>233000000.00</td>\n",
              "      <td>232851337.75</td>\n",
              "      <td>15597340.75</td>\n",
              "      <td>TIIE +1.00</td>\n",
              "      <td>09/12/2002</td>\n",
              "      <td>180</td>\n",
              "      <td>27/11/2017</td>\n",
              "      <td>Participaciones Federales</td>\n",
              "      <td>Se destinará precisa y exclusivamente para fin...</td>\n",
              "    </tr>\n",
              "    <tr>\n",
              "      <th>1</th>\n",
              "      <td>Gobierno del Estado de Guanajuato</td>\n",
              "      <td>1466.0</td>\n",
              "      <td>169/02</td>\n",
              "      <td>125/02</td>\n",
              "      <td>Estatal</td>\n",
              "      <td>Banobras S.N.C</td>\n",
              "      <td>Contrato de apertura de crédito simple y const...</td>\n",
              "      <td>Pesos</td>\n",
              "      <td>289037000.00</td>\n",
              "      <td>289037000.00</td>\n",
              "      <td>52301933.78</td>\n",
              "      <td>FOAEM Nominal + 1.50</td>\n",
              "      <td>18/12/2002</td>\n",
              "      <td>240</td>\n",
              "      <td>10/03/2023</td>\n",
              "      <td>Participaciones Federales</td>\n",
              "      <td>Se destinará precisa y exclusivamente para fin...</td>\n",
              "    </tr>\n",
              "    <tr>\n",
              "      <th>2</th>\n",
              "      <td>Gobierno del Estado de Guanajuato</td>\n",
              "      <td>1467.0</td>\n",
              "      <td>169/02</td>\n",
              "      <td>125/02</td>\n",
              "      <td>Estatal</td>\n",
              "      <td>Banobras S.N.C</td>\n",
              "      <td>Contrato de apertura de crédito simple y const...</td>\n",
              "      <td>UDIS</td>\n",
              "      <td>289037000.00</td>\n",
              "      <td>289037000.00</td>\n",
              "      <td>84325399.36</td>\n",
              "      <td>FOAEM Real + 1.50</td>\n",
              "      <td>18/12/2002</td>\n",
              "      <td>240</td>\n",
              "      <td>10/03/2023</td>\n",
              "      <td>Participaciones Federales</td>\n",
              "      <td>Se destinará precisa y exclusivamente para fin...</td>\n",
              "    </tr>\n",
              "    <tr>\n",
              "      <th>3</th>\n",
              "      <td>Tarimoro</td>\n",
              "      <td>4470.0</td>\n",
              "      <td>276/2004</td>\n",
              "      <td>140/04</td>\n",
              "      <td>Municipal</td>\n",
              "      <td>Banobras S.N.C</td>\n",
              "      <td>Contrato de apertura de crédito simple y const...</td>\n",
              "      <td>Pesos</td>\n",
              "      <td>3132842.97</td>\n",
              "      <td>3132842.97</td>\n",
              "      <td>671324.13</td>\n",
              "      <td>TIIE * 1.120</td>\n",
              "      <td>11/11/2004</td>\n",
              "      <td>180</td>\n",
              "      <td>23/12/2019</td>\n",
              "      <td>Participaciones Federales</td>\n",
              "      <td>Se destinará única y exclusivamente en los sig...</td>\n",
              "    </tr>\n",
              "    <tr>\n",
              "      <th>4</th>\n",
              "      <td>Gobierno del Estado de Guanajuato</td>\n",
              "      <td>5768.0</td>\n",
              "      <td>234/2005</td>\n",
              "      <td>147/05</td>\n",
              "      <td>Estatal</td>\n",
              "      <td>Banobras S.N.C</td>\n",
              "      <td>Contrato de Apertura de Crédito Simple</td>\n",
              "      <td>Pesos</td>\n",
              "      <td>1184414400.00</td>\n",
              "      <td>1184414400.00</td>\n",
              "      <td>97109245.00</td>\n",
              "      <td>CETES 182  + 1.34</td>\n",
              "      <td>20/05/2005</td>\n",
              "      <td>216</td>\n",
              "      <td>01/02/2022</td>\n",
              "      <td>Participaciones Federales</td>\n",
              "      <td>Obra pública</td>\n",
              "    </tr>\n",
              "  </tbody>\n",
              "</table>\n",
              "</div>"
            ],
            "text/plain": [
              "                     Ente_Acreditado  ...                                            Destino\n",
              "0  Gobierno del Estado de Guanajuato  ...  Se destinará precisa y exclusivamente para fin...\n",
              "1  Gobierno del Estado de Guanajuato  ...  Se destinará precisa y exclusivamente para fin...\n",
              "2  Gobierno del Estado de Guanajuato  ...  Se destinará precisa y exclusivamente para fin...\n",
              "3                           Tarimoro  ...  Se destinará única y exclusivamente en los sig...\n",
              "4  Gobierno del Estado de Guanajuato  ...                                       Obra pública\n",
              "\n",
              "[5 rows x 17 columns]"
            ]
          },
          "metadata": {
            "tags": []
          },
          "execution_count": 71
        }
      ]
    },
    {
      "cell_type": "code",
      "metadata": {
        "id": "GhzWCGZcCrqb",
        "outputId": "6c06fbf4-dd5f-422c-d688-be7281a1199b",
        "colab": {
          "base_uri": "https://localhost:8080/",
          "height": 319
        }
      },
      "source": [
        "#Podemos notar que los valores que nos interesan siguen siendo tipo object\n",
        "Datos.dtypes"
      ],
      "execution_count": 72,
      "outputs": [
        {
          "output_type": "execute_result",
          "data": {
            "text/plain": [
              "Ente_Acreditado                        object\n",
              "No_de_Crédito                         float64\n",
              "No_de_inscripción_SHCP                 object\n",
              "Registro_Estatal                       object\n",
              "Ambito                                 object\n",
              "Institución_Acreedora                  object\n",
              "Tipo_de_Obligación                     object\n",
              "Clase_del_titulo                       object\n",
              "Monto_original_contratado_en_pesos     object\n",
              "Monto_dispuesto_en_pesos               object\n",
              "Saldo_en_pesos                         object\n",
              "Tasa                                   object\n",
              "Fecha_de_Contratación                  object\n",
              "Plazo_máximo_(meses)                   object\n",
              "Fecha_de_Vencimiento                   object\n",
              "Garantía                               object\n",
              "Destino                                object\n",
              "dtype: object"
            ]
          },
          "metadata": {
            "tags": []
          },
          "execution_count": 72
        }
      ]
    },
    {
      "cell_type": "code",
      "metadata": {
        "id": "y9H4qn9-fp_l",
        "outputId": "943672c1-5330-4956-dc07-371003704aa9",
        "colab": {
          "base_uri": "https://localhost:8080/",
          "height": 319
        }
      },
      "source": [
        "#Convertimos las columnas que nos interesan a numeric con pd.to_numeric()\n",
        "Datos['Monto_original_contratado_en_pesos'] = pd.to_numeric(Datos['Monto_original_contratado_en_pesos'])\n",
        "Datos['Monto_dispuesto_en_pesos'] = pd.to_numeric(Datos['Monto_dispuesto_en_pesos'])\n",
        "Datos['Saldo_en_pesos'] = pd.to_numeric(Datos['Saldo_en_pesos'])\n",
        "\n",
        "Datos.dtypes"
      ],
      "execution_count": 73,
      "outputs": [
        {
          "output_type": "execute_result",
          "data": {
            "text/plain": [
              "Ente_Acreditado                        object\n",
              "No_de_Crédito                         float64\n",
              "No_de_inscripción_SHCP                 object\n",
              "Registro_Estatal                       object\n",
              "Ambito                                 object\n",
              "Institución_Acreedora                  object\n",
              "Tipo_de_Obligación                     object\n",
              "Clase_del_titulo                       object\n",
              "Monto_original_contratado_en_pesos    float64\n",
              "Monto_dispuesto_en_pesos              float64\n",
              "Saldo_en_pesos                        float64\n",
              "Tasa                                   object\n",
              "Fecha_de_Contratación                  object\n",
              "Plazo_máximo_(meses)                   object\n",
              "Fecha_de_Vencimiento                   object\n",
              "Garantía                               object\n",
              "Destino                                object\n",
              "dtype: object"
            ]
          },
          "metadata": {
            "tags": []
          },
          "execution_count": 73
        }
      ]
    },
    {
      "cell_type": "markdown",
      "metadata": {
        "id": "jKefbChTzZj_"
      },
      "source": [
        "## __Exploracion de los datos.__"
      ]
    },
    {
      "cell_type": "code",
      "metadata": {
        "id": "Chyj_kMAzfd2",
        "outputId": "4f4df714-f8e4-4ce2-d349-b7dadf86dc54",
        "colab": {
          "base_uri": "https://localhost:8080/",
          "height": 184
        }
      },
      "source": [
        "#Datos.groupby('Ente_Acreditado').sum()\n",
        "Datos.groupby('Institución_Acreedora').Ente_Acreditado.count()      #Filtrado por institucion acredora\n",
        "#Datos.query('Ente_Acreditado == \"Guanajuato\"').head()"
      ],
      "execution_count": 74,
      "outputs": [
        {
          "output_type": "execute_result",
          "data": {
            "text/plain": [
              "Institución_Acreedora\n",
              "BBVA Bancomer                                             6\n",
              "Banamex                                                   7\n",
              "Banco del Bajío, S.A.                                    19\n",
              "Banobras S.N.C                                           19\n",
              "Banorte                                                   1\n",
              "Concesionaria del Acueducto El Zapotillo S.A. de C.V.     1\n",
              "HSBC                                                      2\n",
              "Scotiabank                                                1\n",
              "Name: Ente_Acreditado, dtype: int64"
            ]
          },
          "metadata": {
            "tags": []
          },
          "execution_count": 74
        }
      ]
    },
    {
      "cell_type": "code",
      "metadata": {
        "id": "1zPfEw6dGaWw",
        "outputId": "5f834a7e-cd9c-4ef1-9d63-d24b7f106636",
        "colab": {
          "base_uri": "https://localhost:8080/",
          "height": 235
        }
      },
      "source": [
        "#Filtro para Guanajuato\n",
        "Datos.query('Ente_Acreditado == \"Gobierno del Estado de Guanajuato\"').Monto_original_contratado_en_pesos.value_counts()"
      ],
      "execution_count": 80,
      "outputs": [
        {
          "output_type": "execute_result",
          "data": {
            "text/plain": [
              "1.184414e+09    5\n",
              "5.000000e+08    5\n",
              "2.890370e+08    2\n",
              "1.700000e+09    1\n",
              "3.367197e+08    1\n",
              "2.000000e+09    1\n",
              "2.359502e+08    1\n",
              "6.289892e+08    1\n",
              "2.152000e+09    1\n",
              "2.330000e+08    1\n",
              "6.440000e+08    1\n",
              "1.600000e+09    1\n",
              "Name: Monto_original_contratado_en_pesos, dtype: int64"
            ]
          },
          "metadata": {
            "tags": []
          },
          "execution_count": 80
        }
      ]
    },
    {
      "cell_type": "code",
      "metadata": {
        "id": "wmID0dXTIS8H",
        "outputId": "546edb01-cffa-46d5-9fef-0487e828d95f",
        "colab": {
          "base_uri": "https://localhost:8080/",
          "height": 795
        }
      },
      "source": [
        "Datos_L = Datos.groupby('Ente_Acreditado').Monto_original_contratado_en_pesos.describe();\n",
        "#Datos_L = Datos_L.convert_dtypes;\n",
        "Datos_L"
      ],
      "execution_count": 81,
      "outputs": [
        {
          "output_type": "execute_result",
          "data": {
            "text/html": [
              "<div>\n",
              "<style scoped>\n",
              "    .dataframe tbody tr th:only-of-type {\n",
              "        vertical-align: middle;\n",
              "    }\n",
              "\n",
              "    .dataframe tbody tr th {\n",
              "        vertical-align: top;\n",
              "    }\n",
              "\n",
              "    .dataframe thead th {\n",
              "        text-align: right;\n",
              "    }\n",
              "</style>\n",
              "<table border=\"1\" class=\"dataframe\">\n",
              "  <thead>\n",
              "    <tr style=\"text-align: right;\">\n",
              "      <th></th>\n",
              "      <th>count</th>\n",
              "      <th>mean</th>\n",
              "      <th>std</th>\n",
              "      <th>min</th>\n",
              "      <th>25%</th>\n",
              "      <th>50%</th>\n",
              "      <th>75%</th>\n",
              "      <th>max</th>\n",
              "    </tr>\n",
              "    <tr>\n",
              "      <th>Ente_Acreditado</th>\n",
              "      <th></th>\n",
              "      <th></th>\n",
              "      <th></th>\n",
              "      <th></th>\n",
              "      <th></th>\n",
              "      <th></th>\n",
              "      <th></th>\n",
              "      <th></th>\n",
              "    </tr>\n",
              "  </thead>\n",
              "  <tbody>\n",
              "    <tr>\n",
              "      <th>Abasolo</th>\n",
              "      <td>1.0</td>\n",
              "      <td>1.300000e+07</td>\n",
              "      <td>NaN</td>\n",
              "      <td>1.300000e+07</td>\n",
              "      <td>1.300000e+07</td>\n",
              "      <td>1.300000e+07</td>\n",
              "      <td>1.300000e+07</td>\n",
              "      <td>1.300000e+07</td>\n",
              "    </tr>\n",
              "    <tr>\n",
              "      <th>Apaseo el Grande</th>\n",
              "      <td>1.0</td>\n",
              "      <td>1.980342e+07</td>\n",
              "      <td>NaN</td>\n",
              "      <td>1.980342e+07</td>\n",
              "      <td>1.980342e+07</td>\n",
              "      <td>1.980342e+07</td>\n",
              "      <td>1.980342e+07</td>\n",
              "      <td>1.980342e+07</td>\n",
              "    </tr>\n",
              "    <tr>\n",
              "      <th>Celaya</th>\n",
              "      <td>1.0</td>\n",
              "      <td>3.500000e+08</td>\n",
              "      <td>NaN</td>\n",
              "      <td>3.500000e+08</td>\n",
              "      <td>3.500000e+08</td>\n",
              "      <td>3.500000e+08</td>\n",
              "      <td>3.500000e+08</td>\n",
              "      <td>3.500000e+08</td>\n",
              "    </tr>\n",
              "    <tr>\n",
              "      <th>Comisión Estatal del Agua de Guanajuato\\nSistema de Agua Potable y Alcantarillado de León, Gto.</th>\n",
              "      <td>1.0</td>\n",
              "      <td>3.310000e+09</td>\n",
              "      <td>NaN</td>\n",
              "      <td>3.310000e+09</td>\n",
              "      <td>3.310000e+09</td>\n",
              "      <td>3.310000e+09</td>\n",
              "      <td>3.310000e+09</td>\n",
              "      <td>3.310000e+09</td>\n",
              "    </tr>\n",
              "    <tr>\n",
              "      <th>Comité Municipal de Agua Potable y Alcantarillado de Salamanca, Gto.</th>\n",
              "      <td>1.0</td>\n",
              "      <td>4.300000e+07</td>\n",
              "      <td>NaN</td>\n",
              "      <td>4.300000e+07</td>\n",
              "      <td>4.300000e+07</td>\n",
              "      <td>4.300000e+07</td>\n",
              "      <td>4.300000e+07</td>\n",
              "      <td>4.300000e+07</td>\n",
              "    </tr>\n",
              "    <tr>\n",
              "      <th>Comonfort</th>\n",
              "      <td>1.0</td>\n",
              "      <td>1.986088e+07</td>\n",
              "      <td>NaN</td>\n",
              "      <td>1.986088e+07</td>\n",
              "      <td>1.986088e+07</td>\n",
              "      <td>1.986088e+07</td>\n",
              "      <td>1.986088e+07</td>\n",
              "      <td>1.986088e+07</td>\n",
              "    </tr>\n",
              "    <tr>\n",
              "      <th>Cuerámaro</th>\n",
              "      <td>2.0</td>\n",
              "      <td>7.750000e+06</td>\n",
              "      <td>6.363961e+05</td>\n",
              "      <td>7.300000e+06</td>\n",
              "      <td>7.525000e+06</td>\n",
              "      <td>7.750000e+06</td>\n",
              "      <td>7.975000e+06</td>\n",
              "      <td>8.200000e+06</td>\n",
              "    </tr>\n",
              "    <tr>\n",
              "      <th>Doctor Mora</th>\n",
              "      <td>1.0</td>\n",
              "      <td>7.493849e+06</td>\n",
              "      <td>NaN</td>\n",
              "      <td>7.493849e+06</td>\n",
              "      <td>7.493849e+06</td>\n",
              "      <td>7.493849e+06</td>\n",
              "      <td>7.493849e+06</td>\n",
              "      <td>7.493849e+06</td>\n",
              "    </tr>\n",
              "    <tr>\n",
              "      <th>Gobierno del Estado de Guanajuato</th>\n",
              "      <td>21.0</td>\n",
              "      <td>8.824193e+08</td>\n",
              "      <td>5.997558e+08</td>\n",
              "      <td>2.330000e+08</td>\n",
              "      <td>5.000000e+08</td>\n",
              "      <td>6.289892e+08</td>\n",
              "      <td>1.184414e+09</td>\n",
              "      <td>2.152000e+09</td>\n",
              "    </tr>\n",
              "    <tr>\n",
              "      <th>Guanajuato</th>\n",
              "      <td>2.0</td>\n",
              "      <td>2.297131e+07</td>\n",
              "      <td>1.286031e+07</td>\n",
              "      <td>1.387770e+07</td>\n",
              "      <td>1.842450e+07</td>\n",
              "      <td>2.297131e+07</td>\n",
              "      <td>2.751811e+07</td>\n",
              "      <td>3.206492e+07</td>\n",
              "    </tr>\n",
              "    <tr>\n",
              "      <th>Irapuato</th>\n",
              "      <td>2.0</td>\n",
              "      <td>2.307426e+08</td>\n",
              "      <td>4.347663e+07</td>\n",
              "      <td>2.000000e+08</td>\n",
              "      <td>2.153713e+08</td>\n",
              "      <td>2.307426e+08</td>\n",
              "      <td>2.461139e+08</td>\n",
              "      <td>2.614852e+08</td>\n",
              "    </tr>\n",
              "    <tr>\n",
              "      <th>Jerécuaro</th>\n",
              "      <td>2.0</td>\n",
              "      <td>4.382506e+06</td>\n",
              "      <td>0.000000e+00</td>\n",
              "      <td>4.382506e+06</td>\n",
              "      <td>4.382506e+06</td>\n",
              "      <td>4.382506e+06</td>\n",
              "      <td>4.382506e+06</td>\n",
              "      <td>4.382506e+06</td>\n",
              "    </tr>\n",
              "    <tr>\n",
              "      <th>Junta Municipal de Agua Potable y Alcantarillado de Celaya, Gto.</th>\n",
              "      <td>1.0</td>\n",
              "      <td>2.535359e+07</td>\n",
              "      <td>NaN</td>\n",
              "      <td>2.535359e+07</td>\n",
              "      <td>2.535359e+07</td>\n",
              "      <td>2.535359e+07</td>\n",
              "      <td>2.535359e+07</td>\n",
              "      <td>2.535359e+07</td>\n",
              "    </tr>\n",
              "    <tr>\n",
              "      <th>León</th>\n",
              "      <td>3.0</td>\n",
              "      <td>4.810000e+08</td>\n",
              "      <td>1.875926e+08</td>\n",
              "      <td>2.710000e+08</td>\n",
              "      <td>4.055000e+08</td>\n",
              "      <td>5.400000e+08</td>\n",
              "      <td>5.860000e+08</td>\n",
              "      <td>6.320000e+08</td>\n",
              "    </tr>\n",
              "    <tr>\n",
              "      <th>Pénjamo</th>\n",
              "      <td>1.0</td>\n",
              "      <td>3.500000e+07</td>\n",
              "      <td>NaN</td>\n",
              "      <td>3.500000e+07</td>\n",
              "      <td>3.500000e+07</td>\n",
              "      <td>3.500000e+07</td>\n",
              "      <td>3.500000e+07</td>\n",
              "      <td>3.500000e+07</td>\n",
              "    </tr>\n",
              "    <tr>\n",
              "      <th>Salamanca</th>\n",
              "      <td>2.0</td>\n",
              "      <td>5.800000e+07</td>\n",
              "      <td>1.697056e+07</td>\n",
              "      <td>4.600000e+07</td>\n",
              "      <td>5.200000e+07</td>\n",
              "      <td>5.800000e+07</td>\n",
              "      <td>6.400000e+07</td>\n",
              "      <td>7.000000e+07</td>\n",
              "    </tr>\n",
              "    <tr>\n",
              "      <th>San Francisco del Rincón</th>\n",
              "      <td>2.0</td>\n",
              "      <td>2.383334e+07</td>\n",
              "      <td>2.592729e+06</td>\n",
              "      <td>2.200000e+07</td>\n",
              "      <td>2.291667e+07</td>\n",
              "      <td>2.383334e+07</td>\n",
              "      <td>2.475000e+07</td>\n",
              "      <td>2.566667e+07</td>\n",
              "    </tr>\n",
              "    <tr>\n",
              "      <th>San Miguel de Allende</th>\n",
              "      <td>2.0</td>\n",
              "      <td>4.074666e+07</td>\n",
              "      <td>6.048109e+06</td>\n",
              "      <td>3.647000e+07</td>\n",
              "      <td>3.860833e+07</td>\n",
              "      <td>4.074666e+07</td>\n",
              "      <td>4.288499e+07</td>\n",
              "      <td>4.502332e+07</td>\n",
              "    </tr>\n",
              "    <tr>\n",
              "      <th>Santa Cruz de Juventino Rosas</th>\n",
              "      <td>1.0</td>\n",
              "      <td>3.500000e+07</td>\n",
              "      <td>NaN</td>\n",
              "      <td>3.500000e+07</td>\n",
              "      <td>3.500000e+07</td>\n",
              "      <td>3.500000e+07</td>\n",
              "      <td>3.500000e+07</td>\n",
              "      <td>3.500000e+07</td>\n",
              "    </tr>\n",
              "    <tr>\n",
              "      <th>Silao de la Victoria</th>\n",
              "      <td>2.0</td>\n",
              "      <td>4.100000e+07</td>\n",
              "      <td>1.555635e+07</td>\n",
              "      <td>3.000000e+07</td>\n",
              "      <td>3.550000e+07</td>\n",
              "      <td>4.100000e+07</td>\n",
              "      <td>4.650000e+07</td>\n",
              "      <td>5.200000e+07</td>\n",
              "    </tr>\n",
              "    <tr>\n",
              "      <th>Sistema de Agua Potable y Alcantarillado de León, Gto.</th>\n",
              "      <td>1.0</td>\n",
              "      <td>1.101177e+08</td>\n",
              "      <td>NaN</td>\n",
              "      <td>1.101177e+08</td>\n",
              "      <td>1.101177e+08</td>\n",
              "      <td>1.101177e+08</td>\n",
              "      <td>1.101177e+08</td>\n",
              "      <td>1.101177e+08</td>\n",
              "    </tr>\n",
              "    <tr>\n",
              "      <th>Tarandacuao</th>\n",
              "      <td>1.0</td>\n",
              "      <td>7.002824e+06</td>\n",
              "      <td>NaN</td>\n",
              "      <td>7.002824e+06</td>\n",
              "      <td>7.002824e+06</td>\n",
              "      <td>7.002824e+06</td>\n",
              "      <td>7.002824e+06</td>\n",
              "      <td>7.002824e+06</td>\n",
              "    </tr>\n",
              "    <tr>\n",
              "      <th>Tarimoro</th>\n",
              "      <td>2.0</td>\n",
              "      <td>3.990627e+06</td>\n",
              "      <td>1.213090e+06</td>\n",
              "      <td>3.132843e+06</td>\n",
              "      <td>3.561735e+06</td>\n",
              "      <td>3.990627e+06</td>\n",
              "      <td>4.419520e+06</td>\n",
              "      <td>4.848412e+06</td>\n",
              "    </tr>\n",
              "    <tr>\n",
              "      <th>Uriangato</th>\n",
              "      <td>1.0</td>\n",
              "      <td>1.494784e+07</td>\n",
              "      <td>NaN</td>\n",
              "      <td>1.494784e+07</td>\n",
              "      <td>1.494784e+07</td>\n",
              "      <td>1.494784e+07</td>\n",
              "      <td>1.494784e+07</td>\n",
              "      <td>1.494784e+07</td>\n",
              "    </tr>\n",
              "    <tr>\n",
              "      <th>Valle de Santiago</th>\n",
              "      <td>1.0</td>\n",
              "      <td>6.929676e+06</td>\n",
              "      <td>NaN</td>\n",
              "      <td>6.929676e+06</td>\n",
              "      <td>6.929676e+06</td>\n",
              "      <td>6.929676e+06</td>\n",
              "      <td>6.929676e+06</td>\n",
              "      <td>6.929676e+06</td>\n",
              "    </tr>\n",
              "  </tbody>\n",
              "</table>\n",
              "</div>"
            ],
            "text/plain": [
              "                                                    count  ...           max\n",
              "Ente_Acreditado                                            ...              \n",
              "Abasolo                                               1.0  ...  1.300000e+07\n",
              "Apaseo el Grande                                      1.0  ...  1.980342e+07\n",
              "Celaya                                                1.0  ...  3.500000e+08\n",
              "Comisión Estatal del Agua de Guanajuato\\nSistem...    1.0  ...  3.310000e+09\n",
              "Comité Municipal de Agua Potable y Alcantarilla...    1.0  ...  4.300000e+07\n",
              "Comonfort                                             1.0  ...  1.986088e+07\n",
              "Cuerámaro                                             2.0  ...  8.200000e+06\n",
              "Doctor Mora                                           1.0  ...  7.493849e+06\n",
              "Gobierno del Estado de Guanajuato                    21.0  ...  2.152000e+09\n",
              "Guanajuato                                            2.0  ...  3.206492e+07\n",
              "Irapuato                                              2.0  ...  2.614852e+08\n",
              "Jerécuaro                                             2.0  ...  4.382506e+06\n",
              "Junta Municipal de Agua Potable y Alcantarillad...    1.0  ...  2.535359e+07\n",
              "León                                                  3.0  ...  6.320000e+08\n",
              "Pénjamo                                               1.0  ...  3.500000e+07\n",
              "Salamanca                                             2.0  ...  7.000000e+07\n",
              "San Francisco del Rincón                              2.0  ...  2.566667e+07\n",
              "San Miguel de Allende                                 2.0  ...  4.502332e+07\n",
              "Santa Cruz de Juventino Rosas                         1.0  ...  3.500000e+07\n",
              "Silao de la Victoria                                  2.0  ...  5.200000e+07\n",
              "Sistema de Agua Potable y Alcantarillado de Leó...    1.0  ...  1.101177e+08\n",
              "Tarandacuao                                           1.0  ...  7.002824e+06\n",
              "Tarimoro                                              2.0  ...  4.848412e+06\n",
              "Uriangato                                             1.0  ...  1.494784e+07\n",
              "Valle de Santiago                                     1.0  ...  6.929676e+06\n",
              "\n",
              "[25 rows x 8 columns]"
            ]
          },
          "metadata": {
            "tags": []
          },
          "execution_count": 81
        }
      ]
    },
    {
      "cell_type": "code",
      "metadata": {
        "id": "eDq2oPUPLNBx",
        "outputId": "07a38a18-8dbf-4f8e-9f75-a511eb1a27b5",
        "colab": {
          "base_uri": "https://localhost:8080/",
          "height": 823
        }
      },
      "source": [
        "Datos_M = Datos.groupby('Ente_Acreditado').Monto_original_contratado_en_pesos.value_counts()\n",
        "#Datos_M = pd.DataFrame(data = Datos_M);\n",
        "Datos_M"
      ],
      "execution_count": 82,
      "outputs": [
        {
          "output_type": "execute_result",
          "data": {
            "text/plain": [
              "Ente_Acreditado                                                                                  Monto_original_contratado_en_pesos\n",
              "Abasolo                                                                                          1.300000e+07                          1\n",
              "Apaseo el Grande                                                                                 1.980342e+07                          1\n",
              "Celaya                                                                                           3.500000e+08                          1\n",
              "Comisión Estatal del Agua de Guanajuato\\nSistema de Agua Potable y Alcantarillado de León, Gto.  3.310000e+09                          1\n",
              "Comité Municipal de Agua Potable y Alcantarillado de Salamanca, Gto.                             4.300000e+07                          1\n",
              "Comonfort                                                                                        1.986088e+07                          1\n",
              "Cuerámaro                                                                                        7.300000e+06                          1\n",
              "                                                                                                 8.200000e+06                          1\n",
              "Doctor Mora                                                                                      7.493849e+06                          1\n",
              "Gobierno del Estado de Guanajuato                                                                5.000000e+08                          5\n",
              "                                                                                                 1.184414e+09                          5\n",
              "                                                                                                 2.890370e+08                          2\n",
              "                                                                                                 2.330000e+08                          1\n",
              "                                                                                                 2.359502e+08                          1\n",
              "                                                                                                 3.367197e+08                          1\n",
              "                                                                                                 6.289892e+08                          1\n",
              "                                                                                                 6.440000e+08                          1\n",
              "                                                                                                 1.600000e+09                          1\n",
              "                                                                                                 1.700000e+09                          1\n",
              "                                                                                                 2.000000e+09                          1\n",
              "                                                                                                 2.152000e+09                          1\n",
              "Guanajuato                                                                                       1.387770e+07                          1\n",
              "                                                                                                 3.206492e+07                          1\n",
              "Irapuato                                                                                         2.000000e+08                          1\n",
              "                                                                                                 2.614852e+08                          1\n",
              "Jerécuaro                                                                                        4.382506e+06                          2\n",
              "Junta Municipal de Agua Potable y Alcantarillado de Celaya, Gto.                                 2.535359e+07                          1\n",
              "León                                                                                             2.710000e+08                          1\n",
              "                                                                                                 5.400000e+08                          1\n",
              "                                                                                                 6.320000e+08                          1\n",
              "Pénjamo                                                                                          3.500000e+07                          1\n",
              "Salamanca                                                                                        4.600000e+07                          1\n",
              "                                                                                                 7.000000e+07                          1\n",
              "San Francisco del Rincón                                                                         2.200000e+07                          1\n",
              "                                                                                                 2.566667e+07                          1\n",
              "San Miguel de Allende                                                                            3.647000e+07                          1\n",
              "                                                                                                 4.502332e+07                          1\n",
              "Santa Cruz de Juventino Rosas                                                                    3.500000e+07                          1\n",
              "Silao de la Victoria                                                                             3.000000e+07                          1\n",
              "                                                                                                 5.200000e+07                          1\n",
              "Sistema de Agua Potable y Alcantarillado de León, Gto.                                           1.101177e+08                          1\n",
              "Tarandacuao                                                                                      7.002824e+06                          1\n",
              "Tarimoro                                                                                         3.132843e+06                          1\n",
              "                                                                                                 4.848412e+06                          1\n",
              "Uriangato                                                                                        1.494784e+07                          1\n",
              "Valle de Santiago                                                                                6.929676e+06                          1\n",
              "Name: Monto_original_contratado_en_pesos, dtype: int64"
            ]
          },
          "metadata": {
            "tags": []
          },
          "execution_count": 82
        }
      ]
    },
    {
      "cell_type": "code",
      "metadata": {
        "id": "mCre8p-ESel4"
      },
      "source": [
        "#Datos_K = Datos.query('Ente_Acreditado == \"Guanajuato\"').Monto_dispuesto_en_pesos.value_counts()\n",
        "#Datos_K"
      ],
      "execution_count": null,
      "outputs": []
    },
    {
      "cell_type": "markdown",
      "metadata": {
        "id": "xNooQLIdzf1N"
      },
      "source": [
        "## __Visualizacion de los datos.__"
      ]
    },
    {
      "cell_type": "code",
      "metadata": {
        "id": "pkl8_grCzj7_",
        "outputId": "b1f16d87-f7d6-48c7-8155-3ef9e1592e5e",
        "colab": {
          "base_uri": "https://localhost:8080/",
          "height": 624
        }
      },
      "source": [
        "Grafico_1 = alt.Chart(Datos).mark_bar().encode(\n",
        "    x = alt.X('Fecha_de_Vencimiento:N'),\n",
        "    y = alt.Y('Ente_Acreditado:N'),\n",
        "    color = 'Ente_Acreditado',\n",
        ")\n",
        "Grafico_1"
      ],
      "execution_count": 83,
      "outputs": [
        {
          "output_type": "execute_result",
          "data": {
            "text/plain": [
              "alt.Chart(...)"
            ],
            "text/html": [
              "\n",
              "<div id=\"altair-viz-2d51693d28384dda9704a3b8de5719d6\"></div>\n",
              "<script type=\"text/javascript\">\n",
              "  (function(spec, embedOpt){\n",
              "    let outputDiv = document.currentScript.previousElementSibling;\n",
              "    if (outputDiv.id !== \"altair-viz-2d51693d28384dda9704a3b8de5719d6\") {\n",
              "      outputDiv = document.getElementById(\"altair-viz-2d51693d28384dda9704a3b8de5719d6\");\n",
              "    }\n",
              "    const paths = {\n",
              "      \"vega\": \"https://cdn.jsdelivr.net/npm//vega@5?noext\",\n",
              "      \"vega-lib\": \"https://cdn.jsdelivr.net/npm//vega-lib?noext\",\n",
              "      \"vega-lite\": \"https://cdn.jsdelivr.net/npm//vega-lite@4.8.1?noext\",\n",
              "      \"vega-embed\": \"https://cdn.jsdelivr.net/npm//vega-embed@6?noext\",\n",
              "    };\n",
              "\n",
              "    function loadScript(lib) {\n",
              "      return new Promise(function(resolve, reject) {\n",
              "        var s = document.createElement('script');\n",
              "        s.src = paths[lib];\n",
              "        s.async = true;\n",
              "        s.onload = () => resolve(paths[lib]);\n",
              "        s.onerror = () => reject(`Error loading script: ${paths[lib]}`);\n",
              "        document.getElementsByTagName(\"head\")[0].appendChild(s);\n",
              "      });\n",
              "    }\n",
              "\n",
              "    function showError(err) {\n",
              "      outputDiv.innerHTML = `<div class=\"error\" style=\"color:red;\">${err}</div>`;\n",
              "      throw err;\n",
              "    }\n",
              "\n",
              "    function displayChart(vegaEmbed) {\n",
              "      vegaEmbed(outputDiv, spec, embedOpt)\n",
              "        .catch(err => showError(`Javascript Error: ${err.message}<br>This usually means there's a typo in your chart specification. See the javascript console for the full traceback.`));\n",
              "    }\n",
              "\n",
              "    if(typeof define === \"function\" && define.amd) {\n",
              "      requirejs.config({paths});\n",
              "      require([\"vega-embed\"], displayChart, err => showError(`Error loading script: ${err.message}`));\n",
              "    } else if (typeof vegaEmbed === \"function\") {\n",
              "      displayChart(vegaEmbed);\n",
              "    } else {\n",
              "      loadScript(\"vega\")\n",
              "        .then(() => loadScript(\"vega-lite\"))\n",
              "        .then(() => loadScript(\"vega-embed\"))\n",
              "        .catch(showError)\n",
              "        .then(() => displayChart(vegaEmbed));\n",
              "    }\n",
              "  })({\"config\": {\"view\": {\"continuousWidth\": 400, \"continuousHeight\": 300}}, \"data\": {\"name\": \"data-5662e0040bea0a393c0ae52fc23c4a09\"}, \"mark\": \"bar\", \"encoding\": {\"color\": {\"type\": \"nominal\", \"field\": \"Ente_Acreditado\"}, \"x\": {\"type\": \"nominal\", \"field\": \"Fecha_de_Vencimiento\"}, \"y\": {\"type\": \"nominal\", \"field\": \"Ente_Acreditado\"}}, \"$schema\": \"https://vega.github.io/schema/vega-lite/v4.8.1.json\", \"datasets\": {\"data-5662e0040bea0a393c0ae52fc23c4a09\": [{\"Ente_Acreditado\": \"Gobierno del Estado de Guanajuato\", \"No_de_Cr\\u00e9dito\": null, \"No_de_inscripci\\u00f3n_SHCP\": \"167/2002\", \"Registro_Estatal\": \"124/02\", \"Ambito\": \"Estatal\", \"Instituci\\u00f3n_Acreedora\": \"Banco del Baj\\u00edo, S.A.\", \"Tipo_de_Obligaci\\u00f3n\": \"Contrato de Apertura de Cr\\u00e9dito Simple\", \"Clase_del_titulo\": \"Pesos\", \"Monto_original_contratado_en_pesos\": 233000000.0, \"Monto_dispuesto_en_pesos\": 232851337.75, \"Saldo_en_pesos\": 15597340.75, \"Tasa\": \"TIIE +1.00\", \"Fecha_de_Contrataci\\u00f3n\": \"09/12/2002\", \"Plazo_m\\u00e1ximo_(meses)\": \"180\", \"Fecha_de_Vencimiento\": \"27/11/2017\", \"Garant\\u00eda\": \"Participaciones Federales\", \"Destino\": \"Se destinar\\u00e1 precisa y exclusivamente para financiar el siguiente paquete de obras de infraestructura: Carretera Silao-San Felipe, Libramiento Sur de Celaya y la construcci\\u00f3n de los Puentes Carreteros en Santa Ana del Conde, la Ladrillera, San Antonio el Chico y Aldama.\"}, {\"Ente_Acreditado\": \"Gobierno del Estado de Guanajuato\", \"No_de_Cr\\u00e9dito\": 1466.0, \"No_de_inscripci\\u00f3n_SHCP\": \"169/02\", \"Registro_Estatal\": \"125/02\", \"Ambito\": \"Estatal\", \"Instituci\\u00f3n_Acreedora\": \"Banobras S.N.C\", \"Tipo_de_Obligaci\\u00f3n\": \"Contrato de apertura de cr\\u00e9dito simple y constituci\\u00f3n de garant\\u00edas\", \"Clase_del_titulo\": \"Pesos\", \"Monto_original_contratado_en_pesos\": 289037000.0, \"Monto_dispuesto_en_pesos\": 289037000.0, \"Saldo_en_pesos\": 52301933.78, \"Tasa\": \"FOAEM Nominal + 1.50\", \"Fecha_de_Contrataci\\u00f3n\": \"18/12/2002\", \"Plazo_m\\u00e1ximo_(meses)\": \"240\", \"Fecha_de_Vencimiento\": \"10/03/2023\", \"Garant\\u00eda\": \"Participaciones Federales\", \"Destino\": \"Se destinar\\u00e1 precisa y exclusivamente para financiar el siguiente paquete de obras de infraestructura: Carretera Silao-San Felipe, Libramiento Sur de Celaya y la construcci\\u00f3n de los Puentes Carreteros en Santa Ana del Conde, la Ladrillera, San Antonio el Chico y Aldama.\"}, {\"Ente_Acreditado\": \"Gobierno del Estado de Guanajuato\", \"No_de_Cr\\u00e9dito\": 1467.0, \"No_de_inscripci\\u00f3n_SHCP\": \"169/02\", \"Registro_Estatal\": \"125/02\", \"Ambito\": \"Estatal\", \"Instituci\\u00f3n_Acreedora\": \"Banobras S.N.C\", \"Tipo_de_Obligaci\\u00f3n\": \"Contrato de apertura de cr\\u00e9dito simple y constituci\\u00f3n de garant\\u00edas\", \"Clase_del_titulo\": \"UDIS\", \"Monto_original_contratado_en_pesos\": 289037000.0, \"Monto_dispuesto_en_pesos\": 289037000.0, \"Saldo_en_pesos\": 84325399.36, \"Tasa\": \"FOAEM Real + 1.50\", \"Fecha_de_Contrataci\\u00f3n\": \"18/12/2002\", \"Plazo_m\\u00e1ximo_(meses)\": \"240\", \"Fecha_de_Vencimiento\": \"10/03/2023\", \"Garant\\u00eda\": \"Participaciones Federales\", \"Destino\": \"Se destinar\\u00e1 precisa y exclusivamente para financiar el siguiente paquete de obras de infraestructura: Carretera Silao-San Felipe, Libramiento Sur de Celaya y la construcci\\u00f3n de los Puentes Carreteros en Santa Ana del Conde, la Ladrillera, San Antonio el Chico y Aldama.\"}, {\"Ente_Acreditado\": \"Tarimoro\", \"No_de_Cr\\u00e9dito\": 4470.0, \"No_de_inscripci\\u00f3n_SHCP\": \"276/2004\", \"Registro_Estatal\": \"140/04\", \"Ambito\": \"Municipal\", \"Instituci\\u00f3n_Acreedora\": \"Banobras S.N.C\", \"Tipo_de_Obligaci\\u00f3n\": \"Contrato de apertura de cr\\u00e9dito simple y constituci\\u00f3n de garant\\u00edas\", \"Clase_del_titulo\": \"Pesos\", \"Monto_original_contratado_en_pesos\": 3132842.97, \"Monto_dispuesto_en_pesos\": 3132842.97, \"Saldo_en_pesos\": 671324.13, \"Tasa\": \"TIIE * 1.120\", \"Fecha_de_Contrataci\\u00f3n\": \"11/11/2004\", \"Plazo_m\\u00e1ximo_(meses)\": \"180\", \"Fecha_de_Vencimiento\": \"23/12/2019\", \"Garant\\u00eda\": \"Participaciones Federales\", \"Destino\": \"Se destinar\\u00e1 \\u00fanica y exclusivamente en los siguientes t\\u00e9rminos: $15'000,000.00 (Quince millones de pesos 00/100 M.N) para aplicarlos a la reestructuraci\\u00f3n del cr\\u00e9dito autorizado mediante decreto n\\u00famero 190, expedido por la Quincuag\\u00e9sima Octava Legislatura y publicado en el Peri\\u00f3dico Oficial del Gobierno del Estado n\\u00famero 52, segunda parte, de fecha 1\\u00b0 de abril del a\\u00f1o 2003; $3'000,000.00 (Tres millones de pesos 00/100 M.N.) para cubrir parcialmente el costo de pavimentaci\\u00f3n de la carretera Tarimoro-Cerro Prieto, en el Municipio de Tarimoro, Gto; y $955,750.12 (Novecientos cincuenta y cinco mil setecientos cincuenta pesos 12/100 M.N.) para el pago de los accesorios financieros\"}, {\"Ente_Acreditado\": \"Gobierno del Estado de Guanajuato\", \"No_de_Cr\\u00e9dito\": 5768.0, \"No_de_inscripci\\u00f3n_SHCP\": \"234/2005\", \"Registro_Estatal\": \"147/05\", \"Ambito\": \"Estatal\", \"Instituci\\u00f3n_Acreedora\": \"Banobras S.N.C\", \"Tipo_de_Obligaci\\u00f3n\": \"Contrato de Apertura de Cr\\u00e9dito Simple\", \"Clase_del_titulo\": \"Pesos\", \"Monto_original_contratado_en_pesos\": 1184414400.0, \"Monto_dispuesto_en_pesos\": 1184414400.0, \"Saldo_en_pesos\": 97109245.0, \"Tasa\": \"CETES 182  + 1.34\", \"Fecha_de_Contrataci\\u00f3n\": \"20/05/2005\", \"Plazo_m\\u00e1ximo_(meses)\": \"216\", \"Fecha_de_Vencimiento\": \"01/02/2022\", \"Garant\\u00eda\": \"Participaciones Federales\", \"Destino\": \"Obra p\\u00fablica\"}, {\"Ente_Acreditado\": \"Gobierno del Estado de Guanajuato\", \"No_de_Cr\\u00e9dito\": 6342.0, \"No_de_inscripci\\u00f3n_SHCP\": \"234/2005\", \"Registro_Estatal\": \"147/05\", \"Ambito\": \"Estatal\", \"Instituci\\u00f3n_Acreedora\": \"Banobras S.N.C\", \"Tipo_de_Obligaci\\u00f3n\": \"Contrato de Apertura de Cr\\u00e9dito Simple\", \"Clase_del_titulo\": \"Pesos\", \"Monto_original_contratado_en_pesos\": 1184414400.0, \"Monto_dispuesto_en_pesos\": 1184414400.0, \"Saldo_en_pesos\": 88311746.67, \"Tasa\": \"CETES 182  + 1.33\", \"Fecha_de_Contrataci\\u00f3n\": \"20/05/2005\", \"Plazo_m\\u00e1ximo_(meses)\": \"216\", \"Fecha_de_Vencimiento\": \"01/02/2022\", \"Garant\\u00eda\": \"Participaciones Federales\", \"Destino\": \"Financiar el programa de financiamiento a estrategias sectoriales integrales en el estado de Guanajuato\"}, {\"Ente_Acreditado\": \"Gobierno del Estado de Guanajuato\", \"No_de_Cr\\u00e9dito\": 6938.0, \"No_de_inscripci\\u00f3n_SHCP\": \"234/2005\", \"Registro_Estatal\": \"147/05\", \"Ambito\": \"Estatal\", \"Instituci\\u00f3n_Acreedora\": \"Banobras S.N.C\", \"Tipo_de_Obligaci\\u00f3n\": \"Contrato de Apertura de Cr\\u00e9dito Simple\", \"Clase_del_titulo\": \"Pesos\", \"Monto_original_contratado_en_pesos\": 1184414400.0, \"Monto_dispuesto_en_pesos\": 1184414400.0, \"Saldo_en_pesos\": 36064550.65, \"Tasa\": \"CETES 182  + 1.08\", \"Fecha_de_Contrataci\\u00f3n\": \"20/05/2005\", \"Plazo_m\\u00e1ximo_(meses)\": \"216\", \"Fecha_de_Vencimiento\": \"01/02/2022\", \"Garant\\u00eda\": \"Participaciones Federales\", \"Destino\": \"Financiar el programa de financiamiento a estrategias sectoriales integrales en el estado de Guanajuato\"}, {\"Ente_Acreditado\": \"Gobierno del Estado de Guanajuato\", \"No_de_Cr\\u00e9dito\": 7061.0, \"No_de_inscripci\\u00f3n_SHCP\": \"234/2006\", \"Registro_Estatal\": \"147/05\", \"Ambito\": \"Estatal\", \"Instituci\\u00f3n_Acreedora\": \"Banobras S.N.C\", \"Tipo_de_Obligaci\\u00f3n\": \"Contrato de Apertura de Cr\\u00e9dito Simple\", \"Clase_del_titulo\": \"Pesos\", \"Monto_original_contratado_en_pesos\": 1184414400.0, \"Monto_dispuesto_en_pesos\": 1184414400.0, \"Saldo_en_pesos\": 106248939.08, \"Tasa\": \"CETES 182  + 1.11\", \"Fecha_de_Contrataci\\u00f3n\": \"20/05/2005\", \"Plazo_m\\u00e1ximo_(meses)\": \"216\", \"Fecha_de_Vencimiento\": \"01/02/2022\", \"Garant\\u00eda\": \"Participaciones Federales\", \"Destino\": \"Financiar el programa de financiamiento a estrategias sectoriales integrales en el estado de Guanajuato\"}, {\"Ente_Acreditado\": \"Gobierno del Estado de Guanajuato\", \"No_de_Cr\\u00e9dito\": 7848.0, \"No_de_inscripci\\u00f3n_SHCP\": \"234/2006\", \"Registro_Estatal\": \"147/05\", \"Ambito\": \"Estatal\", \"Instituci\\u00f3n_Acreedora\": \"Banobras S.N.C\", \"Tipo_de_Obligaci\\u00f3n\": \"Contrato de Apertura de Cr\\u00e9dito Simple\", \"Clase_del_titulo\": \"Pesos\", \"Monto_original_contratado_en_pesos\": 1184414400.0, \"Monto_dispuesto_en_pesos\": 1184414400.0, \"Saldo_en_pesos\": 84958370.54, \"Tasa\": \"CETES 182  + 1.22\", \"Fecha_de_Contrataci\\u00f3n\": \"20/05/2005\", \"Plazo_m\\u00e1ximo_(meses)\": \"216\", \"Fecha_de_Vencimiento\": \"01/02/2022\", \"Garant\\u00eda\": \"Participaciones Federales\", \"Destino\": \"Financiar el programa de financiamiento a estrategias sectoriales integrales en el estado de Guanajuato\"}, {\"Ente_Acreditado\": \"Jer\\u00e9cuaro\", \"No_de_Cr\\u00e9dito\": 7073.0, \"No_de_inscripci\\u00f3n_SHCP\": \"352/2007\", \"Registro_Estatal\": \"168/07\", \"Ambito\": \"Municipal\", \"Instituci\\u00f3n_Acreedora\": \"Banobras S.N.C\", \"Tipo_de_Obligaci\\u00f3n\": \"Contrato de Apertura de Cr\\u00e9dito Simple\", \"Clase_del_titulo\": \"Pesos\", \"Monto_original_contratado_en_pesos\": 4382506.0, \"Monto_dispuesto_en_pesos\": 4382506.0, \"Saldo_en_pesos\": 191225.21, \"Tasa\": \"TIIE + 1.81\", \"Fecha_de_Contrataci\\u00f3n\": \"07/12/2007\", \"Plazo_m\\u00e1ximo_(meses)\": \"120\", \"Fecha_de_Vencimiento\": \"02/01/2018\", \"Garant\\u00eda\": \"Participaciones Federales\", \"Destino\": \"Financiar los siguientes conceptos: \\nTramo 1.-Refinanciar saldo de la deuda del acreditado con BANOBRAS: comisi\\u00f3n por apertura del cr\\u00e9dito, incluye IVA; \\nTramo 2.-Conclusi\\u00f3n etapa II central de autobuses, incluido IVA e intereses que se generen durante el periodo de disposici\\u00f3n del cr\\u00e9dito.\"}, {\"Ente_Acreditado\": \"Jer\\u00e9cuaro\", \"No_de_Cr\\u00e9dito\": 7080.0, \"No_de_inscripci\\u00f3n_SHCP\": \"352/2007\", \"Registro_Estatal\": \"168/07\", \"Ambito\": \"Municipal\", \"Instituci\\u00f3n_Acreedora\": \"Banobras S.N.C\", \"Tipo_de_Obligaci\\u00f3n\": \"Contrato de Apertura de Cr\\u00e9dito Simple\", \"Clase_del_titulo\": \"Pesos\", \"Monto_original_contratado_en_pesos\": 4382506.0, \"Monto_dispuesto_en_pesos\": 4382506.0, \"Saldo_en_pesos\": 257038.22, \"Tasa\": \"TIIE + 1.81\", \"Fecha_de_Contrataci\\u00f3n\": \"07/12/2007\", \"Plazo_m\\u00e1ximo_(meses)\": \"120\", \"Fecha_de_Vencimiento\": \"21/12/2017\", \"Garant\\u00eda\": \"Participaciones Federales\", \"Destino\": \"Financiar los siguientes conceptos: refinanciar saldo de la deuda del acreditado con BANOBRAS: comisi\\u00f3n por apertura del cr\\u00e9dito, incluye IVA; conclusi\\u00f3n etapa II central de autobuses, incluido IVA e intereses que se generen durante el periodo de disposici\\u00f3n del cr\\u00e9dito.\"}, {\"Ente_Acreditado\": \"Gobierno del Estado de Guanajuato\", \"No_de_Cr\\u00e9dito\": null, \"No_de_inscripci\\u00f3n_SHCP\": \"348/2007\", \"Registro_Estatal\": \"170/07\", \"Ambito\": \"Estatal\", \"Instituci\\u00f3n_Acreedora\": \"BBVA Bancomer\", \"Tipo_de_Obligaci\\u00f3n\": \"Contrato de Apertura de Cr\\u00e9dito Simple\", \"Clase_del_titulo\": \"Pesos\", \"Monto_original_contratado_en_pesos\": 500000000.0, \"Monto_dispuesto_en_pesos\": 500000000.0, \"Saldo_en_pesos\": 202786100.0, \"Tasa\": \"TIIE + 1.60\", \"Fecha_de_Contrataci\\u00f3n\": \"18/12/2007\", \"Plazo_m\\u00e1ximo_(meses)\": \"180\", \"Fecha_de_Vencimiento\": \"21/12/2022\", \"Garant\\u00eda\": \"10% de la afectaci\\u00f3n de participaciones que en ingresos federales correspondan al estado de Guanajuato mediante contrato constitutivo de fideicomiso irrevocable de administraci\\u00f3n y medio No. F/47095-5.\", \"Destino\": \"Se destinar\\u00e1 precisa y exclusivamente para financiar las acciones incluidas en los programas de inversi\\u00f3n para los sectores de:\\nI. Programas de apoyo a los sectores industrial y comercial, y desarrollo de empleo;\\nII. Programas de apoyo al desarrollo de la infraestructura educativa y deportiva;\\nIII. Programas para el desarrollo de infraestructura hospitalaria y atenci\\u00f3n a la salud;\\nIV. Programas para el desarrollo de infraestructura hidr\\u00e1ulica y saneamiento;\\nV. Programas de Infraestructura carretera, edificaci\\u00f3n y equipamiento;\\nVI. Desarrollo agropecuario, ganadero, forestal y rural;\\nVII. Fortalecimiento a programas ecol\\u00f3gicos y de mejoramiento al medio ambiente;\\nVIII. Infraestructura, equipamiento y profesionalizaci\\u00f3n en Seguridad P\\u00fablica;\\nIX. Fomento de la investigaci\\u00f3n cient\\u00edfica y tecnol\\u00f3gica;\\nX. Programas educativos y culturales;\\nXI. Programas para el desarrollo y promoci\\u00f3n tur\\u00edstica; y\\nXII. Programas de apoyo para asistencia social, desarrollo social, deportivo, educativo, cultural y de fortalecimiento institucional.\"}, {\"Ente_Acreditado\": \"Gobierno del Estado de Guanajuato\", \"No_de_Cr\\u00e9dito\": null, \"No_de_inscripci\\u00f3n_SHCP\": \"349/2007\", \"Registro_Estatal\": \"171/07\", \"Ambito\": \"Estatal\", \"Instituci\\u00f3n_Acreedora\": \"Banamex\", \"Tipo_de_Obligaci\\u00f3n\": \"Contrato de Apertura de Cr\\u00e9dito Simple\", \"Clase_del_titulo\": \"Pesos\", \"Monto_original_contratado_en_pesos\": 500000000.0, \"Monto_dispuesto_en_pesos\": 500000000.0, \"Saldo_en_pesos\": 199999999.81, \"Tasa\": \"TIIE + 0.30\", \"Fecha_de_Contrataci\\u00f3n\": \"19/12/2007\", \"Plazo_m\\u00e1ximo_(meses)\": \"180\", \"Fecha_de_Vencimiento\": \"26/12/2022\", \"Garant\\u00eda\": \"12% de la afectaci\\u00f3n de participaciones que en ingresos federales correspondan al estado de Guanajuato mediante contrato constitutivo de fideicomiso irrevocable de administraci\\u00f3n y medio No. F/47095-5.\", \"Destino\": \"Se destinar\\u00e1 precisa y exclusivamente para financiar las acciones incluidas en los programas de inversi\\u00f3n para los sectores de:\\nI. Programas de apoyo a los sectores industrial y comercial, y desarrollo de empleo;\\nII. Programas de apoyo al desarrollo de la infraestructura educativa y deportiva;\\nIII. Programas para el desarrollo de infraestructura hospitalaria y atenci\\u00f3n a la salud;\\nIV. Programas para el desarrollo de infraestructura hidr\\u00e1ulica y saneamiento;\\nV. Programas de Infraestructura carretera, edificaci\\u00f3n y equipamiento;\\nVI. Desarrollo agropecuario, ganadero, forestal y rural;\\nVII. Fortalecimiento a programas ecol\\u00f3gicos y de mejoramiento al medio ambiente;\\nVIII. Infraestructura, equipamiento y profesionalizaci\\u00f3n en Seguridad P\\u00fablica;\\nIX. Fomento de la investigaci\\u00f3n cient\\u00edfica y tecnol\\u00f3gica;\\nX. Programas educativos y culturales;\\nXI. Programas para el desarrollo y promoci\\u00f3n tur\\u00edstica; y\\nXII. Programas de apoyo para asistencia social, desarrollo social, deportivo, educativo, cultural\\ny de fortalecimiento institucional.\"}, {\"Ente_Acreditado\": \"Abasolo\", \"No_de_Cr\\u00e9dito\": 7196.0, \"No_de_inscripci\\u00f3n_SHCP\": \"102/2008\", \"Registro_Estatal\": \"175/08\", \"Ambito\": \"Municipal\", \"Instituci\\u00f3n_Acreedora\": \"Banobras S.N.C\", \"Tipo_de_Obligaci\\u00f3n\": \"Contrato de Apertura de Cr\\u00e9dito Simple\", \"Clase_del_titulo\": \"Pesos\", \"Monto_original_contratado_en_pesos\": 13000000.0, \"Monto_dispuesto_en_pesos\": 13000000.0, \"Saldo_en_pesos\": 1747898.9, \"Tasa\": \"TIIE + 1.44\", \"Fecha_de_Contrataci\\u00f3n\": \"15/05/2008\", \"Plazo_m\\u00e1ximo_(meses)\": \"120\", \"Fecha_de_Vencimiento\": \"30/04/2018\", \"Garant\\u00eda\": \"Afectaci\\u00f3n de participaciones que en ingresos federales le corresponden al municipio.\", \"Destino\": \"Adquisici\\u00f3n de un terreno ubicado en el predio denominado \\\"Rancho de la Pe\\u00f1a de Guisa\\\" que ser\\u00e1 utilizado como reserva territorial, con el fin de fomentar la vivienda y para crear infraestructura educativa.\"}, {\"Ente_Acreditado\": \"Salamanca\", \"No_de_Cr\\u00e9dito\": null, \"No_de_inscripci\\u00f3n_SHCP\": \"285/2008\", \"Registro_Estatal\": \"177/08\", \"Ambito\": \"Municipal\", \"Instituci\\u00f3n_Acreedora\": \"Banco del Baj\\u00edo, S.A.\", \"Tipo_de_Obligaci\\u00f3n\": \"Contrato de Apertura de Cr\\u00e9dito Simple\", \"Clase_del_titulo\": \"Pesos\", \"Monto_original_contratado_en_pesos\": 46000000.0, \"Monto_dispuesto_en_pesos\": 46000000.0, \"Saldo_en_pesos\": 14616200.0, \"Tasa\": \"TIIE + 0.45\", \"Fecha_de_Contrataci\\u00f3n\": \"29/08/2008\", \"Plazo_m\\u00e1ximo_(meses)\": \"144\", \"Fecha_de_Vencimiento\": \"02/09/2020\", \"Garant\\u00eda\": \"Participaciones Federales\", \"Destino\": \"1) Construcci\\u00f3n de paso inferior de la Avenida Cazadora, tramo avenida Faja de Oro - Avenida delTrabajo; 2) Construcci\\u00f3n del Boulevard Las Torres, tramo Boulevard Clouthier - Distribuidor Vial; 3) Adquisici\\u00f3n de un terreno para la construcci\\u00f3n de un hospital materno infantil; y 4) Construcci\\u00f3n de camino de acceso a la divisi\\u00f3n de Ingenerias, campus Salamanca-Irapuato .\"}, {\"Ente_Acreditado\": \"Tarandacuao\", \"No_de_Cr\\u00e9dito\": 7491.0, \"No_de_inscripci\\u00f3n_SHCP\": \"293/2008\", \"Registro_Estatal\": \"178/08\", \"Ambito\": \"Municipal\", \"Instituci\\u00f3n_Acreedora\": \"Banobras S.N.C\", \"Tipo_de_Obligaci\\u00f3n\": \"Contrato de Apertura de Cr\\u00e9dito Simple\", \"Clase_del_titulo\": \"Pesos\", \"Monto_original_contratado_en_pesos\": 7002824.12, \"Monto_dispuesto_en_pesos\": 7002824.12, \"Saldo_en_pesos\": 1412878.62, \"Tasa\": \"TIIE + 1.53\", \"Fecha_de_Contrataci\\u00f3n\": \"01/09/2008\", \"Plazo_m\\u00e1ximo_(meses)\": \"120\", \"Fecha_de_Vencimiento\": \"08/10/2018\", \"Garant\\u00eda\": \"Participaciones Federales\", \"Destino\": \"Diversas obras p\\u00fablicas productivas, particularmente (I) Programa 3x1 para migrantes; (II) Construcci\\u00f3n del Centro Gerontol\\u00f3gico (segunda etapa); (III) Construcci\\u00f3n del Centro Regional de Desarrollo Tur\\u00edstico y Ambiental (tercera etapa); (IV) Construcci\\u00f3n del Edificio de Seguridad P\\u00fablica (primera etapa); (V) Construcci\\u00f3n del segundo nivel del Hospital Comunitario en la cabecera municipal; (VI) Paradero de autob\\u00fas en la cabecera municipal y casetas rurales en las comunidades de la Virgen, San Jos\\u00e9 de Hidalgo, San Joaqu\\u00edn de Porto, la Soledad y San Antonio; (VII) Construcci\\u00f3n de sal\\u00f3n de usos m\\u00faltiples en la Unidad de Servicios de Apoyo a la Educaci\\u00f3n (USAE) y Centro de Desarrollo Educativo (CEDE); (VIII) Construcci\\u00f3n de sanitarios en el campo de b\\u00e9isbol \\\"Profr. Odil\\u00f3n Garc\\u00eda Ch\\u00e1vez\\\"; (IX) Construcci\\u00f3n de sanitarios en los campos de f\\u00fatbol I y II \\\"Las Galeras\\\"; (X) Empastado del campo de f\\u00fatbol l \\\"Las Galeras\\\"; (XI) Programa de Apoyo a la Producci\\u00f3n Rural; y (XII) Adquisici\\u00f3n de un cami\\u00f3n\\nrecolector de basura.\"}, {\"Ente_Acreditado\": \"Silao de la Victoria\", \"No_de_Cr\\u00e9dito\": null, \"No_de_inscripci\\u00f3n_SHCP\": \"446/2008\", \"Registro_Estatal\": \"180/08\", \"Ambito\": \"Municipal\", \"Instituci\\u00f3n_Acreedora\": \"Banco del Baj\\u00edo, S.A.\", \"Tipo_de_Obligaci\\u00f3n\": \"Contrato de Apertura de Cr\\u00e9dito Simple\", \"Clase_del_titulo\": \"Pesos\", \"Monto_original_contratado_en_pesos\": 52000000.0, \"Monto_dispuesto_en_pesos\": 52000000.0, \"Saldo_en_pesos\": 25896160.0, \"Tasa\": \"TIIE + 2.25\", \"Fecha_de_Contrataci\\u00f3n\": \"11/11/2008\", \"Plazo_m\\u00e1ximo_(meses)\": \"180\", \"Fecha_de_Vencimiento\": \"31/10/2023\", \"Garant\\u00eda\": \"Participaciones Federales\", \"Destino\": \"Inversiones p\\u00fablicas productivas\"}, {\"Ente_Acreditado\": \"Doctor Mora\", \"No_de_Cr\\u00e9dito\": 8270.0, \"No_de_inscripci\\u00f3n_SHCP\": \"228/2009\", \"Registro_Estatal\": \"186/09\", \"Ambito\": \"Municipal\", \"Instituci\\u00f3n_Acreedora\": \"Banobras S.N.C\", \"Tipo_de_Obligaci\\u00f3n\": \"Contrato de apertura de cr\\u00e9dito simple y constituci\\u00f3n de garant\\u00edas\", \"Clase_del_titulo\": \"Pesos\", \"Monto_original_contratado_en_pesos\": 7493848.97, \"Monto_dispuesto_en_pesos\": 7493848.97, \"Saldo_en_pesos\": 1663398.22, \"Tasa\": \"TIIE + 2.37\", \"Fecha_de_Contrataci\\u00f3n\": \"30/06/2009\", \"Plazo_m\\u00e1ximo_(meses)\": \"120\", \"Fecha_de_Vencimiento\": \"24/09/2019\", \"Garant\\u00eda\": \"Participaciones Federales\", \"Destino\": \"Adquisici\\u00f3n reserva territorial\"}, {\"Ente_Acreditado\": \"Tarimoro\", \"No_de_Cr\\u00e9dito\": 8262.0, \"No_de_inscripci\\u00f3n_SHCP\": \"227/2009\", \"Registro_Estatal\": \"187/09\", \"Ambito\": \"Municipal\", \"Instituci\\u00f3n_Acreedora\": \"Banobras S.N.C\", \"Tipo_de_Obligaci\\u00f3n\": \"Contrato de Apertura de Cr\\u00e9dito Simple\", \"Clase_del_titulo\": \"Pesos\", \"Monto_original_contratado_en_pesos\": 4848411.91, \"Monto_dispuesto_en_pesos\": 4848411.91, \"Saldo_en_pesos\": 1341717.83, \"Tasa\": \"TIIE + 2.67\", \"Fecha_de_Contrataci\\u00f3n\": \"17/07/2009\", \"Plazo_m\\u00e1ximo_(meses)\": \"120\", \"Fecha_de_Vencimiento\": \"19/08/2019\", \"Garant\\u00eda\": \"Participaciones Federales\", \"Destino\": \"Sistema de drenaje sanitario el Charco Largo; pavimentaci\\u00f3n concreto hidr\\u00e1ulico calle 16 de septiembre comunidad La Moncada; construcci\\u00f3n parque col. San Isidro.\"}, {\"Ente_Acreditado\": \"Cuer\\u00e1maro\", \"No_de_Cr\\u00e9dito\": 4284212.0, \"No_de_inscripci\\u00f3n_SHCP\": \"246/2009\", \"Registro_Estatal\": \"189/09\", \"Ambito\": \"Municipal\", \"Instituci\\u00f3n_Acreedora\": \"Banco del Baj\\u00edo, S.A.\", \"Tipo_de_Obligaci\\u00f3n\": \"Contrato de apertura de cr\\u00e9dito simple y constituci\\u00f3n de garant\\u00edas\", \"Clase_del_titulo\": \"Pesos\", \"Monto_original_contratado_en_pesos\": 7300000.0, \"Monto_dispuesto_en_pesos\": 7300000.0, \"Saldo_en_pesos\": 3736000.0, \"Tasa\": \"TIIE + 3.50\", \"Fecha_de_Contrataci\\u00f3n\": \"02/09/2009\", \"Plazo_m\\u00e1ximo_(meses)\": \"180\", \"Fecha_de_Vencimiento\": \"02/08/2024\", \"Garant\\u00eda\": \"Participaciones Federales\", \"Destino\": \"Adquisici\\u00f3n de maquinaria, Adquisici\\u00f3n de terreno para la construcci\\u00f3n de un pante\\u00f3n municipal, Pago complementario de la adquisici\\u00f3n de reserva territorial y Adquisici\\u00f3n de terreno complementario para la construcci\\u00f3n de un m\\u00f3dulo\\nde COMUDAJ.\"}, {\"Ente_Acreditado\": \"Gobierno del Estado de Guanajuato\", \"No_de_Cr\\u00e9dito\": null, \"No_de_inscripci\\u00f3n_SHCP\": \"311/2009\", \"Registro_Estatal\": \"192/09\", \"Ambito\": \"Estatal\", \"Instituci\\u00f3n_Acreedora\": \"Banco del Baj\\u00edo, S.A.\", \"Tipo_de_Obligaci\\u00f3n\": \"Contrato de Apertura de Cr\\u00e9dito Simple\", \"Clase_del_titulo\": \"Pesos\", \"Monto_original_contratado_en_pesos\": 2000000000.0, \"Monto_dispuesto_en_pesos\": 1664477330.0, \"Saldo_en_pesos\": 469468130.0, \"Tasa\": \"TIIE + 1.60\", \"Fecha_de_Contrataci\\u00f3n\": \"21/09/2009\", \"Plazo_m\\u00e1ximo_(meses)\": \"120\", \"Fecha_de_Vencimiento\": \"26/09/2019\", \"Garant\\u00eda\": \"Participaciones Federales\", \"Destino\": \"Inversi\\u00f3n p\\u00fablica productiva en el estado de Guanajuato, consistente en proyectos de infraestructura vial, urbana y de servicios.\"}, {\"Ente_Acreditado\": \"Gobierno del Estado de Guanajuato\", \"No_de_Cr\\u00e9dito\": null, \"No_de_inscripci\\u00f3n_SHCP\": \"519/2009\", \"Registro_Estatal\": \"194/09\", \"Ambito\": \"Estatal\", \"Instituci\\u00f3n_Acreedora\": \"BBVA Bancomer\", \"Tipo_de_Obligaci\\u00f3n\": \"Contrato de Apertura de Cr\\u00e9dito Simple\", \"Clase_del_titulo\": \"Pesos\", \"Monto_original_contratado_en_pesos\": 1600000000.0, \"Monto_dispuesto_en_pesos\": 1380000000.0, \"Saldo_en_pesos\": 743668050.0, \"Tasa\": \"TIIE + 1.60\", \"Fecha_de_Contrataci\\u00f3n\": \"11/12/2009\", \"Plazo_m\\u00e1ximo_(meses)\": \"180\", \"Fecha_de_Vencimiento\": \"17/12/2024\", \"Garant\\u00eda\": \"Participaciones Federales\", \"Destino\": \"Financiar Inversi\\u00f3n p\\u00fablica productiva\"}, {\"Ente_Acreditado\": \"Silao de la Victoria\", \"No_de_Cr\\u00e9dito\": null, \"No_de_inscripci\\u00f3n_SHCP\": \"092/2010\", \"Registro_Estatal\": \"195/10\", \"Ambito\": \"Municipal\", \"Instituci\\u00f3n_Acreedora\": \"Banco del Baj\\u00edo, S.A.\", \"Tipo_de_Obligaci\\u00f3n\": \"Contrato de Apertura de Cr\\u00e9dito Simple\", \"Clase_del_titulo\": \"Pesos\", \"Monto_original_contratado_en_pesos\": 30000000.0, \"Monto_dispuesto_en_pesos\": 30000000.0, \"Saldo_en_pesos\": 2083378.0, \"Tasa\": \"TIIE + 2.20\", \"Fecha_de_Contrataci\\u00f3n\": \"29/04/2010\", \"Plazo_m\\u00e1ximo_(meses)\": \"84\", \"Fecha_de_Vencimiento\": \"02/05/2017\", \"Garant\\u00eda\": \"Participaciones Federales\", \"Destino\": \"Pago de afectaciones\"}, {\"Ente_Acreditado\": \"San Miguel de Allende\", \"No_de_Cr\\u00e9dito\": null, \"No_de_inscripci\\u00f3n_SHCP\": \"322/2010\", \"Registro_Estatal\": \"199/10\", \"Ambito\": \"Municipal\", \"Instituci\\u00f3n_Acreedora\": \"Banco del Baj\\u00edo, S.A.\", \"Tipo_de_Obligaci\\u00f3n\": \"Contrato de Apertura de Cr\\u00e9dito Simple\", \"Clase_del_titulo\": \"Pesos\", \"Monto_original_contratado_en_pesos\": 45023318.0, \"Monto_dispuesto_en_pesos\": 45023318.0, \"Saldo_en_pesos\": 21463340.91, \"Tasa\": \"TIIE + 1.60\", \"Fecha_de_Contrataci\\u00f3n\": \"23/09/2010\", \"Plazo_m\\u00e1ximo_(meses)\": \"180\", \"Fecha_de_Vencimiento\": \"06/10/2025\", \"Garant\\u00eda\": \"En primer t\\u00e9rmino las participaciones presentes y futuras que en ingresos federales le corresponden al municipio y en segundo t\\u00e9rmino las participaciones presentes y futuras que en ingresos federales le corresponden al gobierno del estado de Guanajuato.\", \"Destino\": \"Reestructura de cuatro cr\\u00e9ditos: 1) BANOBRAS 7417-29 $ 15,116,383.05 ;  2)BANOBRAS 7422-86 $12,467,587.19 ;  3) BANCO DEL BAJIO $4,180,620.65  y 4) BBV BANCOMER  $4,602,244.67 .\"}, {\"Ente_Acreditado\": \"Junta Municipal de Agua Potable y Alcantarillado de Celaya, Gto.\", \"No_de_Cr\\u00e9dito\": null, \"No_de_inscripci\\u00f3n_SHCP\": \"439/2010\", \"Registro_Estatal\": \"201/10\", \"Ambito\": \"Paramunicipal\", \"Instituci\\u00f3n_Acreedora\": \"Banobras S.N.C\", \"Tipo_de_Obligaci\\u00f3n\": \"Contrato de Apertura de Cr\\u00e9dito Simple\", \"Clase_del_titulo\": \"Pesos\", \"Monto_original_contratado_en_pesos\": 25353586.19, \"Monto_dispuesto_en_pesos\": 0.0, \"Saldo_en_pesos\": 0.0, \"Tasa\": \"TIIE + 3.02\", \"Fecha_de_Contrataci\\u00f3n\": \"11/11/2010\", \"Plazo_m\\u00e1ximo_(meses)\": \"240\", \"Fecha_de_Vencimiento\": \"01/12/2030\", \"Garant\\u00eda\": \"Las participaciones que en ingresos federales le correspondan al Municipio de Celaya, Guanajuato, como deudor solidario y el Gobierno del Estado de Guanajuato como deudor subsidiario.\", \"Destino\": \"Cualquier falta de liquidez de las obligaciones de pago de la contraprestaci\\u00f3n, definida en el CPS y pago de la comisi\\u00f3n por disposici\\u00f3n e IVA.\"}, {\"Ente_Acreditado\": \"Gobierno del Estado de Guanajuato\", \"No_de_Cr\\u00e9dito\": null, \"No_de_inscripci\\u00f3n_SHCP\": \"501/2010\", \"Registro_Estatal\": \"202/10\", \"Ambito\": \"Estatal\", \"Instituci\\u00f3n_Acreedora\": \"Banamex\", \"Tipo_de_Obligaci\\u00f3n\": \"Contrato de Apertura de Cr\\u00e9dito Simple\", \"Clase_del_titulo\": \"Pesos\", \"Monto_original_contratado_en_pesos\": 1700000000.0, \"Monto_dispuesto_en_pesos\": 1363280290.12, \"Saldo_en_pesos\": 545312116.36, \"Tasa\": \"TIIE + 1.00\", \"Fecha_de_Contrataci\\u00f3n\": \"10/12/2010\", \"Plazo_m\\u00e1ximo_(meses)\": \"120\", \"Fecha_de_Vencimiento\": \"17/12/2020\", \"Garant\\u00eda\": \"Participaciones Federales\", \"Destino\": \"Inversi\\u00f3n p\\u00fablica productiva\"}, {\"Ente_Acreditado\": \"Gobierno del Estado de Guanajuato\", \"No_de_Cr\\u00e9dito\": null, \"No_de_inscripci\\u00f3n_SHCP\": \"511/2010\", \"Registro_Estatal\": \"203/10\", \"Ambito\": \"Estatal\", \"Instituci\\u00f3n_Acreedora\": \"HSBC \", \"Tipo_de_Obligaci\\u00f3n\": \"Contrato de Apertura de Cr\\u00e9dito Simple\", \"Clase_del_titulo\": \"Pesos\", \"Monto_original_contratado_en_pesos\": 500000000.0, \"Monto_dispuesto_en_pesos\": 200000000.0, \"Saldo_en_pesos\": 80000048.0, \"Tasa\": \"TIIE + 1.06\", \"Fecha_de_Contrataci\\u00f3n\": \"13/12/2010\", \"Plazo_m\\u00e1ximo_(meses)\": \"120\", \"Fecha_de_Vencimiento\": \"26/12/2020\", \"Garant\\u00eda\": \"Participaciones Federales\", \"Destino\": \"Se destinar\\u00e1n para financiar los proyectos de inversi\\u00f3n p\\u00fablica productiva, encuadrados en los siguientes rubros: l. Sustentabilidad al Desarrollo Social; II. Atenci\\u00f3n a la Seguridad P\\u00fablica y Protecci\\u00f3n Civil; III. Apoyo al Desarrollo Agropecuario; IV.Apoyo a la Sustentabilidad Econ\\u00f3mica; V. Atenci\\u00f3n a la Educaci\\u00f3n, Deporte y Cultura; VI.Apoyo al Desarrollo de Infraestructura Urbana y Carretera; VII. Apoyo al Desarrollo Tur\\u00edstico; VIII. Apoyo para la Atenci\\u00f3n de la Salud\"}, {\"Ente_Acreditado\": \"San Miguel de Allende\", \"No_de_Cr\\u00e9dito\": null, \"No_de_inscripci\\u00f3n_SHCP\": \"046/2011\", \"Registro_Estatal\": \"204/11\", \"Ambito\": \"Municipal\", \"Instituci\\u00f3n_Acreedora\": \"Banco del Baj\\u00edo, S.A.\", \"Tipo_de_Obligaci\\u00f3n\": \"Contrato de Apertura de Cr\\u00e9dito Simple\", \"Clase_del_titulo\": \"Pesos\", \"Monto_original_contratado_en_pesos\": 36470000.0, \"Monto_dispuesto_en_pesos\": 34866339.59, \"Saldo_en_pesos\": 14893170.58, \"Tasa\": \"TIIE + 1.60\", \"Fecha_de_Contrataci\\u00f3n\": \"08/02/2011\", \"Plazo_m\\u00e1ximo_(meses)\": \"120\", \"Fecha_de_Vencimiento\": \"05/03/2021\", \"Garant\\u00eda\": \"En primer t\\u00e9rino las participaciones presentes y futuras que en ingresos federales le corresponden al municipio y en segundo t\\u00e9rmino las participaciones presentes y futuras que en ingresos federales le corresponden al gobierno del estado de Guanajuato.\", \"Destino\": \"Puente sobre libramiento Jos\\u00e9 Manuel Zavala Zavala, en cabecera municipal; Convenio de coordinaci\\u00f3n de desarrollo tur\\u00edstico del Municipio; Construcci\\u00f3n del parque Bicentenario en reserva municipal de Landeta, Bordo San Carlos 1\\u00b0 etapa en cabecera municipal; adquisici\\u00f3n e instalaci\\u00f3n de equipo para el rastro municipal; construcci\\u00f3n del modulo COMUDAJ 2\\u00b0 etapa; adquisici\\u00f3n de veh\\u00edculos para servicios p\\u00fablicos.\"}, {\"Ente_Acreditado\": \"Comonfort\", \"No_de_Cr\\u00e9dito\": null, \"No_de_inscripci\\u00f3n_SHCP\": \"193/2011\", \"Registro_Estatal\": \"205/11\", \"Ambito\": \"Municipal\", \"Instituci\\u00f3n_Acreedora\": \"Banco del Baj\\u00edo, S.A.\", \"Tipo_de_Obligaci\\u00f3n\": \"Contrato de Apertura de Cr\\u00e9dito Simple\", \"Clase_del_titulo\": \"Pesos\", \"Monto_original_contratado_en_pesos\": 19860880.0, \"Monto_dispuesto_en_pesos\": 19860880.0, \"Saldo_en_pesos\": 8879630.0, \"Tasa\": \"TIIE + 1.70\", \"Fecha_de_Contrataci\\u00f3n\": \"09/05/2011\", \"Plazo_m\\u00e1ximo_(meses)\": \"180\", \"Fecha_de_Vencimiento\": \"27/02/2029\", \"Garant\\u00eda\": \"Participaciones Federales\", \"Destino\": \"1) Adquisici\\u00f3n de reserva territorial. 2) Reestructura\"}, {\"Ente_Acreditado\": \"Guanajuato\", \"No_de_Cr\\u00e9dito\": 32.0, \"No_de_inscripci\\u00f3n_SHCP\": \"201/2011\", \"Registro_Estatal\": \"206/11\", \"Ambito\": \"Municipal\", \"Instituci\\u00f3n_Acreedora\": \"Banco del Baj\\u00edo, S.A.\", \"Tipo_de_Obligaci\\u00f3n\": \"Contrato de Apertura de Cr\\u00e9dito Simple\", \"Clase_del_titulo\": \"Pesos\", \"Monto_original_contratado_en_pesos\": 32064915.76, \"Monto_dispuesto_en_pesos\": 32064915.76, \"Saldo_en_pesos\": 19539780.76, \"Tasa\": \"TIIE + 1.59\", \"Fecha_de_Contrataci\\u00f3n\": \"16/05/2011\", \"Plazo_m\\u00e1ximo_(meses)\": \"180\", \"Fecha_de_Vencimiento\": \"26/05/2026\", \"Garant\\u00eda\": \"Participaciones Federales\", \"Destino\": \"Reestructuraci\\u00f3n de una l\\u00ednea de cr\\u00e9dito que se tiene contratada con el Banco del Baj\\u00edo. I. Programa de Modernizaci\\u00f3n Catastral, II. Establecimiento de una red de fibra \\u00f3ptica, III. Continuaci\\u00f3n de la primera etapa del edificio de seguridad p\\u00fablica en la zona sur del municipio, IV. Programa de coinversi\\u00f3n de obras del Programa Mi Plaza.\"}, {\"Ente_Acreditado\": \"Apaseo el Grande\", \"No_de_Cr\\u00e9dito\": 9690.0, \"No_de_inscripci\\u00f3n_SHCP\": \"226/2011\", \"Registro_Estatal\": \"207/11\", \"Ambito\": \"Municipal\", \"Instituci\\u00f3n_Acreedora\": \"Banobras S.N.C\", \"Tipo_de_Obligaci\\u00f3n\": \"Contrato de Apertura de Cr\\u00e9dito Simple\", \"Clase_del_titulo\": \"Pesos\", \"Monto_original_contratado_en_pesos\": 19803423.0, \"Monto_dispuesto_en_pesos\": 12559400.3, \"Saldo_en_pesos\": 7644852.38, \"Tasa\": \"TIIE + 2.53\", \"Fecha_de_Contrataci\\u00f3n\": \"31/05/2011\", \"Plazo_m\\u00e1ximo_(meses)\": \"120\", \"Fecha_de_Vencimiento\": \"09/08/2021\", \"Garant\\u00eda\": \"Participaciones Federales\", \"Destino\": \"I. Construcci\\u00f3n 3\\u00b0 etapa del auditorio municipal; II Construcci\\u00f3n de descarga del drenaje pluvial hacia el dren a cielo abierto paralelo a la prolong. Octaviano Mu\\u00f1oz Ledo; III. Embellecimiento del centro hist\\u00f3rico; IV. Programa de modernizaci\\u00f3n catastral; proyecto ejecutivo PIV Km. 37+900 para la comunicaci\\u00f3n entre las comunidades de La Pur\\u00edsima y La Palma; V. Proyecto ejecutivo para el camino alterno al Cerrito por la Unideg; anteproyecto para el PSV, FF.CC del Km. 278+600 l\\u00ednea A en el acceso poniente de la cabecera municipal; proyecto ejecutivo 1\\u00b0 etapa del pol\\u00edgono h\\u00e1bitat; comisi\\u00f3n por apertura del cr\\u00e9dito mas el IVA correspondiente y los intereses que se generen durante el peri\\u00f3do de disposici\\u00f3n.\"}, {\"Ente_Acreditado\": \"Guanajuato\", \"No_de_Cr\\u00e9dito\": 9854.0, \"No_de_inscripci\\u00f3n_SHCP\": \"230/2011\", \"Registro_Estatal\": \"208/11\", \"Ambito\": \"Municipal\", \"Instituci\\u00f3n_Acreedora\": \"Banobras S.N.C\", \"Tipo_de_Obligaci\\u00f3n\": \"Contrato de Apertura de Cr\\u00e9dito Simple\", \"Clase_del_titulo\": \"Pesos\", \"Monto_original_contratado_en_pesos\": 13877698.0, \"Monto_dispuesto_en_pesos\": 11890523.15, \"Saldo_en_pesos\": 6275553.2, \"Tasa\": \"TIIE + 2.67\", \"Fecha_de_Contrataci\\u00f3n\": \"13/06/2011\", \"Plazo_m\\u00e1ximo_(meses)\": \"120\", \"Fecha_de_Vencimiento\": \"09/09/2021\", \"Garant\\u00eda\": \"Participaciones Federales\", \"Destino\": \"Programa de modernizaci\\u00f3n catastral, IVA e intereses que se generen durante el periodo de disposici\\u00f3n.\"}, {\"Ente_Acreditado\": \"Comit\\u00e9 Municipal de Agua Potable y Alcantarillado de Salamanca, Gto.\", \"No_de_Cr\\u00e9dito\": null, \"No_de_inscripci\\u00f3n_SHCP\": \"527/2011\", \"Registro_Estatal\": \"209/11\", \"Ambito\": \"Paramunicipal\", \"Instituci\\u00f3n_Acreedora\": \"Banco del Baj\\u00edo, S.A.\", \"Tipo_de_Obligaci\\u00f3n\": \"Contrato de Apertura de Cr\\u00e9dito Simple\", \"Clase_del_titulo\": \"Pesos\", \"Monto_original_contratado_en_pesos\": 43000000.0, \"Monto_dispuesto_en_pesos\": 37051609.32, \"Saldo_en_pesos\": 21695344.67, \"Tasa\": \"TIIE + 1.52\", \"Fecha_de_Contrataci\\u00f3n\": \"05/10/2011\", \"Plazo_m\\u00e1ximo_(meses)\": \"180\", \"Fecha_de_Vencimiento\": \"14/12/2026\", \"Garant\\u00eda\": \"Participaciones del municipio de Salamanca y en segundo t\\u00e9rmino participaciones del Estado de Guanajuato\", \"Destino\": \"Construcci\\u00f3n, operaci\\u00f3n y funcionamiento de la planta de tratamientos de aguas residuales y sus colectores.\"}, {\"Ente_Acreditado\": \"Gobierno del Estado de Guanajuato\", \"No_de_Cr\\u00e9dito\": null, \"No_de_inscripci\\u00f3n_SHCP\": \"645/2011\", \"Registro_Estatal\": \"211/11\", \"Ambito\": \"Estatal\", \"Instituci\\u00f3n_Acreedora\": \"Banamex\", \"Tipo_de_Obligaci\\u00f3n\": \"Contrato de Apertura de Cr\\u00e9dito Simple\", \"Clase_del_titulo\": \"Pesos\", \"Monto_original_contratado_en_pesos\": 336719709.88, \"Monto_dispuesto_en_pesos\": 336719709.88, \"Saldo_en_pesos\": 168359855.08, \"Tasa\": \"TIIE + 0.68\", \"Fecha_de_Contrataci\\u00f3n\": \"23/11/2011\", \"Plazo_m\\u00e1ximo_(meses)\": \"120\", \"Fecha_de_Vencimiento\": \"13/12/2021\", \"Garant\\u00eda\": \"Participaciones Federales\", \"Destino\": \"Llevar a cabo los siguientes proyectos: 1) Camino de acceso a Atarjea; 2) Libramiento Norte de Celaya; 3) Libramiento Norponiente de Guanajuato; 4) Paso desnivel Castro del R\\u00edo de Irapuato; 5) Modernizaci\\u00f3n y rehabilitaci\\u00f3n del Libramiento Morelos de Le\\u00f3n; 6) Sistema Integral de Transporte de Le\\u00f3n, segunda etapa; 7) Eje Bicentenario de Le\\u0097\\u00f3n; 8) Carretera E.C. {Ocampo-Villa de Arriaga) - E.C. (Ocampo-Ojuelos) ; 9) Carretera Laguna de Guadalupe, Boulevard Las Torres de Salamanca, primera etapa; 10) Carretera San Diego de la Uni\\u0097\\u00f3n-San Felipe; 11) Autopista Salamanca Le\\u0097\\u00f3n; 12) Carretera Romita-Puerto Interior; 13) Autopista Guanajuato-San Miguel de Allende; 14) Modernizaci\\u0097n de la Carretera San Diego de la Uni\\u0097\\u00f3n-Carretera Federal 57; 15) Boulevard Metropolitano en Uriangato-Morole\\u0097n-Yuriria; 16) Infraestructura de apoyo a la seguridad p\\u009c\\u00fablica; 17) Programa de atenci\\u0097\\u00f3n de cruces ferroviarios; 18) Programa integral de atenci\\u0097\\u00f3n carretera; 19) Parque industrial Laja Baj\\u0092o; 20) Terminal multimodal de Celaya; 21) Parque industrial de proveedur\\u00ed\\u0092a automotriz; 22) Parque tecnoindustrial en Le\\u0097\\u00f3n; 23) Ampliaci\\u0097n del Puerto Interior Guanajuato; 24) Sistema de parques tecnol\\u0097gicos del Estado de Guanajuato; 25) Infraestructura industrial en Irapuato; 26) Desarrollo tur\\u00ed\\u0092stico de pueblos mineros; 27) Programa para fortalecer el desarrollo tur\\u0092\\u00edstico de Mineral de Pozos; 28) Paradores en el Estado de Guanajuato; 29) Se\\u0096\\u00f1al\\u00e9\\u008etica en el Estado de Guanajuato; 30) Desarrollo tur\\u0092\\u00edstico de la Laguna de Yuriria; 31) ExpoBicentenario 2010; 32) Programa de desarrollo tur\\u0092\\u00edstico Expreso del Baj\\u00ed\\u0092o; 33) Proyecto sobre la calidad de la educaci\\u0097\\u00f3n; 34) F\\u0097\\u00f3rum Cultural Guanajuato; 35) Infraestructura de apoyo social; 36) Infraestructura deportiva municipal; 37) Proyecto campo competitivo; 38) Tecnificaci\\u0097\\u00f3n de riego; 39) Parque agroindustrial de Irapuato; 40) Programa de atracci\\u0097\\u00f3n de inversiones y fortalecimiento comercial; 41) Programa de apoyo al empleo.\"}, {\"Ente_Acreditado\": \"Gobierno del Estado de Guanajuato\", \"No_de_Cr\\u00e9dito\": null, \"No_de_inscripci\\u00f3n_SHCP\": \"713/2011\", \"Registro_Estatal\": \"212/11\", \"Ambito\": \"Estatal\", \"Instituci\\u00f3n_Acreedora\": \"BBVA Bancomer\", \"Tipo_de_Obligaci\\u00f3n\": \"Contrato de Apertura de Cr\\u00e9dito Simple\", \"Clase_del_titulo\": \"Pesos\", \"Monto_original_contratado_en_pesos\": 500000000.0, \"Monto_dispuesto_en_pesos\": 487161920.75, \"Saldo_en_pesos\": 247640643.22, \"Tasa\": \"TIIE + 0.70\", \"Fecha_de_Contrataci\\u00f3n\": \"14/12/2011\", \"Plazo_m\\u00e1ximo_(meses)\": \"120\", \"Fecha_de_Vencimiento\": \"27/12/2021\", \"Garant\\u00eda\": \"Participaciones Federales\", \"Destino\": \"Llevar a cabo los siguientes proyectos: 1) Camino de acceso a Atarjea; 2) Libramiento Norte de Celaya; 3) Libramiento Norponiente de Guanajuato; 4) Paso desnivel Castro del R\\u00edo de Irapuato; 5) Modernizaci\\u00f3n y rehabilitaci\\u00f3n del Libramiento Morelos de Le\\u00f3n; 6) Sistema Integral de Transporte de Le\\u00f3n, segunda etapa; 7) Eje Bicentenario de Le\\u0097\\u00f3n; 8) Carretera E.C. {Ocampo-Villa de Arriaga) - E.C. (Ocampo-Ojuelos) ; 9) Carretera Laguna de Guadalupe, Boulevard Las Torres de Salamanca, primera etapa; 10) Carretera San Diego de la Uni\\u0097\\u00f3n-San Felipe; 11) Autopista Salamanca Le\\u0097\\u00f3n; 12) Carretera Romita-Puerto Interior; 13) Autopista Guanajuato-San Miguel de Allende; 14) Modernizaci\\u0097n de la Carretera San Diego de la Uni\\u0097\\u00f3n-Carretera Federal 57; 15) Boulevard Metropolitano en Uriangato-Morole\\u0097n-Yuriria; 16) Infraestructura de apoyo a la seguridad p\\u009c\\u00fablica; 17) Programa de atenci\\u0097\\u00f3n de cruces ferroviarios; 18) Programa integral de atenci\\u0097\\u00f3n carretera; 19) Parque industrial Laja Baj\\u0092o; 20) Terminal multimodal de Celaya; 21) Parque industrial de proveedur\\u00ed\\u0092a automotriz; 22) Parque tecnoindustrial en Le\\u0097\\u00f3n; 23) Ampliaci\\u0097n del Puerto Interior Guanajuato; 24) Sistema de parques tecnol\\u0097gicos del Estado de Guanajuato; 25) Infraestructura industrial en Irapuato; 26) Desarrollo tur\\u00ed\\u0092stico de pueblos mineros; 27) Programa para fortalecer el desarrollo tur\\u0092\\u00edstico de Mineral de Pozos; 28) Paradores en el Estado de Guanajuato; 29) Se\\u0096\\u00f1al\\u00e9\\u008etica en el Estado de Guanajuato; 30) Desarrollo tur\\u0092\\u00edstico de la Laguna de Yuriria; 31) ExpoBicentenario 2010; 32) Programa de desarrollo tur\\u0092\\u00edstico Expreso del Baj\\u00ed\\u0092o; 33) Proyecto sobre la calidad de la educaci\\u0097\\u00f3n; 34) F\\u0097\\u00f3rum Cultural Guanajuato; 35) Infraestructura de apoyo social; 36) Infraestructura deportiva municipal; 37) Proyecto campo competitivo; 38) Tecnificaci\\u0097\\u00f3n de riego; 39) Parque agroindustrial de Irapuato; 40) Programa de atracci\\u0097\\u00f3n de inversiones y fortalecimiento comercial; 41) Programa de apoyo al empleo.\"}, {\"Ente_Acreditado\": \"P\\u00e9njamo\", \"No_de_Cr\\u00e9dito\": null, \"No_de_inscripci\\u00f3n_SHCP\": \"P11-0312038\", \"Registro_Estatal\": \"215/12\", \"Ambito\": \"Municipal\", \"Instituci\\u00f3n_Acreedora\": \"Banco del Baj\\u00edo, S.A.\", \"Tipo_de_Obligaci\\u00f3n\": \"Contrato de Apertura de Cr\\u00e9dito Simple\", \"Clase_del_titulo\": \"Pesos\", \"Monto_original_contratado_en_pesos\": 35000000.0, \"Monto_dispuesto_en_pesos\": 35000000.0, \"Saldo_en_pesos\": 7777784.0, \"Tasa\": \"TIIE + 1.90\", \"Fecha_de_Contrataci\\u00f3n\": \"13/02/2012\", \"Plazo_m\\u00e1ximo_(meses)\": \"72\", \"Fecha_de_Vencimiento\": \"02/04/2018\", \"Garant\\u00eda\": \"Participaciones Federales\", \"Destino\": \"1) Adquisici\\u00f3n de reserva territorial; 2) Construcci\\u00f3n del Parque Lineal Boulevard P\\u00e9njamo- Estaci\\u00f3n P\\u00e9njamo; y 3) Asfaltado del camino Veredas- Cruces de Rojas.\"}, {\"Ente_Acreditado\": \"Uriangato\", \"No_de_Cr\\u00e9dito\": 10490.0, \"No_de_inscripci\\u00f3n_SHCP\": \"P11-0312040\", \"Registro_Estatal\": \"217/12\", \"Ambito\": \"Municipal\", \"Instituci\\u00f3n_Acreedora\": \"Banobras S.N.C\", \"Tipo_de_Obligaci\\u00f3n\": \"Contrato de Apertura de Cr\\u00e9dito Simple\", \"Clase_del_titulo\": \"Pesos\", \"Monto_original_contratado_en_pesos\": 14947836.0, \"Monto_dispuesto_en_pesos\": 14947836.0, \"Saldo_en_pesos\": 1140941.51, \"Tasa\": \"TIIE + 2.18\", \"Fecha_de_Contrataci\\u00f3n\": \"06/03/2012\", \"Plazo_m\\u00e1ximo_(meses)\": \"60\", \"Fecha_de_Vencimiento\": \"06/02/2017\", \"Garant\\u00eda\": \"Participaciones Federales\", \"Destino\": \"Proyecto ejecutivo del programa de modernizaci\\u00f3n catastral; Porgrama H\\u00e1bitat; proyecto ejectuvio de la Av. Paseo de Los H\\u00e9roes; remodelaci\\u00f3n de la Presidencia Municipal.\"}, {\"Ente_Acreditado\": \"Valle de Santiago\", \"No_de_Cr\\u00e9dito\": null, \"No_de_inscripci\\u00f3n_SHCP\": \"P11-0612090\", \"Registro_Estatal\": \"219/12\", \"Ambito\": \"Municipal\", \"Instituci\\u00f3n_Acreedora\": \"Banco del Baj\\u00edo, S.A.\", \"Tipo_de_Obligaci\\u00f3n\": \"Contrato de Apertura de Cr\\u00e9dito Simple\", \"Clase_del_titulo\": \"Pesos\", \"Monto_original_contratado_en_pesos\": 6929675.89, \"Monto_dispuesto_en_pesos\": 6929675.89, \"Saldo_en_pesos\": 808462.09, \"Tasa\": \"TIIE + 1.87\", \"Fecha_de_Contrataci\\u00f3n\": \"14/05/2012\", \"Plazo_m\\u00e1ximo_(meses)\": \"60\", \"Fecha_de_Vencimiento\": \"26/09/2017\", \"Garant\\u00eda\": \"Participaciones Federales\", \"Destino\": \"Restauraci\\u00f3n del Templo de San Francisco y remodelaci\\u00f3n del Jard\\u00edn Principal\"}, {\"Ente_Acreditado\": \"Gobierno del Estado de Guanajuato\", \"No_de_Cr\\u00e9dito\": null, \"No_de_inscripci\\u00f3n_SHCP\": \"P11-0612087\", \"Registro_Estatal\": \"226/12\", \"Ambito\": \"Estatal\", \"Instituci\\u00f3n_Acreedora\": \"Banamex\", \"Tipo_de_Obligaci\\u00f3n\": \"Contrato de Apertura de Cr\\u00e9dito Simple\", \"Clase_del_titulo\": \"Pesos\", \"Monto_original_contratado_en_pesos\": 628989198.96, \"Monto_dispuesto_en_pesos\": 310689997.93, \"Saldo_en_pesos\": 170879499.18, \"Tasa\": \"TIIE + 0.66\", \"Fecha_de_Contrataci\\u00f3n\": \"08/06/2012\", \"Plazo_m\\u00e1ximo_(meses)\": \"120\", \"Fecha_de_Vencimiento\": \"27/06/2022\", \"Garant\\u00eda\": \"Participaciones Federales\", \"Destino\": \"Inversi\\u00f3n p\\u00fablica productiva\"}, {\"Ente_Acreditado\": \"Gobierno del Estado de Guanajuato\", \"No_de_Cr\\u00e9dito\": null, \"No_de_inscripci\\u00f3n_SHCP\": \"P11-0813101\", \"Registro_Estatal\": \"236/13\", \"Ambito\": \"Estatal\", \"Instituci\\u00f3n_Acreedora\": \"Banamex\", \"Tipo_de_Obligaci\\u00f3n\": \"Contrato de Apertura de Cr\\u00e9dito Simple\", \"Clase_del_titulo\": \"Pesos\", \"Monto_original_contratado_en_pesos\": 644000000.0, \"Monto_dispuesto_en_pesos\": 644000000.0, \"Saldo_en_pesos\": 225400000.13, \"Tasa\": \"TIIE + 0.43\", \"Fecha_de_Contrataci\\u00f3n\": \"13/08/2013\", \"Plazo_m\\u00e1ximo_(meses)\": \"60\", \"Fecha_de_Vencimiento\": \"26/09/2018\", \"Garant\\u00eda\": \"Participaciones Federales\", \"Destino\": \"Inversi\\u00f3n p\\u00fablica productiva\"}, {\"Ente_Acreditado\": \"Gobierno del Estado de Guanajuato\", \"No_de_Cr\\u00e9dito\": null, \"No_de_inscripci\\u00f3n_SHCP\": \"P11-0813102\", \"Registro_Estatal\": \"237/13\", \"Ambito\": \"Estatal\", \"Instituci\\u00f3n_Acreedora\": \"HSBC \", \"Tipo_de_Obligaci\\u00f3n\": \"Contrato de Apertura de Cr\\u00e9dito Simple\", \"Clase_del_titulo\": \"Pesos\", \"Monto_original_contratado_en_pesos\": 235950160.0, \"Monto_dispuesto_en_pesos\": 185950160.0, \"Saldo_en_pesos\": 64786494.81, \"Tasa\": \"TIIE + 0.84\", \"Fecha_de_Contrataci\\u00f3n\": \"13/08/2013\", \"Plazo_m\\u00e1ximo_(meses)\": \"60\", \"Fecha_de_Vencimiento\": \"26/10/2018\", \"Garant\\u00eda\": \"Participaciones Federales\", \"Destino\": \"Inversi\\u00f3n p\\u00fablica productiva\"}, {\"Ente_Acreditado\": \"Gobierno del Estado de Guanajuato\", \"No_de_Cr\\u00e9dito\": null, \"No_de_inscripci\\u00f3n_SHCP\": \"P11-0813104\", \"Registro_Estatal\": \"239/13\", \"Ambito\": \"Estatal\", \"Instituci\\u00f3n_Acreedora\": \"Scotiabank\", \"Tipo_de_Obligaci\\u00f3n\": \"Contrato de Apertura de Cr\\u00e9dito Simple\", \"Clase_del_titulo\": \"Pesos\", \"Monto_original_contratado_en_pesos\": 500000000.0, \"Monto_dispuesto_en_pesos\": 500000000.0, \"Saldo_en_pesos\": 175000000.13, \"Tasa\": \"TIIE + 0.5\", \"Fecha_de_Contrataci\\u00f3n\": \"23/08/2013\", \"Plazo_m\\u00e1ximo_(meses)\": \"60\", \"Fecha_de_Vencimiento\": \"02/10/2018\", \"Garant\\u00eda\": \"Participaciones Federales\", \"Destino\": \"Inversi\\u00f3n p\\u00fablica productiva\"}, {\"Ente_Acreditado\": \"San Francisco del Rinc\\u00f3n\", \"No_de_Cr\\u00e9dito\": null, \"No_de_inscripci\\u00f3n_SHCP\": \"P11-0312041\", \"Registro_Estatal\": \"240/13\", \"Ambito\": \"Municipal\", \"Instituci\\u00f3n_Acreedora\": \"Banco del Baj\\u00edo, S.A.\", \"Tipo_de_Obligaci\\u00f3n\": \"Contrato de Apertura de Cr\\u00e9dito Simple\", \"Clase_del_titulo\": \"Pesos\", \"Monto_original_contratado_en_pesos\": 25666672.0, \"Monto_dispuesto_en_pesos\": 25666672.0, \"Saldo_en_pesos\": 19962952.0, \"Tasa\": \"TIIE + 1.60\", \"Fecha_de_Contrataci\\u00f3n\": \"20/08/2013\", \"Plazo_m\\u00e1ximo_(meses)\": \"180\", \"Fecha_de_Vencimiento\": \"11/08/2028\", \"Garant\\u00eda\": \"Participaciones Federales\", \"Destino\": \"Reestructura del cr\\u00e9dito con registro 216/12\"}, {\"Ente_Acreditado\": \"San Francisco del Rinc\\u00f3n\", \"No_de_Cr\\u00e9dito\": null, \"No_de_inscripci\\u00f3n_SHCP\": \"P11-1013117\", \"Registro_Estatal\": \"241/13\", \"Ambito\": \"Municipal\", \"Instituci\\u00f3n_Acreedora\": \"Banco del Baj\\u00edo, S.A.\", \"Tipo_de_Obligaci\\u00f3n\": \"Contrato de Apertura de Cr\\u00e9dito Simple\", \"Clase_del_titulo\": \"Pesos\", \"Monto_original_contratado_en_pesos\": 22000000.0, \"Monto_dispuesto_en_pesos\": 22000000.0, \"Saldo_en_pesos\": 17653960.0, \"Tasa\": \"TIIE +1.60\", \"Fecha_de_Contrataci\\u00f3n\": \"20/08/2013\", \"Plazo_m\\u00e1ximo_(meses)\": \"180\", \"Fecha_de_Vencimiento\": \"11/08/2028\", \"Garant\\u00eda\": \"Participaciones Federales\", \"Destino\": \"Compra de reserva territorial para la instalci\\u00f3n del CECYTEG\"}, {\"Ente_Acreditado\": \"Salamanca\", \"No_de_Cr\\u00e9dito\": null, \"No_de_inscripci\\u00f3n_SHCP\": \"P11-0913113\", \"Registro_Estatal\": \"242/13\", \"Ambito\": \"Municipal\", \"Instituci\\u00f3n_Acreedora\": \"Banco del Baj\\u00edo, S.A.\", \"Tipo_de_Obligaci\\u00f3n\": \"Contrato de Apertura de Cr\\u00e9dito Simple\", \"Clase_del_titulo\": \"Pesos\", \"Monto_original_contratado_en_pesos\": 70000000.0, \"Monto_dispuesto_en_pesos\": 60000000.0, \"Saldo_en_pesos\": 48546082.0, \"Tasa\": \"TIIE + 1.60\", \"Fecha_de_Contrataci\\u00f3n\": \"22/08/2013\", \"Plazo_m\\u00e1ximo_(meses)\": \"180\", \"Fecha_de_Vencimiento\": \"20/12/2028\", \"Garant\\u00eda\": \"Participaciones Federales\", \"Destino\": \"Adquisici\\u00f3n de un bien inmueble para prestaci\\u00f3n del servicio p\\u00fablico de panteones; adquisici\\u00f3n de un bien inmueble para el Centro de Comunicaciones, C\\u00f3mputo, Control y Comando, denomidado \\\"C4\\\", y acciones necesarias tendientes a la construcci\\u00f3n, rehabilitaci\\u00f3n, ampliaci\\u00f3n o equipamiento del mismo; pago de las afectaciones con motivo de la construcci\\u00f3n del proyecto \\\"Ampliaci\\u00f3n a cuatro carriles Paseo R\\u00edo Lerma, tramo calle R\\u00edo Lerma a calle Andr\\u00e9s Delgado\\\".\"}, {\"Ente_Acreditado\": \"Cuer\\u00e1maro\", \"No_de_Cr\\u00e9dito\": 6065100.0, \"No_de_inscripci\\u00f3n_SHCP\": \"P11-1013118\", \"Registro_Estatal\": \"243/13\", \"Ambito\": \"Municipal\", \"Instituci\\u00f3n_Acreedora\": \"Banco del Baj\\u00edo, S.A.\", \"Tipo_de_Obligaci\\u00f3n\": \"Contrato de apertura de cr\\u00e9dito simple\", \"Clase_del_titulo\": \"Pesos\", \"Monto_original_contratado_en_pesos\": 8200000.0, \"Monto_dispuesto_en_pesos\": 8200000.0, \"Saldo_en_pesos\": 6514465.0, \"Tasa\": \"TIIE + 3.0\", \"Fecha_de_Contrataci\\u00f3n\": \"19/09/2013\", \"Plazo_m\\u00e1ximo_(meses)\": \"180\", \"Fecha_de_Vencimiento\": \"06/11/2028\", \"Garant\\u00eda\": \"Participaciones Federales\", \"Destino\": \"Conjunto deportivo en la localidad de San Gregorio; cancha de usos m\\u00faltiples en el Fraccionamiento Camino Real; remodelaci\\u00f3n del toril San Miguel en la comunidad de Tupataro; aplicaci\\u00f3n de carpeta y emulsi\\u00f3n asf\\u00e1ltica en diversos caminos y calles de Cuer\\u00e1maro, Gto.; urbanizaci\\u00f3n de la calle acceso a la escuela primaria en la comunidad de Tupataro; 5ta etapa de la pavimentaci\\u00f3n de la calle principal en la comunidad San Gregorio;  pavimentaci\\u00f3n de la calle principal en la comunidad de Sarteneja;  2da etapa de la pavimentaci\\u00f3n de la calle principal en Galera de la Grulla;  pavimentaci\\u00f3n de la calle Venustiano Carranza para el acceso al nuevo hospital y la urbanizaci\\u00f3n de la calle Galena,  para el acceso al nuevo hospital.  \"}, {\"Ente_Acreditado\": \"Sistema de Agua Potable y Alcantarillado de Le\\u00f3n, Gto.\", \"No_de_Cr\\u00e9dito\": null, \"No_de_inscripci\\u00f3n_SHCP\": \"P11-0914133\", \"Registro_Estatal\": \"244/13\", \"Ambito\": \"Paramunicipal\", \"Instituci\\u00f3n_Acreedora\": \"Banco del Baj\\u00edo, S.A.\", \"Tipo_de_Obligaci\\u00f3n\": \"Contrato de Apertura de Cr\\u00e9dito en Cuenta Corriente Irrevocable, Contingente y Revolvente\", \"Clase_del_titulo\": \"Pesos\", \"Monto_original_contratado_en_pesos\": 110117708.87, \"Monto_dispuesto_en_pesos\": 0.0, \"Saldo_en_pesos\": 0.0, \"Tasa\": \"TIIE + 1.90\", \"Fecha_de_Contrataci\\u00f3n\": \"27/09/2013\", \"Plazo_m\\u00e1ximo_(meses)\": \"300\", \"Fecha_de_Vencimiento\": null, \"Garant\\u00eda\": \"Participaciones del Muncipio de Le\\u00f3n.\", \"Destino\": \"Cubrir faltantes de liquidez para el pago equivalente  a tres veces el importe mensual de la contraprestaci\\u00f3n CPS m\\u00e1s el IVA con el objeto de establecer una fuente de pago contingente cuando SAPAL no realice el pago respectivo con recursos propios.\"}, {\"Ente_Acreditado\": \"Santa Cruz de Juventino Rosas\", \"No_de_Cr\\u00e9dito\": null, \"No_de_inscripci\\u00f3n_SHCP\": \"P11-1213170\", \"Registro_Estatal\": \"245/13\", \"Ambito\": \"Municipal\", \"Instituci\\u00f3n_Acreedora\": \"Banco del Baj\\u00edo, S.A.\", \"Tipo_de_Obligaci\\u00f3n\": \"Contrato de Apertura de Cr\\u00e9dito Simple\", \"Clase_del_titulo\": \"Pesos\", \"Monto_original_contratado_en_pesos\": 35000000.0, \"Monto_dispuesto_en_pesos\": 35000000.0, \"Saldo_en_pesos\": 28330238.0, \"Tasa\": \"TIIE + 1.60\", \"Fecha_de_Contrataci\\u00f3n\": \"10/12/2013\", \"Plazo_m\\u00e1ximo_(meses)\": \"180\", \"Fecha_de_Vencimiento\": \"07/01/2029\", \"Garant\\u00eda\": \"Participaciones Federales\", \"Destino\": \"Adquisici\\u00f3n de un terreno para la construcci\\u00f3n de un plantel del Colegio de Estudios Cient\\u00edficos y Tecnol\\u00f3gicos del Estado de Guanajuato; inversi\\u00f3n necesaria para dotar de serviciso p\\u00fablicos al plantel del Colegio de Estudios Cient\\u00edficos y Tecnol\\u00f3gicos del Estado de Guanajuato; adquisici\\u00f3n de un terreno para la ampliaci\\u00f3n del cementerio municipal; inversi\\u00f3n necesaria para la operaci\\u00f3n de la ampliaci\\u00f3n del cementerio municipal; adquisici\\u00f3n de un terreno para la construcci\\u00f3n de un relleno sanitario para la disposici\\u00f3n de residuos; construcci\\u00f3n de las dos primeras celdas del relleno sanitario, categor\\u00eda \\\"B\\\" de conformidad con la Norma Oficial Mexicana; adquisici\\u00f3n de un terreno para la construcci\\u00f3n de instalaciones deportivas y recreativas; adquisici\\u00f3n de un terreno para la instalaci\\u00f3n de empresas y naves impulsoras de empleo; adquisici\\u00f3n de un terreno para la construcci\\u00f3n de vivienda popular.\"}, {\"Ente_Acreditado\": \"Comisi\\u00f3n Estatal del Agua de Guanajuato\\nSistema de Agua Potable y Alcantarillado de Le\\u00f3n, Gto.\", \"No_de_Cr\\u00e9dito\": null, \"No_de_inscripci\\u00f3n_SHCP\": \"P11-0914138\", \"Registro_Estatal\": \"247/14\", \"Ambito\": \"Paraestatal\\nParamunicipal\", \"Instituci\\u00f3n_Acreedora\": \"Concesionaria del Acueducto El Zapotillo S.A. de C.V.\", \"Tipo_de_Obligaci\\u00f3n\": \"P\\u00fablico-privada\", \"Clase_del_titulo\": \"Pesos\", \"Monto_original_contratado_en_pesos\": 3310000000.0, \"Monto_dispuesto_en_pesos\": 0.0, \"Saldo_en_pesos\": 0.0, \"Tasa\": null, \"Fecha_de_Contrataci\\u00f3n\": \"11/10/2011\", \"Plazo_m\\u00e1ximo_(meses)\": \"300\", \"Fecha_de_Vencimiento\": null, \"Garant\\u00eda\": \"Participaciones Federales \", \"Destino\": \"Inversi\\u00f3n p\\u00fablica productiva.\"}, {\"Ente_Acreditado\": \"Le\\u00f3n\", \"No_de_Cr\\u00e9dito\": 11513.0, \"No_de_inscripci\\u00f3n_SHCP\": \"P11-0414046\", \"Registro_Estatal\": \"248/14\", \"Ambito\": \"Municipal\", \"Instituci\\u00f3n_Acreedora\": \"Banobras S.N.C\", \"Tipo_de_Obligaci\\u00f3n\": \"Contrato de Apertura de Cr\\u00e9dito Simple\", \"Clase_del_titulo\": \"Pesos\", \"Monto_original_contratado_en_pesos\": 540000000.0, \"Monto_dispuesto_en_pesos\": 536000000.0, \"Saldo_en_pesos\": 525000000.0, \"Tasa\": \"TIIE + 0.94\", \"Fecha_de_Contrataci\\u00f3n\": \"18/03/2014\", \"Plazo_m\\u00e1ximo_(meses)\": \"240\", \"Fecha_de_Vencimiento\": \"19/06/2034\", \"Garant\\u00eda\": \"Participaciones Federales\", \"Destino\": \"1) Obras de pavimentaci\\u00f3n;\\n2) Sistema integrado de transporte (SIT), fases numero 3 y 4.\"}, {\"Ente_Acreditado\": \"Le\\u00f3n\", \"No_de_Cr\\u00e9dito\": null, \"No_de_inscripci\\u00f3n_SHCP\": \"P11-0514063\", \"Registro_Estatal\": \"249/14\", \"Ambito\": \"Municipal\", \"Instituci\\u00f3n_Acreedora\": \"Banamex\", \"Tipo_de_Obligaci\\u00f3n\": \"Contrato de Apertura de Cr\\u00e9dito Simple\", \"Clase_del_titulo\": \"Pesos\", \"Monto_original_contratado_en_pesos\": 632000000.0, \"Monto_dispuesto_en_pesos\": 609801665.27, \"Saldo_en_pesos\": 571706280.33, \"Tasa\": \"TIIE + 0.70\", \"Fecha_de_Contrataci\\u00f3n\": \"06/05/2014\", \"Plazo_m\\u00e1ximo_(meses)\": \"180\", \"Fecha_de_Vencimiento\": \"04/06/2029\", \"Garant\\u00eda\": \"Participaciones Federales\", \"Destino\": \"Refinanciamiento de los cr\\u00e9ditos, que se tienen contratados con el Banco del Baj\\u00edo, Sociedad An\\u00f3nima, Instituci\\u00f3n de Banca M\\u00faltiple con el Banco Mercantil del Norte (BANORTE) y con el Banco Nacional de Obras y Servicios P\\u00fablicos, S.N.C.\"}, {\"Ente_Acreditado\": \"Le\\u00f3n\", \"No_de_Cr\\u00e9dito\": null, \"No_de_inscripci\\u00f3n_SHCP\": \"P11-0714096\", \"Registro_Estatal\": \"250/14\", \"Ambito\": \"Municipal\", \"Instituci\\u00f3n_Acreedora\": \"Banorte\", \"Tipo_de_Obligaci\\u00f3n\": \"Contrato de Apertura de Cr\\u00e9dito Simple\", \"Clase_del_titulo\": \"Pesos\", \"Monto_original_contratado_en_pesos\": 271000000.0, \"Monto_dispuesto_en_pesos\": 255769230.0, \"Saldo_en_pesos\": 243193210.0, \"Tasa\": \"TIIE + 0.68\", \"Fecha_de_Contrataci\\u00f3n\": \"10/06/2014\", \"Plazo_m\\u00e1ximo_(meses)\": \"240\", \"Fecha_de_Vencimiento\": \"09/06/2034\", \"Garant\\u00eda\": \"Participaciones Federales\", \"Destino\": \"Refinanciamiento de los cr\\u00e9ditos, que se tienen contratados con el Banco del Baj\\u00edo, Sociedad An\\u00f3nima, Instituci\\u00f3n de Banca M\\u00faltiple con el Banco Mercantil del Norte (BANORTE) y con el Banco Nacional de Obras y Servicios P\\u00fablicos, S.N.C.\"}, {\"Ente_Acreditado\": \"Irapuato\", \"No_de_Cr\\u00e9dito\": null, \"No_de_inscripci\\u00f3n_SHCP\": \"P11-1014149\", \"Registro_Estatal\": \"252/14\", \"Ambito\": \"Municipal\", \"Instituci\\u00f3n_Acreedora\": \"BBVA Bancomer\", \"Tipo_de_Obligaci\\u00f3n\": \"Contrato de Apertura de Cr\\u00e9dito Simple\", \"Clase_del_titulo\": \"Pesos\", \"Monto_original_contratado_en_pesos\": 261485238.93, \"Monto_dispuesto_en_pesos\": 257611452.83, \"Saldo_en_pesos\": 221832077.83, \"Tasa\": \"TIIE + 0.70\", \"Fecha_de_Contrataci\\u00f3n\": \"30/09/2014\", \"Plazo_m\\u00e1ximo_(meses)\": \"180\", \"Fecha_de_Vencimiento\": \"21/11/2029\", \"Garant\\u00eda\": \"Participaciones Federales\", \"Destino\": \"Refinanciamiento del cr\\u00e9dito que se tiene contratado con el Banco del Baj\\u00edo S. A., Instituci\\u00f3n de Banca M\\u00faltiple,  derivado del  Proceso Jur\\u00eddico-Administrativo tendiente a la ejecuci\\u00f3n de la obra de Infraestructura vial, que incluye el cuarto cintur\\u00f3n vial y sus radiales, as\\u00ed como los servicios relacionados con los mismos, a ejecutarse en el Municipio.\"}, {\"Ente_Acreditado\": \"Irapuato\", \"No_de_Cr\\u00e9dito\": null, \"No_de_inscripci\\u00f3n_SHCP\": \"P11-1014150\", \"Registro_Estatal\": \"253/14\", \"Ambito\": \"Municipal\", \"Instituci\\u00f3n_Acreedora\": \"BBVA Bancomer\", \"Tipo_de_Obligaci\\u00f3n\": \"Contrato de Apertura de Cr\\u00e9dito Simple\", \"Clase_del_titulo\": \"Pesos\", \"Monto_original_contratado_en_pesos\": 200000000.0, \"Monto_dispuesto_en_pesos\": 200000000.0, \"Saldo_en_pesos\": 175888840.0, \"Tasa\": \"TIIE + 0.70\", \"Fecha_de_Contrataci\\u00f3n\": \"30/09/2014\", \"Plazo_m\\u00e1ximo_(meses)\": \"180\", \"Fecha_de_Vencimiento\": \"30/11/2029\", \"Garant\\u00eda\": \"Participaciones Federales\", \"Destino\": \"Adquisici\\u00f3n de maquinaria, terreno para pante\\u00f3n municipal, terreno para construcci\\u00f3n de un m\\u00f3dulo de COMUDAJ y pago de la adquisici\\u00f3n de reserva territorial.\"}, {\"Ente_Acreditado\": \"Gobierno del Estado de Guanajuato\", \"No_de_Cr\\u00e9dito\": null, \"No_de_inscripci\\u00f3n_SHCP\": \"P11-0516024\", \"Registro_Estatal\": \"283/16\", \"Ambito\": \"Estatal\", \"Instituci\\u00f3n_Acreedora\": \"Banamex\", \"Tipo_de_Obligaci\\u00f3n\": \"Contrato de Apertura de Cr\\u00e9dito Simple\", \"Clase_del_titulo\": \"Pesos\", \"Monto_original_contratado_en_pesos\": 2152000000.0, \"Monto_dispuesto_en_pesos\": 0.0, \"Saldo_en_pesos\": 2126972358.4, \"Tasa\": \"TIIE + 0.45\", \"Fecha_de_Contrataci\\u00f3n\": \"08/04/2016\", \"Plazo_m\\u00e1ximo_(meses)\": \"180\", \"Fecha_de_Vencimiento\": \"23/03/2031\", \"Garant\\u00eda\": \"Participaciones Federales\", \"Destino\": \"Se destinar\\u00e1n para financiar proyectos de inversi\\u00f3n p\\u00fablico productivo en los siguientes rubros y conforme o los importes que se refieren a continuaci\\u00f3n:\\nI. Fortalecimiento de lo infraestructura en salud- $860'000,000.00\\nII. Sistema de movilidad interurbano y metropolitano, sequndo etapa-$130'000,000.00\\nIII. Fortalecimiento d el sistema de seguridad publica-$100'000,000.00\\nIV. Eje metropolitano Le\\u00f3n-Silao-$200'000,000.00\\nV. Caminos rurales-$250'000,000.00\\nVI. Creaci\\u00f3n de fuentes de empleo y el desarrollo regional-$200'000,000.00\\nVII. Infraestructura poro lo reconstrucci\\u00f3n del tejido social (sociaL deportivo y educ ativo)-$2,500'000,000.00\"}, {\"Ente_Acreditado\": \"Celaya\", \"No_de_Cr\\u00e9dito\": null, \"No_de_inscripci\\u00f3n_SHCP\": \"P11-1016045\", \"Registro_Estatal\": \"285/16\", \"Ambito\": \"Municipal\", \"Instituci\\u00f3n_Acreedora\": \"BBVA Bancomer\", \"Tipo_de_Obligaci\\u00f3n\": null, \"Clase_del_titulo\": \"Pesos\", \"Monto_original_contratado_en_pesos\": 350000000.0, \"Monto_dispuesto_en_pesos\": 0.0, \"Saldo_en_pesos\": 79555555.56, \"Tasa\": \"TIIE + 0.73\", \"Fecha_de_Contrataci\\u00f3n\": null, \"Plazo_m\\u00e1ximo_(meses)\": \"180 meses\", \"Fecha_de_Vencimiento\": \"31/10/2031\", \"Garant\\u00eda\": \"Participaciones que le correspondan al Municipio durante el periodo del cr\\u00e9dito; y de manera complementaria la garant\\u00eda subsidiaria del Gobierno del Estado\", \"Destino\": \"Inversi\\u00f3n p\\u00fablica productiva\"}, {\"Ente_Acreditado\": null, \"No_de_Cr\\u00e9dito\": null, \"No_de_inscripci\\u00f3n_SHCP\": null, \"Registro_Estatal\": null, \"Ambito\": null, \"Instituci\\u00f3n_Acreedora\": null, \"Tipo_de_Obligaci\\u00f3n\": null, \"Clase_del_titulo\": null, \"Monto_original_contratado_en_pesos\": 0.0, \"Monto_dispuesto_en_pesos\": 0.0, \"Saldo_en_pesos\": 0.0, \"Tasa\": null, \"Fecha_de_Contrataci\\u00f3n\": null, \"Plazo_m\\u00e1ximo_(meses)\": null, \"Fecha_de_Vencimiento\": null, \"Garant\\u00eda\": null, \"Destino\": null}, {\"Ente_Acreditado\": null, \"No_de_Cr\\u00e9dito\": null, \"No_de_inscripci\\u00f3n_SHCP\": null, \"Registro_Estatal\": null, \"Ambito\": null, \"Instituci\\u00f3n_Acreedora\": null, \"Tipo_de_Obligaci\\u00f3n\": null, \"Clase_del_titulo\": null, \"Monto_original_contratado_en_pesos\": 0.0, \"Monto_dispuesto_en_pesos\": 0.0, \"Saldo_en_pesos\": 8087110560.9, \"Tasa\": null, \"Fecha_de_Contrataci\\u00f3n\": null, \"Plazo_m\\u00e1ximo_(meses)\": null, \"Fecha_de_Vencimiento\": null, \"Garant\\u00eda\": null, \"Destino\": null}]}}, {\"mode\": \"vega-lite\"});\n",
              "</script>"
            ]
          },
          "metadata": {
            "tags": []
          },
          "execution_count": 83
        }
      ]
    },
    {
      "cell_type": "code",
      "metadata": {
        "id": "S0kCS3gLHO5Z",
        "outputId": "ae73e30f-b708-4d2f-ee55-6561eb95dfff",
        "colab": {
          "base_uri": "https://localhost:8080/",
          "height": 534
        }
      },
      "source": [
        "Grafico_2 = alt.Chart(Datos).mark_bar().encode(\n",
        "    x = 'Ente_Acreditado',\n",
        "    y = 'Monto_original_contratado_en_pesos',\n",
        "    color = 'Ente_Acreditado'\n",
        ")\n",
        "Grafico_2"
      ],
      "execution_count": 84,
      "outputs": [
        {
          "output_type": "execute_result",
          "data": {
            "text/plain": [
              "alt.Chart(...)"
            ],
            "text/html": [
              "\n",
              "<div id=\"altair-viz-24e2937c3c134bcdb1acb2be569dfd8f\"></div>\n",
              "<script type=\"text/javascript\">\n",
              "  (function(spec, embedOpt){\n",
              "    let outputDiv = document.currentScript.previousElementSibling;\n",
              "    if (outputDiv.id !== \"altair-viz-24e2937c3c134bcdb1acb2be569dfd8f\") {\n",
              "      outputDiv = document.getElementById(\"altair-viz-24e2937c3c134bcdb1acb2be569dfd8f\");\n",
              "    }\n",
              "    const paths = {\n",
              "      \"vega\": \"https://cdn.jsdelivr.net/npm//vega@5?noext\",\n",
              "      \"vega-lib\": \"https://cdn.jsdelivr.net/npm//vega-lib?noext\",\n",
              "      \"vega-lite\": \"https://cdn.jsdelivr.net/npm//vega-lite@4.8.1?noext\",\n",
              "      \"vega-embed\": \"https://cdn.jsdelivr.net/npm//vega-embed@6?noext\",\n",
              "    };\n",
              "\n",
              "    function loadScript(lib) {\n",
              "      return new Promise(function(resolve, reject) {\n",
              "        var s = document.createElement('script');\n",
              "        s.src = paths[lib];\n",
              "        s.async = true;\n",
              "        s.onload = () => resolve(paths[lib]);\n",
              "        s.onerror = () => reject(`Error loading script: ${paths[lib]}`);\n",
              "        document.getElementsByTagName(\"head\")[0].appendChild(s);\n",
              "      });\n",
              "    }\n",
              "\n",
              "    function showError(err) {\n",
              "      outputDiv.innerHTML = `<div class=\"error\" style=\"color:red;\">${err}</div>`;\n",
              "      throw err;\n",
              "    }\n",
              "\n",
              "    function displayChart(vegaEmbed) {\n",
              "      vegaEmbed(outputDiv, spec, embedOpt)\n",
              "        .catch(err => showError(`Javascript Error: ${err.message}<br>This usually means there's a typo in your chart specification. See the javascript console for the full traceback.`));\n",
              "    }\n",
              "\n",
              "    if(typeof define === \"function\" && define.amd) {\n",
              "      requirejs.config({paths});\n",
              "      require([\"vega-embed\"], displayChart, err => showError(`Error loading script: ${err.message}`));\n",
              "    } else if (typeof vegaEmbed === \"function\") {\n",
              "      displayChart(vegaEmbed);\n",
              "    } else {\n",
              "      loadScript(\"vega\")\n",
              "        .then(() => loadScript(\"vega-lite\"))\n",
              "        .then(() => loadScript(\"vega-embed\"))\n",
              "        .catch(showError)\n",
              "        .then(() => displayChart(vegaEmbed));\n",
              "    }\n",
              "  })({\"config\": {\"view\": {\"continuousWidth\": 400, \"continuousHeight\": 300}}, \"data\": {\"name\": \"data-5662e0040bea0a393c0ae52fc23c4a09\"}, \"mark\": \"bar\", \"encoding\": {\"color\": {\"type\": \"nominal\", \"field\": \"Ente_Acreditado\"}, \"x\": {\"type\": \"nominal\", \"field\": \"Ente_Acreditado\"}, \"y\": {\"type\": \"quantitative\", \"field\": \"Monto_original_contratado_en_pesos\"}}, \"$schema\": \"https://vega.github.io/schema/vega-lite/v4.8.1.json\", \"datasets\": {\"data-5662e0040bea0a393c0ae52fc23c4a09\": [{\"Ente_Acreditado\": \"Gobierno del Estado de Guanajuato\", \"No_de_Cr\\u00e9dito\": null, \"No_de_inscripci\\u00f3n_SHCP\": \"167/2002\", \"Registro_Estatal\": \"124/02\", \"Ambito\": \"Estatal\", \"Instituci\\u00f3n_Acreedora\": \"Banco del Baj\\u00edo, S.A.\", \"Tipo_de_Obligaci\\u00f3n\": \"Contrato de Apertura de Cr\\u00e9dito Simple\", \"Clase_del_titulo\": \"Pesos\", \"Monto_original_contratado_en_pesos\": 233000000.0, \"Monto_dispuesto_en_pesos\": 232851337.75, \"Saldo_en_pesos\": 15597340.75, \"Tasa\": \"TIIE +1.00\", \"Fecha_de_Contrataci\\u00f3n\": \"09/12/2002\", \"Plazo_m\\u00e1ximo_(meses)\": \"180\", \"Fecha_de_Vencimiento\": \"27/11/2017\", \"Garant\\u00eda\": \"Participaciones Federales\", \"Destino\": \"Se destinar\\u00e1 precisa y exclusivamente para financiar el siguiente paquete de obras de infraestructura: Carretera Silao-San Felipe, Libramiento Sur de Celaya y la construcci\\u00f3n de los Puentes Carreteros en Santa Ana del Conde, la Ladrillera, San Antonio el Chico y Aldama.\"}, {\"Ente_Acreditado\": \"Gobierno del Estado de Guanajuato\", \"No_de_Cr\\u00e9dito\": 1466.0, \"No_de_inscripci\\u00f3n_SHCP\": \"169/02\", \"Registro_Estatal\": \"125/02\", \"Ambito\": \"Estatal\", \"Instituci\\u00f3n_Acreedora\": \"Banobras S.N.C\", \"Tipo_de_Obligaci\\u00f3n\": \"Contrato de apertura de cr\\u00e9dito simple y constituci\\u00f3n de garant\\u00edas\", \"Clase_del_titulo\": \"Pesos\", \"Monto_original_contratado_en_pesos\": 289037000.0, \"Monto_dispuesto_en_pesos\": 289037000.0, \"Saldo_en_pesos\": 52301933.78, \"Tasa\": \"FOAEM Nominal + 1.50\", \"Fecha_de_Contrataci\\u00f3n\": \"18/12/2002\", \"Plazo_m\\u00e1ximo_(meses)\": \"240\", \"Fecha_de_Vencimiento\": \"10/03/2023\", \"Garant\\u00eda\": \"Participaciones Federales\", \"Destino\": \"Se destinar\\u00e1 precisa y exclusivamente para financiar el siguiente paquete de obras de infraestructura: Carretera Silao-San Felipe, Libramiento Sur de Celaya y la construcci\\u00f3n de los Puentes Carreteros en Santa Ana del Conde, la Ladrillera, San Antonio el Chico y Aldama.\"}, {\"Ente_Acreditado\": \"Gobierno del Estado de Guanajuato\", \"No_de_Cr\\u00e9dito\": 1467.0, \"No_de_inscripci\\u00f3n_SHCP\": \"169/02\", \"Registro_Estatal\": \"125/02\", \"Ambito\": \"Estatal\", \"Instituci\\u00f3n_Acreedora\": \"Banobras S.N.C\", \"Tipo_de_Obligaci\\u00f3n\": \"Contrato de apertura de cr\\u00e9dito simple y constituci\\u00f3n de garant\\u00edas\", \"Clase_del_titulo\": \"UDIS\", \"Monto_original_contratado_en_pesos\": 289037000.0, \"Monto_dispuesto_en_pesos\": 289037000.0, \"Saldo_en_pesos\": 84325399.36, \"Tasa\": \"FOAEM Real + 1.50\", \"Fecha_de_Contrataci\\u00f3n\": \"18/12/2002\", \"Plazo_m\\u00e1ximo_(meses)\": \"240\", \"Fecha_de_Vencimiento\": \"10/03/2023\", \"Garant\\u00eda\": \"Participaciones Federales\", \"Destino\": \"Se destinar\\u00e1 precisa y exclusivamente para financiar el siguiente paquete de obras de infraestructura: Carretera Silao-San Felipe, Libramiento Sur de Celaya y la construcci\\u00f3n de los Puentes Carreteros en Santa Ana del Conde, la Ladrillera, San Antonio el Chico y Aldama.\"}, {\"Ente_Acreditado\": \"Tarimoro\", \"No_de_Cr\\u00e9dito\": 4470.0, \"No_de_inscripci\\u00f3n_SHCP\": \"276/2004\", \"Registro_Estatal\": \"140/04\", \"Ambito\": \"Municipal\", \"Instituci\\u00f3n_Acreedora\": \"Banobras S.N.C\", \"Tipo_de_Obligaci\\u00f3n\": \"Contrato de apertura de cr\\u00e9dito simple y constituci\\u00f3n de garant\\u00edas\", \"Clase_del_titulo\": \"Pesos\", \"Monto_original_contratado_en_pesos\": 3132842.97, \"Monto_dispuesto_en_pesos\": 3132842.97, \"Saldo_en_pesos\": 671324.13, \"Tasa\": \"TIIE * 1.120\", \"Fecha_de_Contrataci\\u00f3n\": \"11/11/2004\", \"Plazo_m\\u00e1ximo_(meses)\": \"180\", \"Fecha_de_Vencimiento\": \"23/12/2019\", \"Garant\\u00eda\": \"Participaciones Federales\", \"Destino\": \"Se destinar\\u00e1 \\u00fanica y exclusivamente en los siguientes t\\u00e9rminos: $15'000,000.00 (Quince millones de pesos 00/100 M.N) para aplicarlos a la reestructuraci\\u00f3n del cr\\u00e9dito autorizado mediante decreto n\\u00famero 190, expedido por la Quincuag\\u00e9sima Octava Legislatura y publicado en el Peri\\u00f3dico Oficial del Gobierno del Estado n\\u00famero 52, segunda parte, de fecha 1\\u00b0 de abril del a\\u00f1o 2003; $3'000,000.00 (Tres millones de pesos 00/100 M.N.) para cubrir parcialmente el costo de pavimentaci\\u00f3n de la carretera Tarimoro-Cerro Prieto, en el Municipio de Tarimoro, Gto; y $955,750.12 (Novecientos cincuenta y cinco mil setecientos cincuenta pesos 12/100 M.N.) para el pago de los accesorios financieros\"}, {\"Ente_Acreditado\": \"Gobierno del Estado de Guanajuato\", \"No_de_Cr\\u00e9dito\": 5768.0, \"No_de_inscripci\\u00f3n_SHCP\": \"234/2005\", \"Registro_Estatal\": \"147/05\", \"Ambito\": \"Estatal\", \"Instituci\\u00f3n_Acreedora\": \"Banobras S.N.C\", \"Tipo_de_Obligaci\\u00f3n\": \"Contrato de Apertura de Cr\\u00e9dito Simple\", \"Clase_del_titulo\": \"Pesos\", \"Monto_original_contratado_en_pesos\": 1184414400.0, \"Monto_dispuesto_en_pesos\": 1184414400.0, \"Saldo_en_pesos\": 97109245.0, \"Tasa\": \"CETES 182  + 1.34\", \"Fecha_de_Contrataci\\u00f3n\": \"20/05/2005\", \"Plazo_m\\u00e1ximo_(meses)\": \"216\", \"Fecha_de_Vencimiento\": \"01/02/2022\", \"Garant\\u00eda\": \"Participaciones Federales\", \"Destino\": \"Obra p\\u00fablica\"}, {\"Ente_Acreditado\": \"Gobierno del Estado de Guanajuato\", \"No_de_Cr\\u00e9dito\": 6342.0, \"No_de_inscripci\\u00f3n_SHCP\": \"234/2005\", \"Registro_Estatal\": \"147/05\", \"Ambito\": \"Estatal\", \"Instituci\\u00f3n_Acreedora\": \"Banobras S.N.C\", \"Tipo_de_Obligaci\\u00f3n\": \"Contrato de Apertura de Cr\\u00e9dito Simple\", \"Clase_del_titulo\": \"Pesos\", \"Monto_original_contratado_en_pesos\": 1184414400.0, \"Monto_dispuesto_en_pesos\": 1184414400.0, \"Saldo_en_pesos\": 88311746.67, \"Tasa\": \"CETES 182  + 1.33\", \"Fecha_de_Contrataci\\u00f3n\": \"20/05/2005\", \"Plazo_m\\u00e1ximo_(meses)\": \"216\", \"Fecha_de_Vencimiento\": \"01/02/2022\", \"Garant\\u00eda\": \"Participaciones Federales\", \"Destino\": \"Financiar el programa de financiamiento a estrategias sectoriales integrales en el estado de Guanajuato\"}, {\"Ente_Acreditado\": \"Gobierno del Estado de Guanajuato\", \"No_de_Cr\\u00e9dito\": 6938.0, \"No_de_inscripci\\u00f3n_SHCP\": \"234/2005\", \"Registro_Estatal\": \"147/05\", \"Ambito\": \"Estatal\", \"Instituci\\u00f3n_Acreedora\": \"Banobras S.N.C\", \"Tipo_de_Obligaci\\u00f3n\": \"Contrato de Apertura de Cr\\u00e9dito Simple\", \"Clase_del_titulo\": \"Pesos\", \"Monto_original_contratado_en_pesos\": 1184414400.0, \"Monto_dispuesto_en_pesos\": 1184414400.0, \"Saldo_en_pesos\": 36064550.65, \"Tasa\": \"CETES 182  + 1.08\", \"Fecha_de_Contrataci\\u00f3n\": \"20/05/2005\", \"Plazo_m\\u00e1ximo_(meses)\": \"216\", \"Fecha_de_Vencimiento\": \"01/02/2022\", \"Garant\\u00eda\": \"Participaciones Federales\", \"Destino\": \"Financiar el programa de financiamiento a estrategias sectoriales integrales en el estado de Guanajuato\"}, {\"Ente_Acreditado\": \"Gobierno del Estado de Guanajuato\", \"No_de_Cr\\u00e9dito\": 7061.0, \"No_de_inscripci\\u00f3n_SHCP\": \"234/2006\", \"Registro_Estatal\": \"147/05\", \"Ambito\": \"Estatal\", \"Instituci\\u00f3n_Acreedora\": \"Banobras S.N.C\", \"Tipo_de_Obligaci\\u00f3n\": \"Contrato de Apertura de Cr\\u00e9dito Simple\", \"Clase_del_titulo\": \"Pesos\", \"Monto_original_contratado_en_pesos\": 1184414400.0, \"Monto_dispuesto_en_pesos\": 1184414400.0, \"Saldo_en_pesos\": 106248939.08, \"Tasa\": \"CETES 182  + 1.11\", \"Fecha_de_Contrataci\\u00f3n\": \"20/05/2005\", \"Plazo_m\\u00e1ximo_(meses)\": \"216\", \"Fecha_de_Vencimiento\": \"01/02/2022\", \"Garant\\u00eda\": \"Participaciones Federales\", \"Destino\": \"Financiar el programa de financiamiento a estrategias sectoriales integrales en el estado de Guanajuato\"}, {\"Ente_Acreditado\": \"Gobierno del Estado de Guanajuato\", \"No_de_Cr\\u00e9dito\": 7848.0, \"No_de_inscripci\\u00f3n_SHCP\": \"234/2006\", \"Registro_Estatal\": \"147/05\", \"Ambito\": \"Estatal\", \"Instituci\\u00f3n_Acreedora\": \"Banobras S.N.C\", \"Tipo_de_Obligaci\\u00f3n\": \"Contrato de Apertura de Cr\\u00e9dito Simple\", \"Clase_del_titulo\": \"Pesos\", \"Monto_original_contratado_en_pesos\": 1184414400.0, \"Monto_dispuesto_en_pesos\": 1184414400.0, \"Saldo_en_pesos\": 84958370.54, \"Tasa\": \"CETES 182  + 1.22\", \"Fecha_de_Contrataci\\u00f3n\": \"20/05/2005\", \"Plazo_m\\u00e1ximo_(meses)\": \"216\", \"Fecha_de_Vencimiento\": \"01/02/2022\", \"Garant\\u00eda\": \"Participaciones Federales\", \"Destino\": \"Financiar el programa de financiamiento a estrategias sectoriales integrales en el estado de Guanajuato\"}, {\"Ente_Acreditado\": \"Jer\\u00e9cuaro\", \"No_de_Cr\\u00e9dito\": 7073.0, \"No_de_inscripci\\u00f3n_SHCP\": \"352/2007\", \"Registro_Estatal\": \"168/07\", \"Ambito\": \"Municipal\", \"Instituci\\u00f3n_Acreedora\": \"Banobras S.N.C\", \"Tipo_de_Obligaci\\u00f3n\": \"Contrato de Apertura de Cr\\u00e9dito Simple\", \"Clase_del_titulo\": \"Pesos\", \"Monto_original_contratado_en_pesos\": 4382506.0, \"Monto_dispuesto_en_pesos\": 4382506.0, \"Saldo_en_pesos\": 191225.21, \"Tasa\": \"TIIE + 1.81\", \"Fecha_de_Contrataci\\u00f3n\": \"07/12/2007\", \"Plazo_m\\u00e1ximo_(meses)\": \"120\", \"Fecha_de_Vencimiento\": \"02/01/2018\", \"Garant\\u00eda\": \"Participaciones Federales\", \"Destino\": \"Financiar los siguientes conceptos: \\nTramo 1.-Refinanciar saldo de la deuda del acreditado con BANOBRAS: comisi\\u00f3n por apertura del cr\\u00e9dito, incluye IVA; \\nTramo 2.-Conclusi\\u00f3n etapa II central de autobuses, incluido IVA e intereses que se generen durante el periodo de disposici\\u00f3n del cr\\u00e9dito.\"}, {\"Ente_Acreditado\": \"Jer\\u00e9cuaro\", \"No_de_Cr\\u00e9dito\": 7080.0, \"No_de_inscripci\\u00f3n_SHCP\": \"352/2007\", \"Registro_Estatal\": \"168/07\", \"Ambito\": \"Municipal\", \"Instituci\\u00f3n_Acreedora\": \"Banobras S.N.C\", \"Tipo_de_Obligaci\\u00f3n\": \"Contrato de Apertura de Cr\\u00e9dito Simple\", \"Clase_del_titulo\": \"Pesos\", \"Monto_original_contratado_en_pesos\": 4382506.0, \"Monto_dispuesto_en_pesos\": 4382506.0, \"Saldo_en_pesos\": 257038.22, \"Tasa\": \"TIIE + 1.81\", \"Fecha_de_Contrataci\\u00f3n\": \"07/12/2007\", \"Plazo_m\\u00e1ximo_(meses)\": \"120\", \"Fecha_de_Vencimiento\": \"21/12/2017\", \"Garant\\u00eda\": \"Participaciones Federales\", \"Destino\": \"Financiar los siguientes conceptos: refinanciar saldo de la deuda del acreditado con BANOBRAS: comisi\\u00f3n por apertura del cr\\u00e9dito, incluye IVA; conclusi\\u00f3n etapa II central de autobuses, incluido IVA e intereses que se generen durante el periodo de disposici\\u00f3n del cr\\u00e9dito.\"}, {\"Ente_Acreditado\": \"Gobierno del Estado de Guanajuato\", \"No_de_Cr\\u00e9dito\": null, \"No_de_inscripci\\u00f3n_SHCP\": \"348/2007\", \"Registro_Estatal\": \"170/07\", \"Ambito\": \"Estatal\", \"Instituci\\u00f3n_Acreedora\": \"BBVA Bancomer\", \"Tipo_de_Obligaci\\u00f3n\": \"Contrato de Apertura de Cr\\u00e9dito Simple\", \"Clase_del_titulo\": \"Pesos\", \"Monto_original_contratado_en_pesos\": 500000000.0, \"Monto_dispuesto_en_pesos\": 500000000.0, \"Saldo_en_pesos\": 202786100.0, \"Tasa\": \"TIIE + 1.60\", \"Fecha_de_Contrataci\\u00f3n\": \"18/12/2007\", \"Plazo_m\\u00e1ximo_(meses)\": \"180\", \"Fecha_de_Vencimiento\": \"21/12/2022\", \"Garant\\u00eda\": \"10% de la afectaci\\u00f3n de participaciones que en ingresos federales correspondan al estado de Guanajuato mediante contrato constitutivo de fideicomiso irrevocable de administraci\\u00f3n y medio No. F/47095-5.\", \"Destino\": \"Se destinar\\u00e1 precisa y exclusivamente para financiar las acciones incluidas en los programas de inversi\\u00f3n para los sectores de:\\nI. Programas de apoyo a los sectores industrial y comercial, y desarrollo de empleo;\\nII. Programas de apoyo al desarrollo de la infraestructura educativa y deportiva;\\nIII. Programas para el desarrollo de infraestructura hospitalaria y atenci\\u00f3n a la salud;\\nIV. Programas para el desarrollo de infraestructura hidr\\u00e1ulica y saneamiento;\\nV. Programas de Infraestructura carretera, edificaci\\u00f3n y equipamiento;\\nVI. Desarrollo agropecuario, ganadero, forestal y rural;\\nVII. Fortalecimiento a programas ecol\\u00f3gicos y de mejoramiento al medio ambiente;\\nVIII. Infraestructura, equipamiento y profesionalizaci\\u00f3n en Seguridad P\\u00fablica;\\nIX. Fomento de la investigaci\\u00f3n cient\\u00edfica y tecnol\\u00f3gica;\\nX. Programas educativos y culturales;\\nXI. Programas para el desarrollo y promoci\\u00f3n tur\\u00edstica; y\\nXII. Programas de apoyo para asistencia social, desarrollo social, deportivo, educativo, cultural y de fortalecimiento institucional.\"}, {\"Ente_Acreditado\": \"Gobierno del Estado de Guanajuato\", \"No_de_Cr\\u00e9dito\": null, \"No_de_inscripci\\u00f3n_SHCP\": \"349/2007\", \"Registro_Estatal\": \"171/07\", \"Ambito\": \"Estatal\", \"Instituci\\u00f3n_Acreedora\": \"Banamex\", \"Tipo_de_Obligaci\\u00f3n\": \"Contrato de Apertura de Cr\\u00e9dito Simple\", \"Clase_del_titulo\": \"Pesos\", \"Monto_original_contratado_en_pesos\": 500000000.0, \"Monto_dispuesto_en_pesos\": 500000000.0, \"Saldo_en_pesos\": 199999999.81, \"Tasa\": \"TIIE + 0.30\", \"Fecha_de_Contrataci\\u00f3n\": \"19/12/2007\", \"Plazo_m\\u00e1ximo_(meses)\": \"180\", \"Fecha_de_Vencimiento\": \"26/12/2022\", \"Garant\\u00eda\": \"12% de la afectaci\\u00f3n de participaciones que en ingresos federales correspondan al estado de Guanajuato mediante contrato constitutivo de fideicomiso irrevocable de administraci\\u00f3n y medio No. F/47095-5.\", \"Destino\": \"Se destinar\\u00e1 precisa y exclusivamente para financiar las acciones incluidas en los programas de inversi\\u00f3n para los sectores de:\\nI. Programas de apoyo a los sectores industrial y comercial, y desarrollo de empleo;\\nII. Programas de apoyo al desarrollo de la infraestructura educativa y deportiva;\\nIII. Programas para el desarrollo de infraestructura hospitalaria y atenci\\u00f3n a la salud;\\nIV. Programas para el desarrollo de infraestructura hidr\\u00e1ulica y saneamiento;\\nV. Programas de Infraestructura carretera, edificaci\\u00f3n y equipamiento;\\nVI. Desarrollo agropecuario, ganadero, forestal y rural;\\nVII. Fortalecimiento a programas ecol\\u00f3gicos y de mejoramiento al medio ambiente;\\nVIII. Infraestructura, equipamiento y profesionalizaci\\u00f3n en Seguridad P\\u00fablica;\\nIX. Fomento de la investigaci\\u00f3n cient\\u00edfica y tecnol\\u00f3gica;\\nX. Programas educativos y culturales;\\nXI. Programas para el desarrollo y promoci\\u00f3n tur\\u00edstica; y\\nXII. Programas de apoyo para asistencia social, desarrollo social, deportivo, educativo, cultural\\ny de fortalecimiento institucional.\"}, {\"Ente_Acreditado\": \"Abasolo\", \"No_de_Cr\\u00e9dito\": 7196.0, \"No_de_inscripci\\u00f3n_SHCP\": \"102/2008\", \"Registro_Estatal\": \"175/08\", \"Ambito\": \"Municipal\", \"Instituci\\u00f3n_Acreedora\": \"Banobras S.N.C\", \"Tipo_de_Obligaci\\u00f3n\": \"Contrato de Apertura de Cr\\u00e9dito Simple\", \"Clase_del_titulo\": \"Pesos\", \"Monto_original_contratado_en_pesos\": 13000000.0, \"Monto_dispuesto_en_pesos\": 13000000.0, \"Saldo_en_pesos\": 1747898.9, \"Tasa\": \"TIIE + 1.44\", \"Fecha_de_Contrataci\\u00f3n\": \"15/05/2008\", \"Plazo_m\\u00e1ximo_(meses)\": \"120\", \"Fecha_de_Vencimiento\": \"30/04/2018\", \"Garant\\u00eda\": \"Afectaci\\u00f3n de participaciones que en ingresos federales le corresponden al municipio.\", \"Destino\": \"Adquisici\\u00f3n de un terreno ubicado en el predio denominado \\\"Rancho de la Pe\\u00f1a de Guisa\\\" que ser\\u00e1 utilizado como reserva territorial, con el fin de fomentar la vivienda y para crear infraestructura educativa.\"}, {\"Ente_Acreditado\": \"Salamanca\", \"No_de_Cr\\u00e9dito\": null, \"No_de_inscripci\\u00f3n_SHCP\": \"285/2008\", \"Registro_Estatal\": \"177/08\", \"Ambito\": \"Municipal\", \"Instituci\\u00f3n_Acreedora\": \"Banco del Baj\\u00edo, S.A.\", \"Tipo_de_Obligaci\\u00f3n\": \"Contrato de Apertura de Cr\\u00e9dito Simple\", \"Clase_del_titulo\": \"Pesos\", \"Monto_original_contratado_en_pesos\": 46000000.0, \"Monto_dispuesto_en_pesos\": 46000000.0, \"Saldo_en_pesos\": 14616200.0, \"Tasa\": \"TIIE + 0.45\", \"Fecha_de_Contrataci\\u00f3n\": \"29/08/2008\", \"Plazo_m\\u00e1ximo_(meses)\": \"144\", \"Fecha_de_Vencimiento\": \"02/09/2020\", \"Garant\\u00eda\": \"Participaciones Federales\", \"Destino\": \"1) Construcci\\u00f3n de paso inferior de la Avenida Cazadora, tramo avenida Faja de Oro - Avenida delTrabajo; 2) Construcci\\u00f3n del Boulevard Las Torres, tramo Boulevard Clouthier - Distribuidor Vial; 3) Adquisici\\u00f3n de un terreno para la construcci\\u00f3n de un hospital materno infantil; y 4) Construcci\\u00f3n de camino de acceso a la divisi\\u00f3n de Ingenerias, campus Salamanca-Irapuato .\"}, {\"Ente_Acreditado\": \"Tarandacuao\", \"No_de_Cr\\u00e9dito\": 7491.0, \"No_de_inscripci\\u00f3n_SHCP\": \"293/2008\", \"Registro_Estatal\": \"178/08\", \"Ambito\": \"Municipal\", \"Instituci\\u00f3n_Acreedora\": \"Banobras S.N.C\", \"Tipo_de_Obligaci\\u00f3n\": \"Contrato de Apertura de Cr\\u00e9dito Simple\", \"Clase_del_titulo\": \"Pesos\", \"Monto_original_contratado_en_pesos\": 7002824.12, \"Monto_dispuesto_en_pesos\": 7002824.12, \"Saldo_en_pesos\": 1412878.62, \"Tasa\": \"TIIE + 1.53\", \"Fecha_de_Contrataci\\u00f3n\": \"01/09/2008\", \"Plazo_m\\u00e1ximo_(meses)\": \"120\", \"Fecha_de_Vencimiento\": \"08/10/2018\", \"Garant\\u00eda\": \"Participaciones Federales\", \"Destino\": \"Diversas obras p\\u00fablicas productivas, particularmente (I) Programa 3x1 para migrantes; (II) Construcci\\u00f3n del Centro Gerontol\\u00f3gico (segunda etapa); (III) Construcci\\u00f3n del Centro Regional de Desarrollo Tur\\u00edstico y Ambiental (tercera etapa); (IV) Construcci\\u00f3n del Edificio de Seguridad P\\u00fablica (primera etapa); (V) Construcci\\u00f3n del segundo nivel del Hospital Comunitario en la cabecera municipal; (VI) Paradero de autob\\u00fas en la cabecera municipal y casetas rurales en las comunidades de la Virgen, San Jos\\u00e9 de Hidalgo, San Joaqu\\u00edn de Porto, la Soledad y San Antonio; (VII) Construcci\\u00f3n de sal\\u00f3n de usos m\\u00faltiples en la Unidad de Servicios de Apoyo a la Educaci\\u00f3n (USAE) y Centro de Desarrollo Educativo (CEDE); (VIII) Construcci\\u00f3n de sanitarios en el campo de b\\u00e9isbol \\\"Profr. Odil\\u00f3n Garc\\u00eda Ch\\u00e1vez\\\"; (IX) Construcci\\u00f3n de sanitarios en los campos de f\\u00fatbol I y II \\\"Las Galeras\\\"; (X) Empastado del campo de f\\u00fatbol l \\\"Las Galeras\\\"; (XI) Programa de Apoyo a la Producci\\u00f3n Rural; y (XII) Adquisici\\u00f3n de un cami\\u00f3n\\nrecolector de basura.\"}, {\"Ente_Acreditado\": \"Silao de la Victoria\", \"No_de_Cr\\u00e9dito\": null, \"No_de_inscripci\\u00f3n_SHCP\": \"446/2008\", \"Registro_Estatal\": \"180/08\", \"Ambito\": \"Municipal\", \"Instituci\\u00f3n_Acreedora\": \"Banco del Baj\\u00edo, S.A.\", \"Tipo_de_Obligaci\\u00f3n\": \"Contrato de Apertura de Cr\\u00e9dito Simple\", \"Clase_del_titulo\": \"Pesos\", \"Monto_original_contratado_en_pesos\": 52000000.0, \"Monto_dispuesto_en_pesos\": 52000000.0, \"Saldo_en_pesos\": 25896160.0, \"Tasa\": \"TIIE + 2.25\", \"Fecha_de_Contrataci\\u00f3n\": \"11/11/2008\", \"Plazo_m\\u00e1ximo_(meses)\": \"180\", \"Fecha_de_Vencimiento\": \"31/10/2023\", \"Garant\\u00eda\": \"Participaciones Federales\", \"Destino\": \"Inversiones p\\u00fablicas productivas\"}, {\"Ente_Acreditado\": \"Doctor Mora\", \"No_de_Cr\\u00e9dito\": 8270.0, \"No_de_inscripci\\u00f3n_SHCP\": \"228/2009\", \"Registro_Estatal\": \"186/09\", \"Ambito\": \"Municipal\", \"Instituci\\u00f3n_Acreedora\": \"Banobras S.N.C\", \"Tipo_de_Obligaci\\u00f3n\": \"Contrato de apertura de cr\\u00e9dito simple y constituci\\u00f3n de garant\\u00edas\", \"Clase_del_titulo\": \"Pesos\", \"Monto_original_contratado_en_pesos\": 7493848.97, \"Monto_dispuesto_en_pesos\": 7493848.97, \"Saldo_en_pesos\": 1663398.22, \"Tasa\": \"TIIE + 2.37\", \"Fecha_de_Contrataci\\u00f3n\": \"30/06/2009\", \"Plazo_m\\u00e1ximo_(meses)\": \"120\", \"Fecha_de_Vencimiento\": \"24/09/2019\", \"Garant\\u00eda\": \"Participaciones Federales\", \"Destino\": \"Adquisici\\u00f3n reserva territorial\"}, {\"Ente_Acreditado\": \"Tarimoro\", \"No_de_Cr\\u00e9dito\": 8262.0, \"No_de_inscripci\\u00f3n_SHCP\": \"227/2009\", \"Registro_Estatal\": \"187/09\", \"Ambito\": \"Municipal\", \"Instituci\\u00f3n_Acreedora\": \"Banobras S.N.C\", \"Tipo_de_Obligaci\\u00f3n\": \"Contrato de Apertura de Cr\\u00e9dito Simple\", \"Clase_del_titulo\": \"Pesos\", \"Monto_original_contratado_en_pesos\": 4848411.91, \"Monto_dispuesto_en_pesos\": 4848411.91, \"Saldo_en_pesos\": 1341717.83, \"Tasa\": \"TIIE + 2.67\", \"Fecha_de_Contrataci\\u00f3n\": \"17/07/2009\", \"Plazo_m\\u00e1ximo_(meses)\": \"120\", \"Fecha_de_Vencimiento\": \"19/08/2019\", \"Garant\\u00eda\": \"Participaciones Federales\", \"Destino\": \"Sistema de drenaje sanitario el Charco Largo; pavimentaci\\u00f3n concreto hidr\\u00e1ulico calle 16 de septiembre comunidad La Moncada; construcci\\u00f3n parque col. San Isidro.\"}, {\"Ente_Acreditado\": \"Cuer\\u00e1maro\", \"No_de_Cr\\u00e9dito\": 4284212.0, \"No_de_inscripci\\u00f3n_SHCP\": \"246/2009\", \"Registro_Estatal\": \"189/09\", \"Ambito\": \"Municipal\", \"Instituci\\u00f3n_Acreedora\": \"Banco del Baj\\u00edo, S.A.\", \"Tipo_de_Obligaci\\u00f3n\": \"Contrato de apertura de cr\\u00e9dito simple y constituci\\u00f3n de garant\\u00edas\", \"Clase_del_titulo\": \"Pesos\", \"Monto_original_contratado_en_pesos\": 7300000.0, \"Monto_dispuesto_en_pesos\": 7300000.0, \"Saldo_en_pesos\": 3736000.0, \"Tasa\": \"TIIE + 3.50\", \"Fecha_de_Contrataci\\u00f3n\": \"02/09/2009\", \"Plazo_m\\u00e1ximo_(meses)\": \"180\", \"Fecha_de_Vencimiento\": \"02/08/2024\", \"Garant\\u00eda\": \"Participaciones Federales\", \"Destino\": \"Adquisici\\u00f3n de maquinaria, Adquisici\\u00f3n de terreno para la construcci\\u00f3n de un pante\\u00f3n municipal, Pago complementario de la adquisici\\u00f3n de reserva territorial y Adquisici\\u00f3n de terreno complementario para la construcci\\u00f3n de un m\\u00f3dulo\\nde COMUDAJ.\"}, {\"Ente_Acreditado\": \"Gobierno del Estado de Guanajuato\", \"No_de_Cr\\u00e9dito\": null, \"No_de_inscripci\\u00f3n_SHCP\": \"311/2009\", \"Registro_Estatal\": \"192/09\", \"Ambito\": \"Estatal\", \"Instituci\\u00f3n_Acreedora\": \"Banco del Baj\\u00edo, S.A.\", \"Tipo_de_Obligaci\\u00f3n\": \"Contrato de Apertura de Cr\\u00e9dito Simple\", \"Clase_del_titulo\": \"Pesos\", \"Monto_original_contratado_en_pesos\": 2000000000.0, \"Monto_dispuesto_en_pesos\": 1664477330.0, \"Saldo_en_pesos\": 469468130.0, \"Tasa\": \"TIIE + 1.60\", \"Fecha_de_Contrataci\\u00f3n\": \"21/09/2009\", \"Plazo_m\\u00e1ximo_(meses)\": \"120\", \"Fecha_de_Vencimiento\": \"26/09/2019\", \"Garant\\u00eda\": \"Participaciones Federales\", \"Destino\": \"Inversi\\u00f3n p\\u00fablica productiva en el estado de Guanajuato, consistente en proyectos de infraestructura vial, urbana y de servicios.\"}, {\"Ente_Acreditado\": \"Gobierno del Estado de Guanajuato\", \"No_de_Cr\\u00e9dito\": null, \"No_de_inscripci\\u00f3n_SHCP\": \"519/2009\", \"Registro_Estatal\": \"194/09\", \"Ambito\": \"Estatal\", \"Instituci\\u00f3n_Acreedora\": \"BBVA Bancomer\", \"Tipo_de_Obligaci\\u00f3n\": \"Contrato de Apertura de Cr\\u00e9dito Simple\", \"Clase_del_titulo\": \"Pesos\", \"Monto_original_contratado_en_pesos\": 1600000000.0, \"Monto_dispuesto_en_pesos\": 1380000000.0, \"Saldo_en_pesos\": 743668050.0, \"Tasa\": \"TIIE + 1.60\", \"Fecha_de_Contrataci\\u00f3n\": \"11/12/2009\", \"Plazo_m\\u00e1ximo_(meses)\": \"180\", \"Fecha_de_Vencimiento\": \"17/12/2024\", \"Garant\\u00eda\": \"Participaciones Federales\", \"Destino\": \"Financiar Inversi\\u00f3n p\\u00fablica productiva\"}, {\"Ente_Acreditado\": \"Silao de la Victoria\", \"No_de_Cr\\u00e9dito\": null, \"No_de_inscripci\\u00f3n_SHCP\": \"092/2010\", \"Registro_Estatal\": \"195/10\", \"Ambito\": \"Municipal\", \"Instituci\\u00f3n_Acreedora\": \"Banco del Baj\\u00edo, S.A.\", \"Tipo_de_Obligaci\\u00f3n\": \"Contrato de Apertura de Cr\\u00e9dito Simple\", \"Clase_del_titulo\": \"Pesos\", \"Monto_original_contratado_en_pesos\": 30000000.0, \"Monto_dispuesto_en_pesos\": 30000000.0, \"Saldo_en_pesos\": 2083378.0, \"Tasa\": \"TIIE + 2.20\", \"Fecha_de_Contrataci\\u00f3n\": \"29/04/2010\", \"Plazo_m\\u00e1ximo_(meses)\": \"84\", \"Fecha_de_Vencimiento\": \"02/05/2017\", \"Garant\\u00eda\": \"Participaciones Federales\", \"Destino\": \"Pago de afectaciones\"}, {\"Ente_Acreditado\": \"San Miguel de Allende\", \"No_de_Cr\\u00e9dito\": null, \"No_de_inscripci\\u00f3n_SHCP\": \"322/2010\", \"Registro_Estatal\": \"199/10\", \"Ambito\": \"Municipal\", \"Instituci\\u00f3n_Acreedora\": \"Banco del Baj\\u00edo, S.A.\", \"Tipo_de_Obligaci\\u00f3n\": \"Contrato de Apertura de Cr\\u00e9dito Simple\", \"Clase_del_titulo\": \"Pesos\", \"Monto_original_contratado_en_pesos\": 45023318.0, \"Monto_dispuesto_en_pesos\": 45023318.0, \"Saldo_en_pesos\": 21463340.91, \"Tasa\": \"TIIE + 1.60\", \"Fecha_de_Contrataci\\u00f3n\": \"23/09/2010\", \"Plazo_m\\u00e1ximo_(meses)\": \"180\", \"Fecha_de_Vencimiento\": \"06/10/2025\", \"Garant\\u00eda\": \"En primer t\\u00e9rmino las participaciones presentes y futuras que en ingresos federales le corresponden al municipio y en segundo t\\u00e9rmino las participaciones presentes y futuras que en ingresos federales le corresponden al gobierno del estado de Guanajuato.\", \"Destino\": \"Reestructura de cuatro cr\\u00e9ditos: 1) BANOBRAS 7417-29 $ 15,116,383.05 ;  2)BANOBRAS 7422-86 $12,467,587.19 ;  3) BANCO DEL BAJIO $4,180,620.65  y 4) BBV BANCOMER  $4,602,244.67 .\"}, {\"Ente_Acreditado\": \"Junta Municipal de Agua Potable y Alcantarillado de Celaya, Gto.\", \"No_de_Cr\\u00e9dito\": null, \"No_de_inscripci\\u00f3n_SHCP\": \"439/2010\", \"Registro_Estatal\": \"201/10\", \"Ambito\": \"Paramunicipal\", \"Instituci\\u00f3n_Acreedora\": \"Banobras S.N.C\", \"Tipo_de_Obligaci\\u00f3n\": \"Contrato de Apertura de Cr\\u00e9dito Simple\", \"Clase_del_titulo\": \"Pesos\", \"Monto_original_contratado_en_pesos\": 25353586.19, \"Monto_dispuesto_en_pesos\": 0.0, \"Saldo_en_pesos\": 0.0, \"Tasa\": \"TIIE + 3.02\", \"Fecha_de_Contrataci\\u00f3n\": \"11/11/2010\", \"Plazo_m\\u00e1ximo_(meses)\": \"240\", \"Fecha_de_Vencimiento\": \"01/12/2030\", \"Garant\\u00eda\": \"Las participaciones que en ingresos federales le correspondan al Municipio de Celaya, Guanajuato, como deudor solidario y el Gobierno del Estado de Guanajuato como deudor subsidiario.\", \"Destino\": \"Cualquier falta de liquidez de las obligaciones de pago de la contraprestaci\\u00f3n, definida en el CPS y pago de la comisi\\u00f3n por disposici\\u00f3n e IVA.\"}, {\"Ente_Acreditado\": \"Gobierno del Estado de Guanajuato\", \"No_de_Cr\\u00e9dito\": null, \"No_de_inscripci\\u00f3n_SHCP\": \"501/2010\", \"Registro_Estatal\": \"202/10\", \"Ambito\": \"Estatal\", \"Instituci\\u00f3n_Acreedora\": \"Banamex\", \"Tipo_de_Obligaci\\u00f3n\": \"Contrato de Apertura de Cr\\u00e9dito Simple\", \"Clase_del_titulo\": \"Pesos\", \"Monto_original_contratado_en_pesos\": 1700000000.0, \"Monto_dispuesto_en_pesos\": 1363280290.12, \"Saldo_en_pesos\": 545312116.36, \"Tasa\": \"TIIE + 1.00\", \"Fecha_de_Contrataci\\u00f3n\": \"10/12/2010\", \"Plazo_m\\u00e1ximo_(meses)\": \"120\", \"Fecha_de_Vencimiento\": \"17/12/2020\", \"Garant\\u00eda\": \"Participaciones Federales\", \"Destino\": \"Inversi\\u00f3n p\\u00fablica productiva\"}, {\"Ente_Acreditado\": \"Gobierno del Estado de Guanajuato\", \"No_de_Cr\\u00e9dito\": null, \"No_de_inscripci\\u00f3n_SHCP\": \"511/2010\", \"Registro_Estatal\": \"203/10\", \"Ambito\": \"Estatal\", \"Instituci\\u00f3n_Acreedora\": \"HSBC \", \"Tipo_de_Obligaci\\u00f3n\": \"Contrato de Apertura de Cr\\u00e9dito Simple\", \"Clase_del_titulo\": \"Pesos\", \"Monto_original_contratado_en_pesos\": 500000000.0, \"Monto_dispuesto_en_pesos\": 200000000.0, \"Saldo_en_pesos\": 80000048.0, \"Tasa\": \"TIIE + 1.06\", \"Fecha_de_Contrataci\\u00f3n\": \"13/12/2010\", \"Plazo_m\\u00e1ximo_(meses)\": \"120\", \"Fecha_de_Vencimiento\": \"26/12/2020\", \"Garant\\u00eda\": \"Participaciones Federales\", \"Destino\": \"Se destinar\\u00e1n para financiar los proyectos de inversi\\u00f3n p\\u00fablica productiva, encuadrados en los siguientes rubros: l. Sustentabilidad al Desarrollo Social; II. Atenci\\u00f3n a la Seguridad P\\u00fablica y Protecci\\u00f3n Civil; III. Apoyo al Desarrollo Agropecuario; IV.Apoyo a la Sustentabilidad Econ\\u00f3mica; V. Atenci\\u00f3n a la Educaci\\u00f3n, Deporte y Cultura; VI.Apoyo al Desarrollo de Infraestructura Urbana y Carretera; VII. Apoyo al Desarrollo Tur\\u00edstico; VIII. Apoyo para la Atenci\\u00f3n de la Salud\"}, {\"Ente_Acreditado\": \"San Miguel de Allende\", \"No_de_Cr\\u00e9dito\": null, \"No_de_inscripci\\u00f3n_SHCP\": \"046/2011\", \"Registro_Estatal\": \"204/11\", \"Ambito\": \"Municipal\", \"Instituci\\u00f3n_Acreedora\": \"Banco del Baj\\u00edo, S.A.\", \"Tipo_de_Obligaci\\u00f3n\": \"Contrato de Apertura de Cr\\u00e9dito Simple\", \"Clase_del_titulo\": \"Pesos\", \"Monto_original_contratado_en_pesos\": 36470000.0, \"Monto_dispuesto_en_pesos\": 34866339.59, \"Saldo_en_pesos\": 14893170.58, \"Tasa\": \"TIIE + 1.60\", \"Fecha_de_Contrataci\\u00f3n\": \"08/02/2011\", \"Plazo_m\\u00e1ximo_(meses)\": \"120\", \"Fecha_de_Vencimiento\": \"05/03/2021\", \"Garant\\u00eda\": \"En primer t\\u00e9rino las participaciones presentes y futuras que en ingresos federales le corresponden al municipio y en segundo t\\u00e9rmino las participaciones presentes y futuras que en ingresos federales le corresponden al gobierno del estado de Guanajuato.\", \"Destino\": \"Puente sobre libramiento Jos\\u00e9 Manuel Zavala Zavala, en cabecera municipal; Convenio de coordinaci\\u00f3n de desarrollo tur\\u00edstico del Municipio; Construcci\\u00f3n del parque Bicentenario en reserva municipal de Landeta, Bordo San Carlos 1\\u00b0 etapa en cabecera municipal; adquisici\\u00f3n e instalaci\\u00f3n de equipo para el rastro municipal; construcci\\u00f3n del modulo COMUDAJ 2\\u00b0 etapa; adquisici\\u00f3n de veh\\u00edculos para servicios p\\u00fablicos.\"}, {\"Ente_Acreditado\": \"Comonfort\", \"No_de_Cr\\u00e9dito\": null, \"No_de_inscripci\\u00f3n_SHCP\": \"193/2011\", \"Registro_Estatal\": \"205/11\", \"Ambito\": \"Municipal\", \"Instituci\\u00f3n_Acreedora\": \"Banco del Baj\\u00edo, S.A.\", \"Tipo_de_Obligaci\\u00f3n\": \"Contrato de Apertura de Cr\\u00e9dito Simple\", \"Clase_del_titulo\": \"Pesos\", \"Monto_original_contratado_en_pesos\": 19860880.0, \"Monto_dispuesto_en_pesos\": 19860880.0, \"Saldo_en_pesos\": 8879630.0, \"Tasa\": \"TIIE + 1.70\", \"Fecha_de_Contrataci\\u00f3n\": \"09/05/2011\", \"Plazo_m\\u00e1ximo_(meses)\": \"180\", \"Fecha_de_Vencimiento\": \"27/02/2029\", \"Garant\\u00eda\": \"Participaciones Federales\", \"Destino\": \"1) Adquisici\\u00f3n de reserva territorial. 2) Reestructura\"}, {\"Ente_Acreditado\": \"Guanajuato\", \"No_de_Cr\\u00e9dito\": 32.0, \"No_de_inscripci\\u00f3n_SHCP\": \"201/2011\", \"Registro_Estatal\": \"206/11\", \"Ambito\": \"Municipal\", \"Instituci\\u00f3n_Acreedora\": \"Banco del Baj\\u00edo, S.A.\", \"Tipo_de_Obligaci\\u00f3n\": \"Contrato de Apertura de Cr\\u00e9dito Simple\", \"Clase_del_titulo\": \"Pesos\", \"Monto_original_contratado_en_pesos\": 32064915.76, \"Monto_dispuesto_en_pesos\": 32064915.76, \"Saldo_en_pesos\": 19539780.76, \"Tasa\": \"TIIE + 1.59\", \"Fecha_de_Contrataci\\u00f3n\": \"16/05/2011\", \"Plazo_m\\u00e1ximo_(meses)\": \"180\", \"Fecha_de_Vencimiento\": \"26/05/2026\", \"Garant\\u00eda\": \"Participaciones Federales\", \"Destino\": \"Reestructuraci\\u00f3n de una l\\u00ednea de cr\\u00e9dito que se tiene contratada con el Banco del Baj\\u00edo. I. Programa de Modernizaci\\u00f3n Catastral, II. Establecimiento de una red de fibra \\u00f3ptica, III. Continuaci\\u00f3n de la primera etapa del edificio de seguridad p\\u00fablica en la zona sur del municipio, IV. Programa de coinversi\\u00f3n de obras del Programa Mi Plaza.\"}, {\"Ente_Acreditado\": \"Apaseo el Grande\", \"No_de_Cr\\u00e9dito\": 9690.0, \"No_de_inscripci\\u00f3n_SHCP\": \"226/2011\", \"Registro_Estatal\": \"207/11\", \"Ambito\": \"Municipal\", \"Instituci\\u00f3n_Acreedora\": \"Banobras S.N.C\", \"Tipo_de_Obligaci\\u00f3n\": \"Contrato de Apertura de Cr\\u00e9dito Simple\", \"Clase_del_titulo\": \"Pesos\", \"Monto_original_contratado_en_pesos\": 19803423.0, \"Monto_dispuesto_en_pesos\": 12559400.3, \"Saldo_en_pesos\": 7644852.38, \"Tasa\": \"TIIE + 2.53\", \"Fecha_de_Contrataci\\u00f3n\": \"31/05/2011\", \"Plazo_m\\u00e1ximo_(meses)\": \"120\", \"Fecha_de_Vencimiento\": \"09/08/2021\", \"Garant\\u00eda\": \"Participaciones Federales\", \"Destino\": \"I. Construcci\\u00f3n 3\\u00b0 etapa del auditorio municipal; II Construcci\\u00f3n de descarga del drenaje pluvial hacia el dren a cielo abierto paralelo a la prolong. Octaviano Mu\\u00f1oz Ledo; III. Embellecimiento del centro hist\\u00f3rico; IV. Programa de modernizaci\\u00f3n catastral; proyecto ejecutivo PIV Km. 37+900 para la comunicaci\\u00f3n entre las comunidades de La Pur\\u00edsima y La Palma; V. Proyecto ejecutivo para el camino alterno al Cerrito por la Unideg; anteproyecto para el PSV, FF.CC del Km. 278+600 l\\u00ednea A en el acceso poniente de la cabecera municipal; proyecto ejecutivo 1\\u00b0 etapa del pol\\u00edgono h\\u00e1bitat; comisi\\u00f3n por apertura del cr\\u00e9dito mas el IVA correspondiente y los intereses que se generen durante el peri\\u00f3do de disposici\\u00f3n.\"}, {\"Ente_Acreditado\": \"Guanajuato\", \"No_de_Cr\\u00e9dito\": 9854.0, \"No_de_inscripci\\u00f3n_SHCP\": \"230/2011\", \"Registro_Estatal\": \"208/11\", \"Ambito\": \"Municipal\", \"Instituci\\u00f3n_Acreedora\": \"Banobras S.N.C\", \"Tipo_de_Obligaci\\u00f3n\": \"Contrato de Apertura de Cr\\u00e9dito Simple\", \"Clase_del_titulo\": \"Pesos\", \"Monto_original_contratado_en_pesos\": 13877698.0, \"Monto_dispuesto_en_pesos\": 11890523.15, \"Saldo_en_pesos\": 6275553.2, \"Tasa\": \"TIIE + 2.67\", \"Fecha_de_Contrataci\\u00f3n\": \"13/06/2011\", \"Plazo_m\\u00e1ximo_(meses)\": \"120\", \"Fecha_de_Vencimiento\": \"09/09/2021\", \"Garant\\u00eda\": \"Participaciones Federales\", \"Destino\": \"Programa de modernizaci\\u00f3n catastral, IVA e intereses que se generen durante el periodo de disposici\\u00f3n.\"}, {\"Ente_Acreditado\": \"Comit\\u00e9 Municipal de Agua Potable y Alcantarillado de Salamanca, Gto.\", \"No_de_Cr\\u00e9dito\": null, \"No_de_inscripci\\u00f3n_SHCP\": \"527/2011\", \"Registro_Estatal\": \"209/11\", \"Ambito\": \"Paramunicipal\", \"Instituci\\u00f3n_Acreedora\": \"Banco del Baj\\u00edo, S.A.\", \"Tipo_de_Obligaci\\u00f3n\": \"Contrato de Apertura de Cr\\u00e9dito Simple\", \"Clase_del_titulo\": \"Pesos\", \"Monto_original_contratado_en_pesos\": 43000000.0, \"Monto_dispuesto_en_pesos\": 37051609.32, \"Saldo_en_pesos\": 21695344.67, \"Tasa\": \"TIIE + 1.52\", \"Fecha_de_Contrataci\\u00f3n\": \"05/10/2011\", \"Plazo_m\\u00e1ximo_(meses)\": \"180\", \"Fecha_de_Vencimiento\": \"14/12/2026\", \"Garant\\u00eda\": \"Participaciones del municipio de Salamanca y en segundo t\\u00e9rmino participaciones del Estado de Guanajuato\", \"Destino\": \"Construcci\\u00f3n, operaci\\u00f3n y funcionamiento de la planta de tratamientos de aguas residuales y sus colectores.\"}, {\"Ente_Acreditado\": \"Gobierno del Estado de Guanajuato\", \"No_de_Cr\\u00e9dito\": null, \"No_de_inscripci\\u00f3n_SHCP\": \"645/2011\", \"Registro_Estatal\": \"211/11\", \"Ambito\": \"Estatal\", \"Instituci\\u00f3n_Acreedora\": \"Banamex\", \"Tipo_de_Obligaci\\u00f3n\": \"Contrato de Apertura de Cr\\u00e9dito Simple\", \"Clase_del_titulo\": \"Pesos\", \"Monto_original_contratado_en_pesos\": 336719709.88, \"Monto_dispuesto_en_pesos\": 336719709.88, \"Saldo_en_pesos\": 168359855.08, \"Tasa\": \"TIIE + 0.68\", \"Fecha_de_Contrataci\\u00f3n\": \"23/11/2011\", \"Plazo_m\\u00e1ximo_(meses)\": \"120\", \"Fecha_de_Vencimiento\": \"13/12/2021\", \"Garant\\u00eda\": \"Participaciones Federales\", \"Destino\": \"Llevar a cabo los siguientes proyectos: 1) Camino de acceso a Atarjea; 2) Libramiento Norte de Celaya; 3) Libramiento Norponiente de Guanajuato; 4) Paso desnivel Castro del R\\u00edo de Irapuato; 5) Modernizaci\\u00f3n y rehabilitaci\\u00f3n del Libramiento Morelos de Le\\u00f3n; 6) Sistema Integral de Transporte de Le\\u00f3n, segunda etapa; 7) Eje Bicentenario de Le\\u0097\\u00f3n; 8) Carretera E.C. {Ocampo-Villa de Arriaga) - E.C. (Ocampo-Ojuelos) ; 9) Carretera Laguna de Guadalupe, Boulevard Las Torres de Salamanca, primera etapa; 10) Carretera San Diego de la Uni\\u0097\\u00f3n-San Felipe; 11) Autopista Salamanca Le\\u0097\\u00f3n; 12) Carretera Romita-Puerto Interior; 13) Autopista Guanajuato-San Miguel de Allende; 14) Modernizaci\\u0097n de la Carretera San Diego de la Uni\\u0097\\u00f3n-Carretera Federal 57; 15) Boulevard Metropolitano en Uriangato-Morole\\u0097n-Yuriria; 16) Infraestructura de apoyo a la seguridad p\\u009c\\u00fablica; 17) Programa de atenci\\u0097\\u00f3n de cruces ferroviarios; 18) Programa integral de atenci\\u0097\\u00f3n carretera; 19) Parque industrial Laja Baj\\u0092o; 20) Terminal multimodal de Celaya; 21) Parque industrial de proveedur\\u00ed\\u0092a automotriz; 22) Parque tecnoindustrial en Le\\u0097\\u00f3n; 23) Ampliaci\\u0097n del Puerto Interior Guanajuato; 24) Sistema de parques tecnol\\u0097gicos del Estado de Guanajuato; 25) Infraestructura industrial en Irapuato; 26) Desarrollo tur\\u00ed\\u0092stico de pueblos mineros; 27) Programa para fortalecer el desarrollo tur\\u0092\\u00edstico de Mineral de Pozos; 28) Paradores en el Estado de Guanajuato; 29) Se\\u0096\\u00f1al\\u00e9\\u008etica en el Estado de Guanajuato; 30) Desarrollo tur\\u0092\\u00edstico de la Laguna de Yuriria; 31) ExpoBicentenario 2010; 32) Programa de desarrollo tur\\u0092\\u00edstico Expreso del Baj\\u00ed\\u0092o; 33) Proyecto sobre la calidad de la educaci\\u0097\\u00f3n; 34) F\\u0097\\u00f3rum Cultural Guanajuato; 35) Infraestructura de apoyo social; 36) Infraestructura deportiva municipal; 37) Proyecto campo competitivo; 38) Tecnificaci\\u0097\\u00f3n de riego; 39) Parque agroindustrial de Irapuato; 40) Programa de atracci\\u0097\\u00f3n de inversiones y fortalecimiento comercial; 41) Programa de apoyo al empleo.\"}, {\"Ente_Acreditado\": \"Gobierno del Estado de Guanajuato\", \"No_de_Cr\\u00e9dito\": null, \"No_de_inscripci\\u00f3n_SHCP\": \"713/2011\", \"Registro_Estatal\": \"212/11\", \"Ambito\": \"Estatal\", \"Instituci\\u00f3n_Acreedora\": \"BBVA Bancomer\", \"Tipo_de_Obligaci\\u00f3n\": \"Contrato de Apertura de Cr\\u00e9dito Simple\", \"Clase_del_titulo\": \"Pesos\", \"Monto_original_contratado_en_pesos\": 500000000.0, \"Monto_dispuesto_en_pesos\": 487161920.75, \"Saldo_en_pesos\": 247640643.22, \"Tasa\": \"TIIE + 0.70\", \"Fecha_de_Contrataci\\u00f3n\": \"14/12/2011\", \"Plazo_m\\u00e1ximo_(meses)\": \"120\", \"Fecha_de_Vencimiento\": \"27/12/2021\", \"Garant\\u00eda\": \"Participaciones Federales\", \"Destino\": \"Llevar a cabo los siguientes proyectos: 1) Camino de acceso a Atarjea; 2) Libramiento Norte de Celaya; 3) Libramiento Norponiente de Guanajuato; 4) Paso desnivel Castro del R\\u00edo de Irapuato; 5) Modernizaci\\u00f3n y rehabilitaci\\u00f3n del Libramiento Morelos de Le\\u00f3n; 6) Sistema Integral de Transporte de Le\\u00f3n, segunda etapa; 7) Eje Bicentenario de Le\\u0097\\u00f3n; 8) Carretera E.C. {Ocampo-Villa de Arriaga) - E.C. (Ocampo-Ojuelos) ; 9) Carretera Laguna de Guadalupe, Boulevard Las Torres de Salamanca, primera etapa; 10) Carretera San Diego de la Uni\\u0097\\u00f3n-San Felipe; 11) Autopista Salamanca Le\\u0097\\u00f3n; 12) Carretera Romita-Puerto Interior; 13) Autopista Guanajuato-San Miguel de Allende; 14) Modernizaci\\u0097n de la Carretera San Diego de la Uni\\u0097\\u00f3n-Carretera Federal 57; 15) Boulevard Metropolitano en Uriangato-Morole\\u0097n-Yuriria; 16) Infraestructura de apoyo a la seguridad p\\u009c\\u00fablica; 17) Programa de atenci\\u0097\\u00f3n de cruces ferroviarios; 18) Programa integral de atenci\\u0097\\u00f3n carretera; 19) Parque industrial Laja Baj\\u0092o; 20) Terminal multimodal de Celaya; 21) Parque industrial de proveedur\\u00ed\\u0092a automotriz; 22) Parque tecnoindustrial en Le\\u0097\\u00f3n; 23) Ampliaci\\u0097n del Puerto Interior Guanajuato; 24) Sistema de parques tecnol\\u0097gicos del Estado de Guanajuato; 25) Infraestructura industrial en Irapuato; 26) Desarrollo tur\\u00ed\\u0092stico de pueblos mineros; 27) Programa para fortalecer el desarrollo tur\\u0092\\u00edstico de Mineral de Pozos; 28) Paradores en el Estado de Guanajuato; 29) Se\\u0096\\u00f1al\\u00e9\\u008etica en el Estado de Guanajuato; 30) Desarrollo tur\\u0092\\u00edstico de la Laguna de Yuriria; 31) ExpoBicentenario 2010; 32) Programa de desarrollo tur\\u0092\\u00edstico Expreso del Baj\\u00ed\\u0092o; 33) Proyecto sobre la calidad de la educaci\\u0097\\u00f3n; 34) F\\u0097\\u00f3rum Cultural Guanajuato; 35) Infraestructura de apoyo social; 36) Infraestructura deportiva municipal; 37) Proyecto campo competitivo; 38) Tecnificaci\\u0097\\u00f3n de riego; 39) Parque agroindustrial de Irapuato; 40) Programa de atracci\\u0097\\u00f3n de inversiones y fortalecimiento comercial; 41) Programa de apoyo al empleo.\"}, {\"Ente_Acreditado\": \"P\\u00e9njamo\", \"No_de_Cr\\u00e9dito\": null, \"No_de_inscripci\\u00f3n_SHCP\": \"P11-0312038\", \"Registro_Estatal\": \"215/12\", \"Ambito\": \"Municipal\", \"Instituci\\u00f3n_Acreedora\": \"Banco del Baj\\u00edo, S.A.\", \"Tipo_de_Obligaci\\u00f3n\": \"Contrato de Apertura de Cr\\u00e9dito Simple\", \"Clase_del_titulo\": \"Pesos\", \"Monto_original_contratado_en_pesos\": 35000000.0, \"Monto_dispuesto_en_pesos\": 35000000.0, \"Saldo_en_pesos\": 7777784.0, \"Tasa\": \"TIIE + 1.90\", \"Fecha_de_Contrataci\\u00f3n\": \"13/02/2012\", \"Plazo_m\\u00e1ximo_(meses)\": \"72\", \"Fecha_de_Vencimiento\": \"02/04/2018\", \"Garant\\u00eda\": \"Participaciones Federales\", \"Destino\": \"1) Adquisici\\u00f3n de reserva territorial; 2) Construcci\\u00f3n del Parque Lineal Boulevard P\\u00e9njamo- Estaci\\u00f3n P\\u00e9njamo; y 3) Asfaltado del camino Veredas- Cruces de Rojas.\"}, {\"Ente_Acreditado\": \"Uriangato\", \"No_de_Cr\\u00e9dito\": 10490.0, \"No_de_inscripci\\u00f3n_SHCP\": \"P11-0312040\", \"Registro_Estatal\": \"217/12\", \"Ambito\": \"Municipal\", \"Instituci\\u00f3n_Acreedora\": \"Banobras S.N.C\", \"Tipo_de_Obligaci\\u00f3n\": \"Contrato de Apertura de Cr\\u00e9dito Simple\", \"Clase_del_titulo\": \"Pesos\", \"Monto_original_contratado_en_pesos\": 14947836.0, \"Monto_dispuesto_en_pesos\": 14947836.0, \"Saldo_en_pesos\": 1140941.51, \"Tasa\": \"TIIE + 2.18\", \"Fecha_de_Contrataci\\u00f3n\": \"06/03/2012\", \"Plazo_m\\u00e1ximo_(meses)\": \"60\", \"Fecha_de_Vencimiento\": \"06/02/2017\", \"Garant\\u00eda\": \"Participaciones Federales\", \"Destino\": \"Proyecto ejecutivo del programa de modernizaci\\u00f3n catastral; Porgrama H\\u00e1bitat; proyecto ejectuvio de la Av. Paseo de Los H\\u00e9roes; remodelaci\\u00f3n de la Presidencia Municipal.\"}, {\"Ente_Acreditado\": \"Valle de Santiago\", \"No_de_Cr\\u00e9dito\": null, \"No_de_inscripci\\u00f3n_SHCP\": \"P11-0612090\", \"Registro_Estatal\": \"219/12\", \"Ambito\": \"Municipal\", \"Instituci\\u00f3n_Acreedora\": \"Banco del Baj\\u00edo, S.A.\", \"Tipo_de_Obligaci\\u00f3n\": \"Contrato de Apertura de Cr\\u00e9dito Simple\", \"Clase_del_titulo\": \"Pesos\", \"Monto_original_contratado_en_pesos\": 6929675.89, \"Monto_dispuesto_en_pesos\": 6929675.89, \"Saldo_en_pesos\": 808462.09, \"Tasa\": \"TIIE + 1.87\", \"Fecha_de_Contrataci\\u00f3n\": \"14/05/2012\", \"Plazo_m\\u00e1ximo_(meses)\": \"60\", \"Fecha_de_Vencimiento\": \"26/09/2017\", \"Garant\\u00eda\": \"Participaciones Federales\", \"Destino\": \"Restauraci\\u00f3n del Templo de San Francisco y remodelaci\\u00f3n del Jard\\u00edn Principal\"}, {\"Ente_Acreditado\": \"Gobierno del Estado de Guanajuato\", \"No_de_Cr\\u00e9dito\": null, \"No_de_inscripci\\u00f3n_SHCP\": \"P11-0612087\", \"Registro_Estatal\": \"226/12\", \"Ambito\": \"Estatal\", \"Instituci\\u00f3n_Acreedora\": \"Banamex\", \"Tipo_de_Obligaci\\u00f3n\": \"Contrato de Apertura de Cr\\u00e9dito Simple\", \"Clase_del_titulo\": \"Pesos\", \"Monto_original_contratado_en_pesos\": 628989198.96, \"Monto_dispuesto_en_pesos\": 310689997.93, \"Saldo_en_pesos\": 170879499.18, \"Tasa\": \"TIIE + 0.66\", \"Fecha_de_Contrataci\\u00f3n\": \"08/06/2012\", \"Plazo_m\\u00e1ximo_(meses)\": \"120\", \"Fecha_de_Vencimiento\": \"27/06/2022\", \"Garant\\u00eda\": \"Participaciones Federales\", \"Destino\": \"Inversi\\u00f3n p\\u00fablica productiva\"}, {\"Ente_Acreditado\": \"Gobierno del Estado de Guanajuato\", \"No_de_Cr\\u00e9dito\": null, \"No_de_inscripci\\u00f3n_SHCP\": \"P11-0813101\", \"Registro_Estatal\": \"236/13\", \"Ambito\": \"Estatal\", \"Instituci\\u00f3n_Acreedora\": \"Banamex\", \"Tipo_de_Obligaci\\u00f3n\": \"Contrato de Apertura de Cr\\u00e9dito Simple\", \"Clase_del_titulo\": \"Pesos\", \"Monto_original_contratado_en_pesos\": 644000000.0, \"Monto_dispuesto_en_pesos\": 644000000.0, \"Saldo_en_pesos\": 225400000.13, \"Tasa\": \"TIIE + 0.43\", \"Fecha_de_Contrataci\\u00f3n\": \"13/08/2013\", \"Plazo_m\\u00e1ximo_(meses)\": \"60\", \"Fecha_de_Vencimiento\": \"26/09/2018\", \"Garant\\u00eda\": \"Participaciones Federales\", \"Destino\": \"Inversi\\u00f3n p\\u00fablica productiva\"}, {\"Ente_Acreditado\": \"Gobierno del Estado de Guanajuato\", \"No_de_Cr\\u00e9dito\": null, \"No_de_inscripci\\u00f3n_SHCP\": \"P11-0813102\", \"Registro_Estatal\": \"237/13\", \"Ambito\": \"Estatal\", \"Instituci\\u00f3n_Acreedora\": \"HSBC \", \"Tipo_de_Obligaci\\u00f3n\": \"Contrato de Apertura de Cr\\u00e9dito Simple\", \"Clase_del_titulo\": \"Pesos\", \"Monto_original_contratado_en_pesos\": 235950160.0, \"Monto_dispuesto_en_pesos\": 185950160.0, \"Saldo_en_pesos\": 64786494.81, \"Tasa\": \"TIIE + 0.84\", \"Fecha_de_Contrataci\\u00f3n\": \"13/08/2013\", \"Plazo_m\\u00e1ximo_(meses)\": \"60\", \"Fecha_de_Vencimiento\": \"26/10/2018\", \"Garant\\u00eda\": \"Participaciones Federales\", \"Destino\": \"Inversi\\u00f3n p\\u00fablica productiva\"}, {\"Ente_Acreditado\": \"Gobierno del Estado de Guanajuato\", \"No_de_Cr\\u00e9dito\": null, \"No_de_inscripci\\u00f3n_SHCP\": \"P11-0813104\", \"Registro_Estatal\": \"239/13\", \"Ambito\": \"Estatal\", \"Instituci\\u00f3n_Acreedora\": \"Scotiabank\", \"Tipo_de_Obligaci\\u00f3n\": \"Contrato de Apertura de Cr\\u00e9dito Simple\", \"Clase_del_titulo\": \"Pesos\", \"Monto_original_contratado_en_pesos\": 500000000.0, \"Monto_dispuesto_en_pesos\": 500000000.0, \"Saldo_en_pesos\": 175000000.13, \"Tasa\": \"TIIE + 0.5\", \"Fecha_de_Contrataci\\u00f3n\": \"23/08/2013\", \"Plazo_m\\u00e1ximo_(meses)\": \"60\", \"Fecha_de_Vencimiento\": \"02/10/2018\", \"Garant\\u00eda\": \"Participaciones Federales\", \"Destino\": \"Inversi\\u00f3n p\\u00fablica productiva\"}, {\"Ente_Acreditado\": \"San Francisco del Rinc\\u00f3n\", \"No_de_Cr\\u00e9dito\": null, \"No_de_inscripci\\u00f3n_SHCP\": \"P11-0312041\", \"Registro_Estatal\": \"240/13\", \"Ambito\": \"Municipal\", \"Instituci\\u00f3n_Acreedora\": \"Banco del Baj\\u00edo, S.A.\", \"Tipo_de_Obligaci\\u00f3n\": \"Contrato de Apertura de Cr\\u00e9dito Simple\", \"Clase_del_titulo\": \"Pesos\", \"Monto_original_contratado_en_pesos\": 25666672.0, \"Monto_dispuesto_en_pesos\": 25666672.0, \"Saldo_en_pesos\": 19962952.0, \"Tasa\": \"TIIE + 1.60\", \"Fecha_de_Contrataci\\u00f3n\": \"20/08/2013\", \"Plazo_m\\u00e1ximo_(meses)\": \"180\", \"Fecha_de_Vencimiento\": \"11/08/2028\", \"Garant\\u00eda\": \"Participaciones Federales\", \"Destino\": \"Reestructura del cr\\u00e9dito con registro 216/12\"}, {\"Ente_Acreditado\": \"San Francisco del Rinc\\u00f3n\", \"No_de_Cr\\u00e9dito\": null, \"No_de_inscripci\\u00f3n_SHCP\": \"P11-1013117\", \"Registro_Estatal\": \"241/13\", \"Ambito\": \"Municipal\", \"Instituci\\u00f3n_Acreedora\": \"Banco del Baj\\u00edo, S.A.\", \"Tipo_de_Obligaci\\u00f3n\": \"Contrato de Apertura de Cr\\u00e9dito Simple\", \"Clase_del_titulo\": \"Pesos\", \"Monto_original_contratado_en_pesos\": 22000000.0, \"Monto_dispuesto_en_pesos\": 22000000.0, \"Saldo_en_pesos\": 17653960.0, \"Tasa\": \"TIIE +1.60\", \"Fecha_de_Contrataci\\u00f3n\": \"20/08/2013\", \"Plazo_m\\u00e1ximo_(meses)\": \"180\", \"Fecha_de_Vencimiento\": \"11/08/2028\", \"Garant\\u00eda\": \"Participaciones Federales\", \"Destino\": \"Compra de reserva territorial para la instalci\\u00f3n del CECYTEG\"}, {\"Ente_Acreditado\": \"Salamanca\", \"No_de_Cr\\u00e9dito\": null, \"No_de_inscripci\\u00f3n_SHCP\": \"P11-0913113\", \"Registro_Estatal\": \"242/13\", \"Ambito\": \"Municipal\", \"Instituci\\u00f3n_Acreedora\": \"Banco del Baj\\u00edo, S.A.\", \"Tipo_de_Obligaci\\u00f3n\": \"Contrato de Apertura de Cr\\u00e9dito Simple\", \"Clase_del_titulo\": \"Pesos\", \"Monto_original_contratado_en_pesos\": 70000000.0, \"Monto_dispuesto_en_pesos\": 60000000.0, \"Saldo_en_pesos\": 48546082.0, \"Tasa\": \"TIIE + 1.60\", \"Fecha_de_Contrataci\\u00f3n\": \"22/08/2013\", \"Plazo_m\\u00e1ximo_(meses)\": \"180\", \"Fecha_de_Vencimiento\": \"20/12/2028\", \"Garant\\u00eda\": \"Participaciones Federales\", \"Destino\": \"Adquisici\\u00f3n de un bien inmueble para prestaci\\u00f3n del servicio p\\u00fablico de panteones; adquisici\\u00f3n de un bien inmueble para el Centro de Comunicaciones, C\\u00f3mputo, Control y Comando, denomidado \\\"C4\\\", y acciones necesarias tendientes a la construcci\\u00f3n, rehabilitaci\\u00f3n, ampliaci\\u00f3n o equipamiento del mismo; pago de las afectaciones con motivo de la construcci\\u00f3n del proyecto \\\"Ampliaci\\u00f3n a cuatro carriles Paseo R\\u00edo Lerma, tramo calle R\\u00edo Lerma a calle Andr\\u00e9s Delgado\\\".\"}, {\"Ente_Acreditado\": \"Cuer\\u00e1maro\", \"No_de_Cr\\u00e9dito\": 6065100.0, \"No_de_inscripci\\u00f3n_SHCP\": \"P11-1013118\", \"Registro_Estatal\": \"243/13\", \"Ambito\": \"Municipal\", \"Instituci\\u00f3n_Acreedora\": \"Banco del Baj\\u00edo, S.A.\", \"Tipo_de_Obligaci\\u00f3n\": \"Contrato de apertura de cr\\u00e9dito simple\", \"Clase_del_titulo\": \"Pesos\", \"Monto_original_contratado_en_pesos\": 8200000.0, \"Monto_dispuesto_en_pesos\": 8200000.0, \"Saldo_en_pesos\": 6514465.0, \"Tasa\": \"TIIE + 3.0\", \"Fecha_de_Contrataci\\u00f3n\": \"19/09/2013\", \"Plazo_m\\u00e1ximo_(meses)\": \"180\", \"Fecha_de_Vencimiento\": \"06/11/2028\", \"Garant\\u00eda\": \"Participaciones Federales\", \"Destino\": \"Conjunto deportivo en la localidad de San Gregorio; cancha de usos m\\u00faltiples en el Fraccionamiento Camino Real; remodelaci\\u00f3n del toril San Miguel en la comunidad de Tupataro; aplicaci\\u00f3n de carpeta y emulsi\\u00f3n asf\\u00e1ltica en diversos caminos y calles de Cuer\\u00e1maro, Gto.; urbanizaci\\u00f3n de la calle acceso a la escuela primaria en la comunidad de Tupataro; 5ta etapa de la pavimentaci\\u00f3n de la calle principal en la comunidad San Gregorio;  pavimentaci\\u00f3n de la calle principal en la comunidad de Sarteneja;  2da etapa de la pavimentaci\\u00f3n de la calle principal en Galera de la Grulla;  pavimentaci\\u00f3n de la calle Venustiano Carranza para el acceso al nuevo hospital y la urbanizaci\\u00f3n de la calle Galena,  para el acceso al nuevo hospital.  \"}, {\"Ente_Acreditado\": \"Sistema de Agua Potable y Alcantarillado de Le\\u00f3n, Gto.\", \"No_de_Cr\\u00e9dito\": null, \"No_de_inscripci\\u00f3n_SHCP\": \"P11-0914133\", \"Registro_Estatal\": \"244/13\", \"Ambito\": \"Paramunicipal\", \"Instituci\\u00f3n_Acreedora\": \"Banco del Baj\\u00edo, S.A.\", \"Tipo_de_Obligaci\\u00f3n\": \"Contrato de Apertura de Cr\\u00e9dito en Cuenta Corriente Irrevocable, Contingente y Revolvente\", \"Clase_del_titulo\": \"Pesos\", \"Monto_original_contratado_en_pesos\": 110117708.87, \"Monto_dispuesto_en_pesos\": 0.0, \"Saldo_en_pesos\": 0.0, \"Tasa\": \"TIIE + 1.90\", \"Fecha_de_Contrataci\\u00f3n\": \"27/09/2013\", \"Plazo_m\\u00e1ximo_(meses)\": \"300\", \"Fecha_de_Vencimiento\": null, \"Garant\\u00eda\": \"Participaciones del Muncipio de Le\\u00f3n.\", \"Destino\": \"Cubrir faltantes de liquidez para el pago equivalente  a tres veces el importe mensual de la contraprestaci\\u00f3n CPS m\\u00e1s el IVA con el objeto de establecer una fuente de pago contingente cuando SAPAL no realice el pago respectivo con recursos propios.\"}, {\"Ente_Acreditado\": \"Santa Cruz de Juventino Rosas\", \"No_de_Cr\\u00e9dito\": null, \"No_de_inscripci\\u00f3n_SHCP\": \"P11-1213170\", \"Registro_Estatal\": \"245/13\", \"Ambito\": \"Municipal\", \"Instituci\\u00f3n_Acreedora\": \"Banco del Baj\\u00edo, S.A.\", \"Tipo_de_Obligaci\\u00f3n\": \"Contrato de Apertura de Cr\\u00e9dito Simple\", \"Clase_del_titulo\": \"Pesos\", \"Monto_original_contratado_en_pesos\": 35000000.0, \"Monto_dispuesto_en_pesos\": 35000000.0, \"Saldo_en_pesos\": 28330238.0, \"Tasa\": \"TIIE + 1.60\", \"Fecha_de_Contrataci\\u00f3n\": \"10/12/2013\", \"Plazo_m\\u00e1ximo_(meses)\": \"180\", \"Fecha_de_Vencimiento\": \"07/01/2029\", \"Garant\\u00eda\": \"Participaciones Federales\", \"Destino\": \"Adquisici\\u00f3n de un terreno para la construcci\\u00f3n de un plantel del Colegio de Estudios Cient\\u00edficos y Tecnol\\u00f3gicos del Estado de Guanajuato; inversi\\u00f3n necesaria para dotar de serviciso p\\u00fablicos al plantel del Colegio de Estudios Cient\\u00edficos y Tecnol\\u00f3gicos del Estado de Guanajuato; adquisici\\u00f3n de un terreno para la ampliaci\\u00f3n del cementerio municipal; inversi\\u00f3n necesaria para la operaci\\u00f3n de la ampliaci\\u00f3n del cementerio municipal; adquisici\\u00f3n de un terreno para la construcci\\u00f3n de un relleno sanitario para la disposici\\u00f3n de residuos; construcci\\u00f3n de las dos primeras celdas del relleno sanitario, categor\\u00eda \\\"B\\\" de conformidad con la Norma Oficial Mexicana; adquisici\\u00f3n de un terreno para la construcci\\u00f3n de instalaciones deportivas y recreativas; adquisici\\u00f3n de un terreno para la instalaci\\u00f3n de empresas y naves impulsoras de empleo; adquisici\\u00f3n de un terreno para la construcci\\u00f3n de vivienda popular.\"}, {\"Ente_Acreditado\": \"Comisi\\u00f3n Estatal del Agua de Guanajuato\\nSistema de Agua Potable y Alcantarillado de Le\\u00f3n, Gto.\", \"No_de_Cr\\u00e9dito\": null, \"No_de_inscripci\\u00f3n_SHCP\": \"P11-0914138\", \"Registro_Estatal\": \"247/14\", \"Ambito\": \"Paraestatal\\nParamunicipal\", \"Instituci\\u00f3n_Acreedora\": \"Concesionaria del Acueducto El Zapotillo S.A. de C.V.\", \"Tipo_de_Obligaci\\u00f3n\": \"P\\u00fablico-privada\", \"Clase_del_titulo\": \"Pesos\", \"Monto_original_contratado_en_pesos\": 3310000000.0, \"Monto_dispuesto_en_pesos\": 0.0, \"Saldo_en_pesos\": 0.0, \"Tasa\": null, \"Fecha_de_Contrataci\\u00f3n\": \"11/10/2011\", \"Plazo_m\\u00e1ximo_(meses)\": \"300\", \"Fecha_de_Vencimiento\": null, \"Garant\\u00eda\": \"Participaciones Federales \", \"Destino\": \"Inversi\\u00f3n p\\u00fablica productiva.\"}, {\"Ente_Acreditado\": \"Le\\u00f3n\", \"No_de_Cr\\u00e9dito\": 11513.0, \"No_de_inscripci\\u00f3n_SHCP\": \"P11-0414046\", \"Registro_Estatal\": \"248/14\", \"Ambito\": \"Municipal\", \"Instituci\\u00f3n_Acreedora\": \"Banobras S.N.C\", \"Tipo_de_Obligaci\\u00f3n\": \"Contrato de Apertura de Cr\\u00e9dito Simple\", \"Clase_del_titulo\": \"Pesos\", \"Monto_original_contratado_en_pesos\": 540000000.0, \"Monto_dispuesto_en_pesos\": 536000000.0, \"Saldo_en_pesos\": 525000000.0, \"Tasa\": \"TIIE + 0.94\", \"Fecha_de_Contrataci\\u00f3n\": \"18/03/2014\", \"Plazo_m\\u00e1ximo_(meses)\": \"240\", \"Fecha_de_Vencimiento\": \"19/06/2034\", \"Garant\\u00eda\": \"Participaciones Federales\", \"Destino\": \"1) Obras de pavimentaci\\u00f3n;\\n2) Sistema integrado de transporte (SIT), fases numero 3 y 4.\"}, {\"Ente_Acreditado\": \"Le\\u00f3n\", \"No_de_Cr\\u00e9dito\": null, \"No_de_inscripci\\u00f3n_SHCP\": \"P11-0514063\", \"Registro_Estatal\": \"249/14\", \"Ambito\": \"Municipal\", \"Instituci\\u00f3n_Acreedora\": \"Banamex\", \"Tipo_de_Obligaci\\u00f3n\": \"Contrato de Apertura de Cr\\u00e9dito Simple\", \"Clase_del_titulo\": \"Pesos\", \"Monto_original_contratado_en_pesos\": 632000000.0, \"Monto_dispuesto_en_pesos\": 609801665.27, \"Saldo_en_pesos\": 571706280.33, \"Tasa\": \"TIIE + 0.70\", \"Fecha_de_Contrataci\\u00f3n\": \"06/05/2014\", \"Plazo_m\\u00e1ximo_(meses)\": \"180\", \"Fecha_de_Vencimiento\": \"04/06/2029\", \"Garant\\u00eda\": \"Participaciones Federales\", \"Destino\": \"Refinanciamiento de los cr\\u00e9ditos, que se tienen contratados con el Banco del Baj\\u00edo, Sociedad An\\u00f3nima, Instituci\\u00f3n de Banca M\\u00faltiple con el Banco Mercantil del Norte (BANORTE) y con el Banco Nacional de Obras y Servicios P\\u00fablicos, S.N.C.\"}, {\"Ente_Acreditado\": \"Le\\u00f3n\", \"No_de_Cr\\u00e9dito\": null, \"No_de_inscripci\\u00f3n_SHCP\": \"P11-0714096\", \"Registro_Estatal\": \"250/14\", \"Ambito\": \"Municipal\", \"Instituci\\u00f3n_Acreedora\": \"Banorte\", \"Tipo_de_Obligaci\\u00f3n\": \"Contrato de Apertura de Cr\\u00e9dito Simple\", \"Clase_del_titulo\": \"Pesos\", \"Monto_original_contratado_en_pesos\": 271000000.0, \"Monto_dispuesto_en_pesos\": 255769230.0, \"Saldo_en_pesos\": 243193210.0, \"Tasa\": \"TIIE + 0.68\", \"Fecha_de_Contrataci\\u00f3n\": \"10/06/2014\", \"Plazo_m\\u00e1ximo_(meses)\": \"240\", \"Fecha_de_Vencimiento\": \"09/06/2034\", \"Garant\\u00eda\": \"Participaciones Federales\", \"Destino\": \"Refinanciamiento de los cr\\u00e9ditos, que se tienen contratados con el Banco del Baj\\u00edo, Sociedad An\\u00f3nima, Instituci\\u00f3n de Banca M\\u00faltiple con el Banco Mercantil del Norte (BANORTE) y con el Banco Nacional de Obras y Servicios P\\u00fablicos, S.N.C.\"}, {\"Ente_Acreditado\": \"Irapuato\", \"No_de_Cr\\u00e9dito\": null, \"No_de_inscripci\\u00f3n_SHCP\": \"P11-1014149\", \"Registro_Estatal\": \"252/14\", \"Ambito\": \"Municipal\", \"Instituci\\u00f3n_Acreedora\": \"BBVA Bancomer\", \"Tipo_de_Obligaci\\u00f3n\": \"Contrato de Apertura de Cr\\u00e9dito Simple\", \"Clase_del_titulo\": \"Pesos\", \"Monto_original_contratado_en_pesos\": 261485238.93, \"Monto_dispuesto_en_pesos\": 257611452.83, \"Saldo_en_pesos\": 221832077.83, \"Tasa\": \"TIIE + 0.70\", \"Fecha_de_Contrataci\\u00f3n\": \"30/09/2014\", \"Plazo_m\\u00e1ximo_(meses)\": \"180\", \"Fecha_de_Vencimiento\": \"21/11/2029\", \"Garant\\u00eda\": \"Participaciones Federales\", \"Destino\": \"Refinanciamiento del cr\\u00e9dito que se tiene contratado con el Banco del Baj\\u00edo S. A., Instituci\\u00f3n de Banca M\\u00faltiple,  derivado del  Proceso Jur\\u00eddico-Administrativo tendiente a la ejecuci\\u00f3n de la obra de Infraestructura vial, que incluye el cuarto cintur\\u00f3n vial y sus radiales, as\\u00ed como los servicios relacionados con los mismos, a ejecutarse en el Municipio.\"}, {\"Ente_Acreditado\": \"Irapuato\", \"No_de_Cr\\u00e9dito\": null, \"No_de_inscripci\\u00f3n_SHCP\": \"P11-1014150\", \"Registro_Estatal\": \"253/14\", \"Ambito\": \"Municipal\", \"Instituci\\u00f3n_Acreedora\": \"BBVA Bancomer\", \"Tipo_de_Obligaci\\u00f3n\": \"Contrato de Apertura de Cr\\u00e9dito Simple\", \"Clase_del_titulo\": \"Pesos\", \"Monto_original_contratado_en_pesos\": 200000000.0, \"Monto_dispuesto_en_pesos\": 200000000.0, \"Saldo_en_pesos\": 175888840.0, \"Tasa\": \"TIIE + 0.70\", \"Fecha_de_Contrataci\\u00f3n\": \"30/09/2014\", \"Plazo_m\\u00e1ximo_(meses)\": \"180\", \"Fecha_de_Vencimiento\": \"30/11/2029\", \"Garant\\u00eda\": \"Participaciones Federales\", \"Destino\": \"Adquisici\\u00f3n de maquinaria, terreno para pante\\u00f3n municipal, terreno para construcci\\u00f3n de un m\\u00f3dulo de COMUDAJ y pago de la adquisici\\u00f3n de reserva territorial.\"}, {\"Ente_Acreditado\": \"Gobierno del Estado de Guanajuato\", \"No_de_Cr\\u00e9dito\": null, \"No_de_inscripci\\u00f3n_SHCP\": \"P11-0516024\", \"Registro_Estatal\": \"283/16\", \"Ambito\": \"Estatal\", \"Instituci\\u00f3n_Acreedora\": \"Banamex\", \"Tipo_de_Obligaci\\u00f3n\": \"Contrato de Apertura de Cr\\u00e9dito Simple\", \"Clase_del_titulo\": \"Pesos\", \"Monto_original_contratado_en_pesos\": 2152000000.0, \"Monto_dispuesto_en_pesos\": 0.0, \"Saldo_en_pesos\": 2126972358.4, \"Tasa\": \"TIIE + 0.45\", \"Fecha_de_Contrataci\\u00f3n\": \"08/04/2016\", \"Plazo_m\\u00e1ximo_(meses)\": \"180\", \"Fecha_de_Vencimiento\": \"23/03/2031\", \"Garant\\u00eda\": \"Participaciones Federales\", \"Destino\": \"Se destinar\\u00e1n para financiar proyectos de inversi\\u00f3n p\\u00fablico productivo en los siguientes rubros y conforme o los importes que se refieren a continuaci\\u00f3n:\\nI. Fortalecimiento de lo infraestructura en salud- $860'000,000.00\\nII. Sistema de movilidad interurbano y metropolitano, sequndo etapa-$130'000,000.00\\nIII. Fortalecimiento d el sistema de seguridad publica-$100'000,000.00\\nIV. Eje metropolitano Le\\u00f3n-Silao-$200'000,000.00\\nV. Caminos rurales-$250'000,000.00\\nVI. Creaci\\u00f3n de fuentes de empleo y el desarrollo regional-$200'000,000.00\\nVII. Infraestructura poro lo reconstrucci\\u00f3n del tejido social (sociaL deportivo y educ ativo)-$2,500'000,000.00\"}, {\"Ente_Acreditado\": \"Celaya\", \"No_de_Cr\\u00e9dito\": null, \"No_de_inscripci\\u00f3n_SHCP\": \"P11-1016045\", \"Registro_Estatal\": \"285/16\", \"Ambito\": \"Municipal\", \"Instituci\\u00f3n_Acreedora\": \"BBVA Bancomer\", \"Tipo_de_Obligaci\\u00f3n\": null, \"Clase_del_titulo\": \"Pesos\", \"Monto_original_contratado_en_pesos\": 350000000.0, \"Monto_dispuesto_en_pesos\": 0.0, \"Saldo_en_pesos\": 79555555.56, \"Tasa\": \"TIIE + 0.73\", \"Fecha_de_Contrataci\\u00f3n\": null, \"Plazo_m\\u00e1ximo_(meses)\": \"180 meses\", \"Fecha_de_Vencimiento\": \"31/10/2031\", \"Garant\\u00eda\": \"Participaciones que le correspondan al Municipio durante el periodo del cr\\u00e9dito; y de manera complementaria la garant\\u00eda subsidiaria del Gobierno del Estado\", \"Destino\": \"Inversi\\u00f3n p\\u00fablica productiva\"}, {\"Ente_Acreditado\": null, \"No_de_Cr\\u00e9dito\": null, \"No_de_inscripci\\u00f3n_SHCP\": null, \"Registro_Estatal\": null, \"Ambito\": null, \"Instituci\\u00f3n_Acreedora\": null, \"Tipo_de_Obligaci\\u00f3n\": null, \"Clase_del_titulo\": null, \"Monto_original_contratado_en_pesos\": 0.0, \"Monto_dispuesto_en_pesos\": 0.0, \"Saldo_en_pesos\": 0.0, \"Tasa\": null, \"Fecha_de_Contrataci\\u00f3n\": null, \"Plazo_m\\u00e1ximo_(meses)\": null, \"Fecha_de_Vencimiento\": null, \"Garant\\u00eda\": null, \"Destino\": null}, {\"Ente_Acreditado\": null, \"No_de_Cr\\u00e9dito\": null, \"No_de_inscripci\\u00f3n_SHCP\": null, \"Registro_Estatal\": null, \"Ambito\": null, \"Instituci\\u00f3n_Acreedora\": null, \"Tipo_de_Obligaci\\u00f3n\": null, \"Clase_del_titulo\": null, \"Monto_original_contratado_en_pesos\": 0.0, \"Monto_dispuesto_en_pesos\": 0.0, \"Saldo_en_pesos\": 8087110560.9, \"Tasa\": null, \"Fecha_de_Contrataci\\u00f3n\": null, \"Plazo_m\\u00e1ximo_(meses)\": null, \"Fecha_de_Vencimiento\": null, \"Garant\\u00eda\": null, \"Destino\": null}]}}, {\"mode\": \"vega-lite\"});\n",
              "</script>"
            ]
          },
          "metadata": {
            "tags": []
          },
          "execution_count": 84
        }
      ]
    },
    {
      "cell_type": "code",
      "metadata": {
        "id": "UgkSyG14T8CF",
        "outputId": "970855f7-db9b-4cfb-ebef-94c4759451df",
        "colab": {
          "base_uri": "https://localhost:8080/",
          "height": 535
        }
      },
      "source": [
        "alt.Chart(Datos).mark_bar().encode(\n",
        "    x = alt.X('Institución_Acreedora'),\n",
        "    y = alt.X('count(Institución_Acreedora)'),\n",
        "    color = 'Institución_Acreedora',\n",
        ")"
      ],
      "execution_count": 85,
      "outputs": [
        {
          "output_type": "execute_result",
          "data": {
            "text/plain": [
              "alt.Chart(...)"
            ],
            "text/html": [
              "\n",
              "<div id=\"altair-viz-b5f35f15f31f44aab3d5f3997a477983\"></div>\n",
              "<script type=\"text/javascript\">\n",
              "  (function(spec, embedOpt){\n",
              "    let outputDiv = document.currentScript.previousElementSibling;\n",
              "    if (outputDiv.id !== \"altair-viz-b5f35f15f31f44aab3d5f3997a477983\") {\n",
              "      outputDiv = document.getElementById(\"altair-viz-b5f35f15f31f44aab3d5f3997a477983\");\n",
              "    }\n",
              "    const paths = {\n",
              "      \"vega\": \"https://cdn.jsdelivr.net/npm//vega@5?noext\",\n",
              "      \"vega-lib\": \"https://cdn.jsdelivr.net/npm//vega-lib?noext\",\n",
              "      \"vega-lite\": \"https://cdn.jsdelivr.net/npm//vega-lite@4.8.1?noext\",\n",
              "      \"vega-embed\": \"https://cdn.jsdelivr.net/npm//vega-embed@6?noext\",\n",
              "    };\n",
              "\n",
              "    function loadScript(lib) {\n",
              "      return new Promise(function(resolve, reject) {\n",
              "        var s = document.createElement('script');\n",
              "        s.src = paths[lib];\n",
              "        s.async = true;\n",
              "        s.onload = () => resolve(paths[lib]);\n",
              "        s.onerror = () => reject(`Error loading script: ${paths[lib]}`);\n",
              "        document.getElementsByTagName(\"head\")[0].appendChild(s);\n",
              "      });\n",
              "    }\n",
              "\n",
              "    function showError(err) {\n",
              "      outputDiv.innerHTML = `<div class=\"error\" style=\"color:red;\">${err}</div>`;\n",
              "      throw err;\n",
              "    }\n",
              "\n",
              "    function displayChart(vegaEmbed) {\n",
              "      vegaEmbed(outputDiv, spec, embedOpt)\n",
              "        .catch(err => showError(`Javascript Error: ${err.message}<br>This usually means there's a typo in your chart specification. See the javascript console for the full traceback.`));\n",
              "    }\n",
              "\n",
              "    if(typeof define === \"function\" && define.amd) {\n",
              "      requirejs.config({paths});\n",
              "      require([\"vega-embed\"], displayChart, err => showError(`Error loading script: ${err.message}`));\n",
              "    } else if (typeof vegaEmbed === \"function\") {\n",
              "      displayChart(vegaEmbed);\n",
              "    } else {\n",
              "      loadScript(\"vega\")\n",
              "        .then(() => loadScript(\"vega-lite\"))\n",
              "        .then(() => loadScript(\"vega-embed\"))\n",
              "        .catch(showError)\n",
              "        .then(() => displayChart(vegaEmbed));\n",
              "    }\n",
              "  })({\"config\": {\"view\": {\"continuousWidth\": 400, \"continuousHeight\": 300}}, \"data\": {\"name\": \"data-5662e0040bea0a393c0ae52fc23c4a09\"}, \"mark\": \"bar\", \"encoding\": {\"color\": {\"type\": \"nominal\", \"field\": \"Instituci\\u00f3n_Acreedora\"}, \"x\": {\"type\": \"nominal\", \"field\": \"Instituci\\u00f3n_Acreedora\"}, \"y\": {\"type\": \"nominal\", \"aggregate\": \"count\", \"field\": \"Instituci\\u00f3n_Acreedora\"}}, \"$schema\": \"https://vega.github.io/schema/vega-lite/v4.8.1.json\", \"datasets\": {\"data-5662e0040bea0a393c0ae52fc23c4a09\": [{\"Ente_Acreditado\": \"Gobierno del Estado de Guanajuato\", \"No_de_Cr\\u00e9dito\": null, \"No_de_inscripci\\u00f3n_SHCP\": \"167/2002\", \"Registro_Estatal\": \"124/02\", \"Ambito\": \"Estatal\", \"Instituci\\u00f3n_Acreedora\": \"Banco del Baj\\u00edo, S.A.\", \"Tipo_de_Obligaci\\u00f3n\": \"Contrato de Apertura de Cr\\u00e9dito Simple\", \"Clase_del_titulo\": \"Pesos\", \"Monto_original_contratado_en_pesos\": 233000000.0, \"Monto_dispuesto_en_pesos\": 232851337.75, \"Saldo_en_pesos\": 15597340.75, \"Tasa\": \"TIIE +1.00\", \"Fecha_de_Contrataci\\u00f3n\": \"09/12/2002\", \"Plazo_m\\u00e1ximo_(meses)\": \"180\", \"Fecha_de_Vencimiento\": \"27/11/2017\", \"Garant\\u00eda\": \"Participaciones Federales\", \"Destino\": \"Se destinar\\u00e1 precisa y exclusivamente para financiar el siguiente paquete de obras de infraestructura: Carretera Silao-San Felipe, Libramiento Sur de Celaya y la construcci\\u00f3n de los Puentes Carreteros en Santa Ana del Conde, la Ladrillera, San Antonio el Chico y Aldama.\"}, {\"Ente_Acreditado\": \"Gobierno del Estado de Guanajuato\", \"No_de_Cr\\u00e9dito\": 1466.0, \"No_de_inscripci\\u00f3n_SHCP\": \"169/02\", \"Registro_Estatal\": \"125/02\", \"Ambito\": \"Estatal\", \"Instituci\\u00f3n_Acreedora\": \"Banobras S.N.C\", \"Tipo_de_Obligaci\\u00f3n\": \"Contrato de apertura de cr\\u00e9dito simple y constituci\\u00f3n de garant\\u00edas\", \"Clase_del_titulo\": \"Pesos\", \"Monto_original_contratado_en_pesos\": 289037000.0, \"Monto_dispuesto_en_pesos\": 289037000.0, \"Saldo_en_pesos\": 52301933.78, \"Tasa\": \"FOAEM Nominal + 1.50\", \"Fecha_de_Contrataci\\u00f3n\": \"18/12/2002\", \"Plazo_m\\u00e1ximo_(meses)\": \"240\", \"Fecha_de_Vencimiento\": \"10/03/2023\", \"Garant\\u00eda\": \"Participaciones Federales\", \"Destino\": \"Se destinar\\u00e1 precisa y exclusivamente para financiar el siguiente paquete de obras de infraestructura: Carretera Silao-San Felipe, Libramiento Sur de Celaya y la construcci\\u00f3n de los Puentes Carreteros en Santa Ana del Conde, la Ladrillera, San Antonio el Chico y Aldama.\"}, {\"Ente_Acreditado\": \"Gobierno del Estado de Guanajuato\", \"No_de_Cr\\u00e9dito\": 1467.0, \"No_de_inscripci\\u00f3n_SHCP\": \"169/02\", \"Registro_Estatal\": \"125/02\", \"Ambito\": \"Estatal\", \"Instituci\\u00f3n_Acreedora\": \"Banobras S.N.C\", \"Tipo_de_Obligaci\\u00f3n\": \"Contrato de apertura de cr\\u00e9dito simple y constituci\\u00f3n de garant\\u00edas\", \"Clase_del_titulo\": \"UDIS\", \"Monto_original_contratado_en_pesos\": 289037000.0, \"Monto_dispuesto_en_pesos\": 289037000.0, \"Saldo_en_pesos\": 84325399.36, \"Tasa\": \"FOAEM Real + 1.50\", \"Fecha_de_Contrataci\\u00f3n\": \"18/12/2002\", \"Plazo_m\\u00e1ximo_(meses)\": \"240\", \"Fecha_de_Vencimiento\": \"10/03/2023\", \"Garant\\u00eda\": \"Participaciones Federales\", \"Destino\": \"Se destinar\\u00e1 precisa y exclusivamente para financiar el siguiente paquete de obras de infraestructura: Carretera Silao-San Felipe, Libramiento Sur de Celaya y la construcci\\u00f3n de los Puentes Carreteros en Santa Ana del Conde, la Ladrillera, San Antonio el Chico y Aldama.\"}, {\"Ente_Acreditado\": \"Tarimoro\", \"No_de_Cr\\u00e9dito\": 4470.0, \"No_de_inscripci\\u00f3n_SHCP\": \"276/2004\", \"Registro_Estatal\": \"140/04\", \"Ambito\": \"Municipal\", \"Instituci\\u00f3n_Acreedora\": \"Banobras S.N.C\", \"Tipo_de_Obligaci\\u00f3n\": \"Contrato de apertura de cr\\u00e9dito simple y constituci\\u00f3n de garant\\u00edas\", \"Clase_del_titulo\": \"Pesos\", \"Monto_original_contratado_en_pesos\": 3132842.97, \"Monto_dispuesto_en_pesos\": 3132842.97, \"Saldo_en_pesos\": 671324.13, \"Tasa\": \"TIIE * 1.120\", \"Fecha_de_Contrataci\\u00f3n\": \"11/11/2004\", \"Plazo_m\\u00e1ximo_(meses)\": \"180\", \"Fecha_de_Vencimiento\": \"23/12/2019\", \"Garant\\u00eda\": \"Participaciones Federales\", \"Destino\": \"Se destinar\\u00e1 \\u00fanica y exclusivamente en los siguientes t\\u00e9rminos: $15'000,000.00 (Quince millones de pesos 00/100 M.N) para aplicarlos a la reestructuraci\\u00f3n del cr\\u00e9dito autorizado mediante decreto n\\u00famero 190, expedido por la Quincuag\\u00e9sima Octava Legislatura y publicado en el Peri\\u00f3dico Oficial del Gobierno del Estado n\\u00famero 52, segunda parte, de fecha 1\\u00b0 de abril del a\\u00f1o 2003; $3'000,000.00 (Tres millones de pesos 00/100 M.N.) para cubrir parcialmente el costo de pavimentaci\\u00f3n de la carretera Tarimoro-Cerro Prieto, en el Municipio de Tarimoro, Gto; y $955,750.12 (Novecientos cincuenta y cinco mil setecientos cincuenta pesos 12/100 M.N.) para el pago de los accesorios financieros\"}, {\"Ente_Acreditado\": \"Gobierno del Estado de Guanajuato\", \"No_de_Cr\\u00e9dito\": 5768.0, \"No_de_inscripci\\u00f3n_SHCP\": \"234/2005\", \"Registro_Estatal\": \"147/05\", \"Ambito\": \"Estatal\", \"Instituci\\u00f3n_Acreedora\": \"Banobras S.N.C\", \"Tipo_de_Obligaci\\u00f3n\": \"Contrato de Apertura de Cr\\u00e9dito Simple\", \"Clase_del_titulo\": \"Pesos\", \"Monto_original_contratado_en_pesos\": 1184414400.0, \"Monto_dispuesto_en_pesos\": 1184414400.0, \"Saldo_en_pesos\": 97109245.0, \"Tasa\": \"CETES 182  + 1.34\", \"Fecha_de_Contrataci\\u00f3n\": \"20/05/2005\", \"Plazo_m\\u00e1ximo_(meses)\": \"216\", \"Fecha_de_Vencimiento\": \"01/02/2022\", \"Garant\\u00eda\": \"Participaciones Federales\", \"Destino\": \"Obra p\\u00fablica\"}, {\"Ente_Acreditado\": \"Gobierno del Estado de Guanajuato\", \"No_de_Cr\\u00e9dito\": 6342.0, \"No_de_inscripci\\u00f3n_SHCP\": \"234/2005\", \"Registro_Estatal\": \"147/05\", \"Ambito\": \"Estatal\", \"Instituci\\u00f3n_Acreedora\": \"Banobras S.N.C\", \"Tipo_de_Obligaci\\u00f3n\": \"Contrato de Apertura de Cr\\u00e9dito Simple\", \"Clase_del_titulo\": \"Pesos\", \"Monto_original_contratado_en_pesos\": 1184414400.0, \"Monto_dispuesto_en_pesos\": 1184414400.0, \"Saldo_en_pesos\": 88311746.67, \"Tasa\": \"CETES 182  + 1.33\", \"Fecha_de_Contrataci\\u00f3n\": \"20/05/2005\", \"Plazo_m\\u00e1ximo_(meses)\": \"216\", \"Fecha_de_Vencimiento\": \"01/02/2022\", \"Garant\\u00eda\": \"Participaciones Federales\", \"Destino\": \"Financiar el programa de financiamiento a estrategias sectoriales integrales en el estado de Guanajuato\"}, {\"Ente_Acreditado\": \"Gobierno del Estado de Guanajuato\", \"No_de_Cr\\u00e9dito\": 6938.0, \"No_de_inscripci\\u00f3n_SHCP\": \"234/2005\", \"Registro_Estatal\": \"147/05\", \"Ambito\": \"Estatal\", \"Instituci\\u00f3n_Acreedora\": \"Banobras S.N.C\", \"Tipo_de_Obligaci\\u00f3n\": \"Contrato de Apertura de Cr\\u00e9dito Simple\", \"Clase_del_titulo\": \"Pesos\", \"Monto_original_contratado_en_pesos\": 1184414400.0, \"Monto_dispuesto_en_pesos\": 1184414400.0, \"Saldo_en_pesos\": 36064550.65, \"Tasa\": \"CETES 182  + 1.08\", \"Fecha_de_Contrataci\\u00f3n\": \"20/05/2005\", \"Plazo_m\\u00e1ximo_(meses)\": \"216\", \"Fecha_de_Vencimiento\": \"01/02/2022\", \"Garant\\u00eda\": \"Participaciones Federales\", \"Destino\": \"Financiar el programa de financiamiento a estrategias sectoriales integrales en el estado de Guanajuato\"}, {\"Ente_Acreditado\": \"Gobierno del Estado de Guanajuato\", \"No_de_Cr\\u00e9dito\": 7061.0, \"No_de_inscripci\\u00f3n_SHCP\": \"234/2006\", \"Registro_Estatal\": \"147/05\", \"Ambito\": \"Estatal\", \"Instituci\\u00f3n_Acreedora\": \"Banobras S.N.C\", \"Tipo_de_Obligaci\\u00f3n\": \"Contrato de Apertura de Cr\\u00e9dito Simple\", \"Clase_del_titulo\": \"Pesos\", \"Monto_original_contratado_en_pesos\": 1184414400.0, \"Monto_dispuesto_en_pesos\": 1184414400.0, \"Saldo_en_pesos\": 106248939.08, \"Tasa\": \"CETES 182  + 1.11\", \"Fecha_de_Contrataci\\u00f3n\": \"20/05/2005\", \"Plazo_m\\u00e1ximo_(meses)\": \"216\", \"Fecha_de_Vencimiento\": \"01/02/2022\", \"Garant\\u00eda\": \"Participaciones Federales\", \"Destino\": \"Financiar el programa de financiamiento a estrategias sectoriales integrales en el estado de Guanajuato\"}, {\"Ente_Acreditado\": \"Gobierno del Estado de Guanajuato\", \"No_de_Cr\\u00e9dito\": 7848.0, \"No_de_inscripci\\u00f3n_SHCP\": \"234/2006\", \"Registro_Estatal\": \"147/05\", \"Ambito\": \"Estatal\", \"Instituci\\u00f3n_Acreedora\": \"Banobras S.N.C\", \"Tipo_de_Obligaci\\u00f3n\": \"Contrato de Apertura de Cr\\u00e9dito Simple\", \"Clase_del_titulo\": \"Pesos\", \"Monto_original_contratado_en_pesos\": 1184414400.0, \"Monto_dispuesto_en_pesos\": 1184414400.0, \"Saldo_en_pesos\": 84958370.54, \"Tasa\": \"CETES 182  + 1.22\", \"Fecha_de_Contrataci\\u00f3n\": \"20/05/2005\", \"Plazo_m\\u00e1ximo_(meses)\": \"216\", \"Fecha_de_Vencimiento\": \"01/02/2022\", \"Garant\\u00eda\": \"Participaciones Federales\", \"Destino\": \"Financiar el programa de financiamiento a estrategias sectoriales integrales en el estado de Guanajuato\"}, {\"Ente_Acreditado\": \"Jer\\u00e9cuaro\", \"No_de_Cr\\u00e9dito\": 7073.0, \"No_de_inscripci\\u00f3n_SHCP\": \"352/2007\", \"Registro_Estatal\": \"168/07\", \"Ambito\": \"Municipal\", \"Instituci\\u00f3n_Acreedora\": \"Banobras S.N.C\", \"Tipo_de_Obligaci\\u00f3n\": \"Contrato de Apertura de Cr\\u00e9dito Simple\", \"Clase_del_titulo\": \"Pesos\", \"Monto_original_contratado_en_pesos\": 4382506.0, \"Monto_dispuesto_en_pesos\": 4382506.0, \"Saldo_en_pesos\": 191225.21, \"Tasa\": \"TIIE + 1.81\", \"Fecha_de_Contrataci\\u00f3n\": \"07/12/2007\", \"Plazo_m\\u00e1ximo_(meses)\": \"120\", \"Fecha_de_Vencimiento\": \"02/01/2018\", \"Garant\\u00eda\": \"Participaciones Federales\", \"Destino\": \"Financiar los siguientes conceptos: \\nTramo 1.-Refinanciar saldo de la deuda del acreditado con BANOBRAS: comisi\\u00f3n por apertura del cr\\u00e9dito, incluye IVA; \\nTramo 2.-Conclusi\\u00f3n etapa II central de autobuses, incluido IVA e intereses que se generen durante el periodo de disposici\\u00f3n del cr\\u00e9dito.\"}, {\"Ente_Acreditado\": \"Jer\\u00e9cuaro\", \"No_de_Cr\\u00e9dito\": 7080.0, \"No_de_inscripci\\u00f3n_SHCP\": \"352/2007\", \"Registro_Estatal\": \"168/07\", \"Ambito\": \"Municipal\", \"Instituci\\u00f3n_Acreedora\": \"Banobras S.N.C\", \"Tipo_de_Obligaci\\u00f3n\": \"Contrato de Apertura de Cr\\u00e9dito Simple\", \"Clase_del_titulo\": \"Pesos\", \"Monto_original_contratado_en_pesos\": 4382506.0, \"Monto_dispuesto_en_pesos\": 4382506.0, \"Saldo_en_pesos\": 257038.22, \"Tasa\": \"TIIE + 1.81\", \"Fecha_de_Contrataci\\u00f3n\": \"07/12/2007\", \"Plazo_m\\u00e1ximo_(meses)\": \"120\", \"Fecha_de_Vencimiento\": \"21/12/2017\", \"Garant\\u00eda\": \"Participaciones Federales\", \"Destino\": \"Financiar los siguientes conceptos: refinanciar saldo de la deuda del acreditado con BANOBRAS: comisi\\u00f3n por apertura del cr\\u00e9dito, incluye IVA; conclusi\\u00f3n etapa II central de autobuses, incluido IVA e intereses que se generen durante el periodo de disposici\\u00f3n del cr\\u00e9dito.\"}, {\"Ente_Acreditado\": \"Gobierno del Estado de Guanajuato\", \"No_de_Cr\\u00e9dito\": null, \"No_de_inscripci\\u00f3n_SHCP\": \"348/2007\", \"Registro_Estatal\": \"170/07\", \"Ambito\": \"Estatal\", \"Instituci\\u00f3n_Acreedora\": \"BBVA Bancomer\", \"Tipo_de_Obligaci\\u00f3n\": \"Contrato de Apertura de Cr\\u00e9dito Simple\", \"Clase_del_titulo\": \"Pesos\", \"Monto_original_contratado_en_pesos\": 500000000.0, \"Monto_dispuesto_en_pesos\": 500000000.0, \"Saldo_en_pesos\": 202786100.0, \"Tasa\": \"TIIE + 1.60\", \"Fecha_de_Contrataci\\u00f3n\": \"18/12/2007\", \"Plazo_m\\u00e1ximo_(meses)\": \"180\", \"Fecha_de_Vencimiento\": \"21/12/2022\", \"Garant\\u00eda\": \"10% de la afectaci\\u00f3n de participaciones que en ingresos federales correspondan al estado de Guanajuato mediante contrato constitutivo de fideicomiso irrevocable de administraci\\u00f3n y medio No. F/47095-5.\", \"Destino\": \"Se destinar\\u00e1 precisa y exclusivamente para financiar las acciones incluidas en los programas de inversi\\u00f3n para los sectores de:\\nI. Programas de apoyo a los sectores industrial y comercial, y desarrollo de empleo;\\nII. Programas de apoyo al desarrollo de la infraestructura educativa y deportiva;\\nIII. Programas para el desarrollo de infraestructura hospitalaria y atenci\\u00f3n a la salud;\\nIV. Programas para el desarrollo de infraestructura hidr\\u00e1ulica y saneamiento;\\nV. Programas de Infraestructura carretera, edificaci\\u00f3n y equipamiento;\\nVI. Desarrollo agropecuario, ganadero, forestal y rural;\\nVII. Fortalecimiento a programas ecol\\u00f3gicos y de mejoramiento al medio ambiente;\\nVIII. Infraestructura, equipamiento y profesionalizaci\\u00f3n en Seguridad P\\u00fablica;\\nIX. Fomento de la investigaci\\u00f3n cient\\u00edfica y tecnol\\u00f3gica;\\nX. Programas educativos y culturales;\\nXI. Programas para el desarrollo y promoci\\u00f3n tur\\u00edstica; y\\nXII. Programas de apoyo para asistencia social, desarrollo social, deportivo, educativo, cultural y de fortalecimiento institucional.\"}, {\"Ente_Acreditado\": \"Gobierno del Estado de Guanajuato\", \"No_de_Cr\\u00e9dito\": null, \"No_de_inscripci\\u00f3n_SHCP\": \"349/2007\", \"Registro_Estatal\": \"171/07\", \"Ambito\": \"Estatal\", \"Instituci\\u00f3n_Acreedora\": \"Banamex\", \"Tipo_de_Obligaci\\u00f3n\": \"Contrato de Apertura de Cr\\u00e9dito Simple\", \"Clase_del_titulo\": \"Pesos\", \"Monto_original_contratado_en_pesos\": 500000000.0, \"Monto_dispuesto_en_pesos\": 500000000.0, \"Saldo_en_pesos\": 199999999.81, \"Tasa\": \"TIIE + 0.30\", \"Fecha_de_Contrataci\\u00f3n\": \"19/12/2007\", \"Plazo_m\\u00e1ximo_(meses)\": \"180\", \"Fecha_de_Vencimiento\": \"26/12/2022\", \"Garant\\u00eda\": \"12% de la afectaci\\u00f3n de participaciones que en ingresos federales correspondan al estado de Guanajuato mediante contrato constitutivo de fideicomiso irrevocable de administraci\\u00f3n y medio No. F/47095-5.\", \"Destino\": \"Se destinar\\u00e1 precisa y exclusivamente para financiar las acciones incluidas en los programas de inversi\\u00f3n para los sectores de:\\nI. Programas de apoyo a los sectores industrial y comercial, y desarrollo de empleo;\\nII. Programas de apoyo al desarrollo de la infraestructura educativa y deportiva;\\nIII. Programas para el desarrollo de infraestructura hospitalaria y atenci\\u00f3n a la salud;\\nIV. Programas para el desarrollo de infraestructura hidr\\u00e1ulica y saneamiento;\\nV. Programas de Infraestructura carretera, edificaci\\u00f3n y equipamiento;\\nVI. Desarrollo agropecuario, ganadero, forestal y rural;\\nVII. Fortalecimiento a programas ecol\\u00f3gicos y de mejoramiento al medio ambiente;\\nVIII. Infraestructura, equipamiento y profesionalizaci\\u00f3n en Seguridad P\\u00fablica;\\nIX. Fomento de la investigaci\\u00f3n cient\\u00edfica y tecnol\\u00f3gica;\\nX. Programas educativos y culturales;\\nXI. Programas para el desarrollo y promoci\\u00f3n tur\\u00edstica; y\\nXII. Programas de apoyo para asistencia social, desarrollo social, deportivo, educativo, cultural\\ny de fortalecimiento institucional.\"}, {\"Ente_Acreditado\": \"Abasolo\", \"No_de_Cr\\u00e9dito\": 7196.0, \"No_de_inscripci\\u00f3n_SHCP\": \"102/2008\", \"Registro_Estatal\": \"175/08\", \"Ambito\": \"Municipal\", \"Instituci\\u00f3n_Acreedora\": \"Banobras S.N.C\", \"Tipo_de_Obligaci\\u00f3n\": \"Contrato de Apertura de Cr\\u00e9dito Simple\", \"Clase_del_titulo\": \"Pesos\", \"Monto_original_contratado_en_pesos\": 13000000.0, \"Monto_dispuesto_en_pesos\": 13000000.0, \"Saldo_en_pesos\": 1747898.9, \"Tasa\": \"TIIE + 1.44\", \"Fecha_de_Contrataci\\u00f3n\": \"15/05/2008\", \"Plazo_m\\u00e1ximo_(meses)\": \"120\", \"Fecha_de_Vencimiento\": \"30/04/2018\", \"Garant\\u00eda\": \"Afectaci\\u00f3n de participaciones que en ingresos federales le corresponden al municipio.\", \"Destino\": \"Adquisici\\u00f3n de un terreno ubicado en el predio denominado \\\"Rancho de la Pe\\u00f1a de Guisa\\\" que ser\\u00e1 utilizado como reserva territorial, con el fin de fomentar la vivienda y para crear infraestructura educativa.\"}, {\"Ente_Acreditado\": \"Salamanca\", \"No_de_Cr\\u00e9dito\": null, \"No_de_inscripci\\u00f3n_SHCP\": \"285/2008\", \"Registro_Estatal\": \"177/08\", \"Ambito\": \"Municipal\", \"Instituci\\u00f3n_Acreedora\": \"Banco del Baj\\u00edo, S.A.\", \"Tipo_de_Obligaci\\u00f3n\": \"Contrato de Apertura de Cr\\u00e9dito Simple\", \"Clase_del_titulo\": \"Pesos\", \"Monto_original_contratado_en_pesos\": 46000000.0, \"Monto_dispuesto_en_pesos\": 46000000.0, \"Saldo_en_pesos\": 14616200.0, \"Tasa\": \"TIIE + 0.45\", \"Fecha_de_Contrataci\\u00f3n\": \"29/08/2008\", \"Plazo_m\\u00e1ximo_(meses)\": \"144\", \"Fecha_de_Vencimiento\": \"02/09/2020\", \"Garant\\u00eda\": \"Participaciones Federales\", \"Destino\": \"1) Construcci\\u00f3n de paso inferior de la Avenida Cazadora, tramo avenida Faja de Oro - Avenida delTrabajo; 2) Construcci\\u00f3n del Boulevard Las Torres, tramo Boulevard Clouthier - Distribuidor Vial; 3) Adquisici\\u00f3n de un terreno para la construcci\\u00f3n de un hospital materno infantil; y 4) Construcci\\u00f3n de camino de acceso a la divisi\\u00f3n de Ingenerias, campus Salamanca-Irapuato .\"}, {\"Ente_Acreditado\": \"Tarandacuao\", \"No_de_Cr\\u00e9dito\": 7491.0, \"No_de_inscripci\\u00f3n_SHCP\": \"293/2008\", \"Registro_Estatal\": \"178/08\", \"Ambito\": \"Municipal\", \"Instituci\\u00f3n_Acreedora\": \"Banobras S.N.C\", \"Tipo_de_Obligaci\\u00f3n\": \"Contrato de Apertura de Cr\\u00e9dito Simple\", \"Clase_del_titulo\": \"Pesos\", \"Monto_original_contratado_en_pesos\": 7002824.12, \"Monto_dispuesto_en_pesos\": 7002824.12, \"Saldo_en_pesos\": 1412878.62, \"Tasa\": \"TIIE + 1.53\", \"Fecha_de_Contrataci\\u00f3n\": \"01/09/2008\", \"Plazo_m\\u00e1ximo_(meses)\": \"120\", \"Fecha_de_Vencimiento\": \"08/10/2018\", \"Garant\\u00eda\": \"Participaciones Federales\", \"Destino\": \"Diversas obras p\\u00fablicas productivas, particularmente (I) Programa 3x1 para migrantes; (II) Construcci\\u00f3n del Centro Gerontol\\u00f3gico (segunda etapa); (III) Construcci\\u00f3n del Centro Regional de Desarrollo Tur\\u00edstico y Ambiental (tercera etapa); (IV) Construcci\\u00f3n del Edificio de Seguridad P\\u00fablica (primera etapa); (V) Construcci\\u00f3n del segundo nivel del Hospital Comunitario en la cabecera municipal; (VI) Paradero de autob\\u00fas en la cabecera municipal y casetas rurales en las comunidades de la Virgen, San Jos\\u00e9 de Hidalgo, San Joaqu\\u00edn de Porto, la Soledad y San Antonio; (VII) Construcci\\u00f3n de sal\\u00f3n de usos m\\u00faltiples en la Unidad de Servicios de Apoyo a la Educaci\\u00f3n (USAE) y Centro de Desarrollo Educativo (CEDE); (VIII) Construcci\\u00f3n de sanitarios en el campo de b\\u00e9isbol \\\"Profr. Odil\\u00f3n Garc\\u00eda Ch\\u00e1vez\\\"; (IX) Construcci\\u00f3n de sanitarios en los campos de f\\u00fatbol I y II \\\"Las Galeras\\\"; (X) Empastado del campo de f\\u00fatbol l \\\"Las Galeras\\\"; (XI) Programa de Apoyo a la Producci\\u00f3n Rural; y (XII) Adquisici\\u00f3n de un cami\\u00f3n\\nrecolector de basura.\"}, {\"Ente_Acreditado\": \"Silao de la Victoria\", \"No_de_Cr\\u00e9dito\": null, \"No_de_inscripci\\u00f3n_SHCP\": \"446/2008\", \"Registro_Estatal\": \"180/08\", \"Ambito\": \"Municipal\", \"Instituci\\u00f3n_Acreedora\": \"Banco del Baj\\u00edo, S.A.\", \"Tipo_de_Obligaci\\u00f3n\": \"Contrato de Apertura de Cr\\u00e9dito Simple\", \"Clase_del_titulo\": \"Pesos\", \"Monto_original_contratado_en_pesos\": 52000000.0, \"Monto_dispuesto_en_pesos\": 52000000.0, \"Saldo_en_pesos\": 25896160.0, \"Tasa\": \"TIIE + 2.25\", \"Fecha_de_Contrataci\\u00f3n\": \"11/11/2008\", \"Plazo_m\\u00e1ximo_(meses)\": \"180\", \"Fecha_de_Vencimiento\": \"31/10/2023\", \"Garant\\u00eda\": \"Participaciones Federales\", \"Destino\": \"Inversiones p\\u00fablicas productivas\"}, {\"Ente_Acreditado\": \"Doctor Mora\", \"No_de_Cr\\u00e9dito\": 8270.0, \"No_de_inscripci\\u00f3n_SHCP\": \"228/2009\", \"Registro_Estatal\": \"186/09\", \"Ambito\": \"Municipal\", \"Instituci\\u00f3n_Acreedora\": \"Banobras S.N.C\", \"Tipo_de_Obligaci\\u00f3n\": \"Contrato de apertura de cr\\u00e9dito simple y constituci\\u00f3n de garant\\u00edas\", \"Clase_del_titulo\": \"Pesos\", \"Monto_original_contratado_en_pesos\": 7493848.97, \"Monto_dispuesto_en_pesos\": 7493848.97, \"Saldo_en_pesos\": 1663398.22, \"Tasa\": \"TIIE + 2.37\", \"Fecha_de_Contrataci\\u00f3n\": \"30/06/2009\", \"Plazo_m\\u00e1ximo_(meses)\": \"120\", \"Fecha_de_Vencimiento\": \"24/09/2019\", \"Garant\\u00eda\": \"Participaciones Federales\", \"Destino\": \"Adquisici\\u00f3n reserva territorial\"}, {\"Ente_Acreditado\": \"Tarimoro\", \"No_de_Cr\\u00e9dito\": 8262.0, \"No_de_inscripci\\u00f3n_SHCP\": \"227/2009\", \"Registro_Estatal\": \"187/09\", \"Ambito\": \"Municipal\", \"Instituci\\u00f3n_Acreedora\": \"Banobras S.N.C\", \"Tipo_de_Obligaci\\u00f3n\": \"Contrato de Apertura de Cr\\u00e9dito Simple\", \"Clase_del_titulo\": \"Pesos\", \"Monto_original_contratado_en_pesos\": 4848411.91, \"Monto_dispuesto_en_pesos\": 4848411.91, \"Saldo_en_pesos\": 1341717.83, \"Tasa\": \"TIIE + 2.67\", \"Fecha_de_Contrataci\\u00f3n\": \"17/07/2009\", \"Plazo_m\\u00e1ximo_(meses)\": \"120\", \"Fecha_de_Vencimiento\": \"19/08/2019\", \"Garant\\u00eda\": \"Participaciones Federales\", \"Destino\": \"Sistema de drenaje sanitario el Charco Largo; pavimentaci\\u00f3n concreto hidr\\u00e1ulico calle 16 de septiembre comunidad La Moncada; construcci\\u00f3n parque col. San Isidro.\"}, {\"Ente_Acreditado\": \"Cuer\\u00e1maro\", \"No_de_Cr\\u00e9dito\": 4284212.0, \"No_de_inscripci\\u00f3n_SHCP\": \"246/2009\", \"Registro_Estatal\": \"189/09\", \"Ambito\": \"Municipal\", \"Instituci\\u00f3n_Acreedora\": \"Banco del Baj\\u00edo, S.A.\", \"Tipo_de_Obligaci\\u00f3n\": \"Contrato de apertura de cr\\u00e9dito simple y constituci\\u00f3n de garant\\u00edas\", \"Clase_del_titulo\": \"Pesos\", \"Monto_original_contratado_en_pesos\": 7300000.0, \"Monto_dispuesto_en_pesos\": 7300000.0, \"Saldo_en_pesos\": 3736000.0, \"Tasa\": \"TIIE + 3.50\", \"Fecha_de_Contrataci\\u00f3n\": \"02/09/2009\", \"Plazo_m\\u00e1ximo_(meses)\": \"180\", \"Fecha_de_Vencimiento\": \"02/08/2024\", \"Garant\\u00eda\": \"Participaciones Federales\", \"Destino\": \"Adquisici\\u00f3n de maquinaria, Adquisici\\u00f3n de terreno para la construcci\\u00f3n de un pante\\u00f3n municipal, Pago complementario de la adquisici\\u00f3n de reserva territorial y Adquisici\\u00f3n de terreno complementario para la construcci\\u00f3n de un m\\u00f3dulo\\nde COMUDAJ.\"}, {\"Ente_Acreditado\": \"Gobierno del Estado de Guanajuato\", \"No_de_Cr\\u00e9dito\": null, \"No_de_inscripci\\u00f3n_SHCP\": \"311/2009\", \"Registro_Estatal\": \"192/09\", \"Ambito\": \"Estatal\", \"Instituci\\u00f3n_Acreedora\": \"Banco del Baj\\u00edo, S.A.\", \"Tipo_de_Obligaci\\u00f3n\": \"Contrato de Apertura de Cr\\u00e9dito Simple\", \"Clase_del_titulo\": \"Pesos\", \"Monto_original_contratado_en_pesos\": 2000000000.0, \"Monto_dispuesto_en_pesos\": 1664477330.0, \"Saldo_en_pesos\": 469468130.0, \"Tasa\": \"TIIE + 1.60\", \"Fecha_de_Contrataci\\u00f3n\": \"21/09/2009\", \"Plazo_m\\u00e1ximo_(meses)\": \"120\", \"Fecha_de_Vencimiento\": \"26/09/2019\", \"Garant\\u00eda\": \"Participaciones Federales\", \"Destino\": \"Inversi\\u00f3n p\\u00fablica productiva en el estado de Guanajuato, consistente en proyectos de infraestructura vial, urbana y de servicios.\"}, {\"Ente_Acreditado\": \"Gobierno del Estado de Guanajuato\", \"No_de_Cr\\u00e9dito\": null, \"No_de_inscripci\\u00f3n_SHCP\": \"519/2009\", \"Registro_Estatal\": \"194/09\", \"Ambito\": \"Estatal\", \"Instituci\\u00f3n_Acreedora\": \"BBVA Bancomer\", \"Tipo_de_Obligaci\\u00f3n\": \"Contrato de Apertura de Cr\\u00e9dito Simple\", \"Clase_del_titulo\": \"Pesos\", \"Monto_original_contratado_en_pesos\": 1600000000.0, \"Monto_dispuesto_en_pesos\": 1380000000.0, \"Saldo_en_pesos\": 743668050.0, \"Tasa\": \"TIIE + 1.60\", \"Fecha_de_Contrataci\\u00f3n\": \"11/12/2009\", \"Plazo_m\\u00e1ximo_(meses)\": \"180\", \"Fecha_de_Vencimiento\": \"17/12/2024\", \"Garant\\u00eda\": \"Participaciones Federales\", \"Destino\": \"Financiar Inversi\\u00f3n p\\u00fablica productiva\"}, {\"Ente_Acreditado\": \"Silao de la Victoria\", \"No_de_Cr\\u00e9dito\": null, \"No_de_inscripci\\u00f3n_SHCP\": \"092/2010\", \"Registro_Estatal\": \"195/10\", \"Ambito\": \"Municipal\", \"Instituci\\u00f3n_Acreedora\": \"Banco del Baj\\u00edo, S.A.\", \"Tipo_de_Obligaci\\u00f3n\": \"Contrato de Apertura de Cr\\u00e9dito Simple\", \"Clase_del_titulo\": \"Pesos\", \"Monto_original_contratado_en_pesos\": 30000000.0, \"Monto_dispuesto_en_pesos\": 30000000.0, \"Saldo_en_pesos\": 2083378.0, \"Tasa\": \"TIIE + 2.20\", \"Fecha_de_Contrataci\\u00f3n\": \"29/04/2010\", \"Plazo_m\\u00e1ximo_(meses)\": \"84\", \"Fecha_de_Vencimiento\": \"02/05/2017\", \"Garant\\u00eda\": \"Participaciones Federales\", \"Destino\": \"Pago de afectaciones\"}, {\"Ente_Acreditado\": \"San Miguel de Allende\", \"No_de_Cr\\u00e9dito\": null, \"No_de_inscripci\\u00f3n_SHCP\": \"322/2010\", \"Registro_Estatal\": \"199/10\", \"Ambito\": \"Municipal\", \"Instituci\\u00f3n_Acreedora\": \"Banco del Baj\\u00edo, S.A.\", \"Tipo_de_Obligaci\\u00f3n\": \"Contrato de Apertura de Cr\\u00e9dito Simple\", \"Clase_del_titulo\": \"Pesos\", \"Monto_original_contratado_en_pesos\": 45023318.0, \"Monto_dispuesto_en_pesos\": 45023318.0, \"Saldo_en_pesos\": 21463340.91, \"Tasa\": \"TIIE + 1.60\", \"Fecha_de_Contrataci\\u00f3n\": \"23/09/2010\", \"Plazo_m\\u00e1ximo_(meses)\": \"180\", \"Fecha_de_Vencimiento\": \"06/10/2025\", \"Garant\\u00eda\": \"En primer t\\u00e9rmino las participaciones presentes y futuras que en ingresos federales le corresponden al municipio y en segundo t\\u00e9rmino las participaciones presentes y futuras que en ingresos federales le corresponden al gobierno del estado de Guanajuato.\", \"Destino\": \"Reestructura de cuatro cr\\u00e9ditos: 1) BANOBRAS 7417-29 $ 15,116,383.05 ;  2)BANOBRAS 7422-86 $12,467,587.19 ;  3) BANCO DEL BAJIO $4,180,620.65  y 4) BBV BANCOMER  $4,602,244.67 .\"}, {\"Ente_Acreditado\": \"Junta Municipal de Agua Potable y Alcantarillado de Celaya, Gto.\", \"No_de_Cr\\u00e9dito\": null, \"No_de_inscripci\\u00f3n_SHCP\": \"439/2010\", \"Registro_Estatal\": \"201/10\", \"Ambito\": \"Paramunicipal\", \"Instituci\\u00f3n_Acreedora\": \"Banobras S.N.C\", \"Tipo_de_Obligaci\\u00f3n\": \"Contrato de Apertura de Cr\\u00e9dito Simple\", \"Clase_del_titulo\": \"Pesos\", \"Monto_original_contratado_en_pesos\": 25353586.19, \"Monto_dispuesto_en_pesos\": 0.0, \"Saldo_en_pesos\": 0.0, \"Tasa\": \"TIIE + 3.02\", \"Fecha_de_Contrataci\\u00f3n\": \"11/11/2010\", \"Plazo_m\\u00e1ximo_(meses)\": \"240\", \"Fecha_de_Vencimiento\": \"01/12/2030\", \"Garant\\u00eda\": \"Las participaciones que en ingresos federales le correspondan al Municipio de Celaya, Guanajuato, como deudor solidario y el Gobierno del Estado de Guanajuato como deudor subsidiario.\", \"Destino\": \"Cualquier falta de liquidez de las obligaciones de pago de la contraprestaci\\u00f3n, definida en el CPS y pago de la comisi\\u00f3n por disposici\\u00f3n e IVA.\"}, {\"Ente_Acreditado\": \"Gobierno del Estado de Guanajuato\", \"No_de_Cr\\u00e9dito\": null, \"No_de_inscripci\\u00f3n_SHCP\": \"501/2010\", \"Registro_Estatal\": \"202/10\", \"Ambito\": \"Estatal\", \"Instituci\\u00f3n_Acreedora\": \"Banamex\", \"Tipo_de_Obligaci\\u00f3n\": \"Contrato de Apertura de Cr\\u00e9dito Simple\", \"Clase_del_titulo\": \"Pesos\", \"Monto_original_contratado_en_pesos\": 1700000000.0, \"Monto_dispuesto_en_pesos\": 1363280290.12, \"Saldo_en_pesos\": 545312116.36, \"Tasa\": \"TIIE + 1.00\", \"Fecha_de_Contrataci\\u00f3n\": \"10/12/2010\", \"Plazo_m\\u00e1ximo_(meses)\": \"120\", \"Fecha_de_Vencimiento\": \"17/12/2020\", \"Garant\\u00eda\": \"Participaciones Federales\", \"Destino\": \"Inversi\\u00f3n p\\u00fablica productiva\"}, {\"Ente_Acreditado\": \"Gobierno del Estado de Guanajuato\", \"No_de_Cr\\u00e9dito\": null, \"No_de_inscripci\\u00f3n_SHCP\": \"511/2010\", \"Registro_Estatal\": \"203/10\", \"Ambito\": \"Estatal\", \"Instituci\\u00f3n_Acreedora\": \"HSBC \", \"Tipo_de_Obligaci\\u00f3n\": \"Contrato de Apertura de Cr\\u00e9dito Simple\", \"Clase_del_titulo\": \"Pesos\", \"Monto_original_contratado_en_pesos\": 500000000.0, \"Monto_dispuesto_en_pesos\": 200000000.0, \"Saldo_en_pesos\": 80000048.0, \"Tasa\": \"TIIE + 1.06\", \"Fecha_de_Contrataci\\u00f3n\": \"13/12/2010\", \"Plazo_m\\u00e1ximo_(meses)\": \"120\", \"Fecha_de_Vencimiento\": \"26/12/2020\", \"Garant\\u00eda\": \"Participaciones Federales\", \"Destino\": \"Se destinar\\u00e1n para financiar los proyectos de inversi\\u00f3n p\\u00fablica productiva, encuadrados en los siguientes rubros: l. Sustentabilidad al Desarrollo Social; II. Atenci\\u00f3n a la Seguridad P\\u00fablica y Protecci\\u00f3n Civil; III. Apoyo al Desarrollo Agropecuario; IV.Apoyo a la Sustentabilidad Econ\\u00f3mica; V. Atenci\\u00f3n a la Educaci\\u00f3n, Deporte y Cultura; VI.Apoyo al Desarrollo de Infraestructura Urbana y Carretera; VII. Apoyo al Desarrollo Tur\\u00edstico; VIII. Apoyo para la Atenci\\u00f3n de la Salud\"}, {\"Ente_Acreditado\": \"San Miguel de Allende\", \"No_de_Cr\\u00e9dito\": null, \"No_de_inscripci\\u00f3n_SHCP\": \"046/2011\", \"Registro_Estatal\": \"204/11\", \"Ambito\": \"Municipal\", \"Instituci\\u00f3n_Acreedora\": \"Banco del Baj\\u00edo, S.A.\", \"Tipo_de_Obligaci\\u00f3n\": \"Contrato de Apertura de Cr\\u00e9dito Simple\", \"Clase_del_titulo\": \"Pesos\", \"Monto_original_contratado_en_pesos\": 36470000.0, \"Monto_dispuesto_en_pesos\": 34866339.59, \"Saldo_en_pesos\": 14893170.58, \"Tasa\": \"TIIE + 1.60\", \"Fecha_de_Contrataci\\u00f3n\": \"08/02/2011\", \"Plazo_m\\u00e1ximo_(meses)\": \"120\", \"Fecha_de_Vencimiento\": \"05/03/2021\", \"Garant\\u00eda\": \"En primer t\\u00e9rino las participaciones presentes y futuras que en ingresos federales le corresponden al municipio y en segundo t\\u00e9rmino las participaciones presentes y futuras que en ingresos federales le corresponden al gobierno del estado de Guanajuato.\", \"Destino\": \"Puente sobre libramiento Jos\\u00e9 Manuel Zavala Zavala, en cabecera municipal; Convenio de coordinaci\\u00f3n de desarrollo tur\\u00edstico del Municipio; Construcci\\u00f3n del parque Bicentenario en reserva municipal de Landeta, Bordo San Carlos 1\\u00b0 etapa en cabecera municipal; adquisici\\u00f3n e instalaci\\u00f3n de equipo para el rastro municipal; construcci\\u00f3n del modulo COMUDAJ 2\\u00b0 etapa; adquisici\\u00f3n de veh\\u00edculos para servicios p\\u00fablicos.\"}, {\"Ente_Acreditado\": \"Comonfort\", \"No_de_Cr\\u00e9dito\": null, \"No_de_inscripci\\u00f3n_SHCP\": \"193/2011\", \"Registro_Estatal\": \"205/11\", \"Ambito\": \"Municipal\", \"Instituci\\u00f3n_Acreedora\": \"Banco del Baj\\u00edo, S.A.\", \"Tipo_de_Obligaci\\u00f3n\": \"Contrato de Apertura de Cr\\u00e9dito Simple\", \"Clase_del_titulo\": \"Pesos\", \"Monto_original_contratado_en_pesos\": 19860880.0, \"Monto_dispuesto_en_pesos\": 19860880.0, \"Saldo_en_pesos\": 8879630.0, \"Tasa\": \"TIIE + 1.70\", \"Fecha_de_Contrataci\\u00f3n\": \"09/05/2011\", \"Plazo_m\\u00e1ximo_(meses)\": \"180\", \"Fecha_de_Vencimiento\": \"27/02/2029\", \"Garant\\u00eda\": \"Participaciones Federales\", \"Destino\": \"1) Adquisici\\u00f3n de reserva territorial. 2) Reestructura\"}, {\"Ente_Acreditado\": \"Guanajuato\", \"No_de_Cr\\u00e9dito\": 32.0, \"No_de_inscripci\\u00f3n_SHCP\": \"201/2011\", \"Registro_Estatal\": \"206/11\", \"Ambito\": \"Municipal\", \"Instituci\\u00f3n_Acreedora\": \"Banco del Baj\\u00edo, S.A.\", \"Tipo_de_Obligaci\\u00f3n\": \"Contrato de Apertura de Cr\\u00e9dito Simple\", \"Clase_del_titulo\": \"Pesos\", \"Monto_original_contratado_en_pesos\": 32064915.76, \"Monto_dispuesto_en_pesos\": 32064915.76, \"Saldo_en_pesos\": 19539780.76, \"Tasa\": \"TIIE + 1.59\", \"Fecha_de_Contrataci\\u00f3n\": \"16/05/2011\", \"Plazo_m\\u00e1ximo_(meses)\": \"180\", \"Fecha_de_Vencimiento\": \"26/05/2026\", \"Garant\\u00eda\": \"Participaciones Federales\", \"Destino\": \"Reestructuraci\\u00f3n de una l\\u00ednea de cr\\u00e9dito que se tiene contratada con el Banco del Baj\\u00edo. I. Programa de Modernizaci\\u00f3n Catastral, II. Establecimiento de una red de fibra \\u00f3ptica, III. Continuaci\\u00f3n de la primera etapa del edificio de seguridad p\\u00fablica en la zona sur del municipio, IV. Programa de coinversi\\u00f3n de obras del Programa Mi Plaza.\"}, {\"Ente_Acreditado\": \"Apaseo el Grande\", \"No_de_Cr\\u00e9dito\": 9690.0, \"No_de_inscripci\\u00f3n_SHCP\": \"226/2011\", \"Registro_Estatal\": \"207/11\", \"Ambito\": \"Municipal\", \"Instituci\\u00f3n_Acreedora\": \"Banobras S.N.C\", \"Tipo_de_Obligaci\\u00f3n\": \"Contrato de Apertura de Cr\\u00e9dito Simple\", \"Clase_del_titulo\": \"Pesos\", \"Monto_original_contratado_en_pesos\": 19803423.0, \"Monto_dispuesto_en_pesos\": 12559400.3, \"Saldo_en_pesos\": 7644852.38, \"Tasa\": \"TIIE + 2.53\", \"Fecha_de_Contrataci\\u00f3n\": \"31/05/2011\", \"Plazo_m\\u00e1ximo_(meses)\": \"120\", \"Fecha_de_Vencimiento\": \"09/08/2021\", \"Garant\\u00eda\": \"Participaciones Federales\", \"Destino\": \"I. Construcci\\u00f3n 3\\u00b0 etapa del auditorio municipal; II Construcci\\u00f3n de descarga del drenaje pluvial hacia el dren a cielo abierto paralelo a la prolong. Octaviano Mu\\u00f1oz Ledo; III. Embellecimiento del centro hist\\u00f3rico; IV. Programa de modernizaci\\u00f3n catastral; proyecto ejecutivo PIV Km. 37+900 para la comunicaci\\u00f3n entre las comunidades de La Pur\\u00edsima y La Palma; V. Proyecto ejecutivo para el camino alterno al Cerrito por la Unideg; anteproyecto para el PSV, FF.CC del Km. 278+600 l\\u00ednea A en el acceso poniente de la cabecera municipal; proyecto ejecutivo 1\\u00b0 etapa del pol\\u00edgono h\\u00e1bitat; comisi\\u00f3n por apertura del cr\\u00e9dito mas el IVA correspondiente y los intereses que se generen durante el peri\\u00f3do de disposici\\u00f3n.\"}, {\"Ente_Acreditado\": \"Guanajuato\", \"No_de_Cr\\u00e9dito\": 9854.0, \"No_de_inscripci\\u00f3n_SHCP\": \"230/2011\", \"Registro_Estatal\": \"208/11\", \"Ambito\": \"Municipal\", \"Instituci\\u00f3n_Acreedora\": \"Banobras S.N.C\", \"Tipo_de_Obligaci\\u00f3n\": \"Contrato de Apertura de Cr\\u00e9dito Simple\", \"Clase_del_titulo\": \"Pesos\", \"Monto_original_contratado_en_pesos\": 13877698.0, \"Monto_dispuesto_en_pesos\": 11890523.15, \"Saldo_en_pesos\": 6275553.2, \"Tasa\": \"TIIE + 2.67\", \"Fecha_de_Contrataci\\u00f3n\": \"13/06/2011\", \"Plazo_m\\u00e1ximo_(meses)\": \"120\", \"Fecha_de_Vencimiento\": \"09/09/2021\", \"Garant\\u00eda\": \"Participaciones Federales\", \"Destino\": \"Programa de modernizaci\\u00f3n catastral, IVA e intereses que se generen durante el periodo de disposici\\u00f3n.\"}, {\"Ente_Acreditado\": \"Comit\\u00e9 Municipal de Agua Potable y Alcantarillado de Salamanca, Gto.\", \"No_de_Cr\\u00e9dito\": null, \"No_de_inscripci\\u00f3n_SHCP\": \"527/2011\", \"Registro_Estatal\": \"209/11\", \"Ambito\": \"Paramunicipal\", \"Instituci\\u00f3n_Acreedora\": \"Banco del Baj\\u00edo, S.A.\", \"Tipo_de_Obligaci\\u00f3n\": \"Contrato de Apertura de Cr\\u00e9dito Simple\", \"Clase_del_titulo\": \"Pesos\", \"Monto_original_contratado_en_pesos\": 43000000.0, \"Monto_dispuesto_en_pesos\": 37051609.32, \"Saldo_en_pesos\": 21695344.67, \"Tasa\": \"TIIE + 1.52\", \"Fecha_de_Contrataci\\u00f3n\": \"05/10/2011\", \"Plazo_m\\u00e1ximo_(meses)\": \"180\", \"Fecha_de_Vencimiento\": \"14/12/2026\", \"Garant\\u00eda\": \"Participaciones del municipio de Salamanca y en segundo t\\u00e9rmino participaciones del Estado de Guanajuato\", \"Destino\": \"Construcci\\u00f3n, operaci\\u00f3n y funcionamiento de la planta de tratamientos de aguas residuales y sus colectores.\"}, {\"Ente_Acreditado\": \"Gobierno del Estado de Guanajuato\", \"No_de_Cr\\u00e9dito\": null, \"No_de_inscripci\\u00f3n_SHCP\": \"645/2011\", \"Registro_Estatal\": \"211/11\", \"Ambito\": \"Estatal\", \"Instituci\\u00f3n_Acreedora\": \"Banamex\", \"Tipo_de_Obligaci\\u00f3n\": \"Contrato de Apertura de Cr\\u00e9dito Simple\", \"Clase_del_titulo\": \"Pesos\", \"Monto_original_contratado_en_pesos\": 336719709.88, \"Monto_dispuesto_en_pesos\": 336719709.88, \"Saldo_en_pesos\": 168359855.08, \"Tasa\": \"TIIE + 0.68\", \"Fecha_de_Contrataci\\u00f3n\": \"23/11/2011\", \"Plazo_m\\u00e1ximo_(meses)\": \"120\", \"Fecha_de_Vencimiento\": \"13/12/2021\", \"Garant\\u00eda\": \"Participaciones Federales\", \"Destino\": \"Llevar a cabo los siguientes proyectos: 1) Camino de acceso a Atarjea; 2) Libramiento Norte de Celaya; 3) Libramiento Norponiente de Guanajuato; 4) Paso desnivel Castro del R\\u00edo de Irapuato; 5) Modernizaci\\u00f3n y rehabilitaci\\u00f3n del Libramiento Morelos de Le\\u00f3n; 6) Sistema Integral de Transporte de Le\\u00f3n, segunda etapa; 7) Eje Bicentenario de Le\\u0097\\u00f3n; 8) Carretera E.C. {Ocampo-Villa de Arriaga) - E.C. (Ocampo-Ojuelos) ; 9) Carretera Laguna de Guadalupe, Boulevard Las Torres de Salamanca, primera etapa; 10) Carretera San Diego de la Uni\\u0097\\u00f3n-San Felipe; 11) Autopista Salamanca Le\\u0097\\u00f3n; 12) Carretera Romita-Puerto Interior; 13) Autopista Guanajuato-San Miguel de Allende; 14) Modernizaci\\u0097n de la Carretera San Diego de la Uni\\u0097\\u00f3n-Carretera Federal 57; 15) Boulevard Metropolitano en Uriangato-Morole\\u0097n-Yuriria; 16) Infraestructura de apoyo a la seguridad p\\u009c\\u00fablica; 17) Programa de atenci\\u0097\\u00f3n de cruces ferroviarios; 18) Programa integral de atenci\\u0097\\u00f3n carretera; 19) Parque industrial Laja Baj\\u0092o; 20) Terminal multimodal de Celaya; 21) Parque industrial de proveedur\\u00ed\\u0092a automotriz; 22) Parque tecnoindustrial en Le\\u0097\\u00f3n; 23) Ampliaci\\u0097n del Puerto Interior Guanajuato; 24) Sistema de parques tecnol\\u0097gicos del Estado de Guanajuato; 25) Infraestructura industrial en Irapuato; 26) Desarrollo tur\\u00ed\\u0092stico de pueblos mineros; 27) Programa para fortalecer el desarrollo tur\\u0092\\u00edstico de Mineral de Pozos; 28) Paradores en el Estado de Guanajuato; 29) Se\\u0096\\u00f1al\\u00e9\\u008etica en el Estado de Guanajuato; 30) Desarrollo tur\\u0092\\u00edstico de la Laguna de Yuriria; 31) ExpoBicentenario 2010; 32) Programa de desarrollo tur\\u0092\\u00edstico Expreso del Baj\\u00ed\\u0092o; 33) Proyecto sobre la calidad de la educaci\\u0097\\u00f3n; 34) F\\u0097\\u00f3rum Cultural Guanajuato; 35) Infraestructura de apoyo social; 36) Infraestructura deportiva municipal; 37) Proyecto campo competitivo; 38) Tecnificaci\\u0097\\u00f3n de riego; 39) Parque agroindustrial de Irapuato; 40) Programa de atracci\\u0097\\u00f3n de inversiones y fortalecimiento comercial; 41) Programa de apoyo al empleo.\"}, {\"Ente_Acreditado\": \"Gobierno del Estado de Guanajuato\", \"No_de_Cr\\u00e9dito\": null, \"No_de_inscripci\\u00f3n_SHCP\": \"713/2011\", \"Registro_Estatal\": \"212/11\", \"Ambito\": \"Estatal\", \"Instituci\\u00f3n_Acreedora\": \"BBVA Bancomer\", \"Tipo_de_Obligaci\\u00f3n\": \"Contrato de Apertura de Cr\\u00e9dito Simple\", \"Clase_del_titulo\": \"Pesos\", \"Monto_original_contratado_en_pesos\": 500000000.0, \"Monto_dispuesto_en_pesos\": 487161920.75, \"Saldo_en_pesos\": 247640643.22, \"Tasa\": \"TIIE + 0.70\", \"Fecha_de_Contrataci\\u00f3n\": \"14/12/2011\", \"Plazo_m\\u00e1ximo_(meses)\": \"120\", \"Fecha_de_Vencimiento\": \"27/12/2021\", \"Garant\\u00eda\": \"Participaciones Federales\", \"Destino\": \"Llevar a cabo los siguientes proyectos: 1) Camino de acceso a Atarjea; 2) Libramiento Norte de Celaya; 3) Libramiento Norponiente de Guanajuato; 4) Paso desnivel Castro del R\\u00edo de Irapuato; 5) Modernizaci\\u00f3n y rehabilitaci\\u00f3n del Libramiento Morelos de Le\\u00f3n; 6) Sistema Integral de Transporte de Le\\u00f3n, segunda etapa; 7) Eje Bicentenario de Le\\u0097\\u00f3n; 8) Carretera E.C. {Ocampo-Villa de Arriaga) - E.C. (Ocampo-Ojuelos) ; 9) Carretera Laguna de Guadalupe, Boulevard Las Torres de Salamanca, primera etapa; 10) Carretera San Diego de la Uni\\u0097\\u00f3n-San Felipe; 11) Autopista Salamanca Le\\u0097\\u00f3n; 12) Carretera Romita-Puerto Interior; 13) Autopista Guanajuato-San Miguel de Allende; 14) Modernizaci\\u0097n de la Carretera San Diego de la Uni\\u0097\\u00f3n-Carretera Federal 57; 15) Boulevard Metropolitano en Uriangato-Morole\\u0097n-Yuriria; 16) Infraestructura de apoyo a la seguridad p\\u009c\\u00fablica; 17) Programa de atenci\\u0097\\u00f3n de cruces ferroviarios; 18) Programa integral de atenci\\u0097\\u00f3n carretera; 19) Parque industrial Laja Baj\\u0092o; 20) Terminal multimodal de Celaya; 21) Parque industrial de proveedur\\u00ed\\u0092a automotriz; 22) Parque tecnoindustrial en Le\\u0097\\u00f3n; 23) Ampliaci\\u0097n del Puerto Interior Guanajuato; 24) Sistema de parques tecnol\\u0097gicos del Estado de Guanajuato; 25) Infraestructura industrial en Irapuato; 26) Desarrollo tur\\u00ed\\u0092stico de pueblos mineros; 27) Programa para fortalecer el desarrollo tur\\u0092\\u00edstico de Mineral de Pozos; 28) Paradores en el Estado de Guanajuato; 29) Se\\u0096\\u00f1al\\u00e9\\u008etica en el Estado de Guanajuato; 30) Desarrollo tur\\u0092\\u00edstico de la Laguna de Yuriria; 31) ExpoBicentenario 2010; 32) Programa de desarrollo tur\\u0092\\u00edstico Expreso del Baj\\u00ed\\u0092o; 33) Proyecto sobre la calidad de la educaci\\u0097\\u00f3n; 34) F\\u0097\\u00f3rum Cultural Guanajuato; 35) Infraestructura de apoyo social; 36) Infraestructura deportiva municipal; 37) Proyecto campo competitivo; 38) Tecnificaci\\u0097\\u00f3n de riego; 39) Parque agroindustrial de Irapuato; 40) Programa de atracci\\u0097\\u00f3n de inversiones y fortalecimiento comercial; 41) Programa de apoyo al empleo.\"}, {\"Ente_Acreditado\": \"P\\u00e9njamo\", \"No_de_Cr\\u00e9dito\": null, \"No_de_inscripci\\u00f3n_SHCP\": \"P11-0312038\", \"Registro_Estatal\": \"215/12\", \"Ambito\": \"Municipal\", \"Instituci\\u00f3n_Acreedora\": \"Banco del Baj\\u00edo, S.A.\", \"Tipo_de_Obligaci\\u00f3n\": \"Contrato de Apertura de Cr\\u00e9dito Simple\", \"Clase_del_titulo\": \"Pesos\", \"Monto_original_contratado_en_pesos\": 35000000.0, \"Monto_dispuesto_en_pesos\": 35000000.0, \"Saldo_en_pesos\": 7777784.0, \"Tasa\": \"TIIE + 1.90\", \"Fecha_de_Contrataci\\u00f3n\": \"13/02/2012\", \"Plazo_m\\u00e1ximo_(meses)\": \"72\", \"Fecha_de_Vencimiento\": \"02/04/2018\", \"Garant\\u00eda\": \"Participaciones Federales\", \"Destino\": \"1) Adquisici\\u00f3n de reserva territorial; 2) Construcci\\u00f3n del Parque Lineal Boulevard P\\u00e9njamo- Estaci\\u00f3n P\\u00e9njamo; y 3) Asfaltado del camino Veredas- Cruces de Rojas.\"}, {\"Ente_Acreditado\": \"Uriangato\", \"No_de_Cr\\u00e9dito\": 10490.0, \"No_de_inscripci\\u00f3n_SHCP\": \"P11-0312040\", \"Registro_Estatal\": \"217/12\", \"Ambito\": \"Municipal\", \"Instituci\\u00f3n_Acreedora\": \"Banobras S.N.C\", \"Tipo_de_Obligaci\\u00f3n\": \"Contrato de Apertura de Cr\\u00e9dito Simple\", \"Clase_del_titulo\": \"Pesos\", \"Monto_original_contratado_en_pesos\": 14947836.0, \"Monto_dispuesto_en_pesos\": 14947836.0, \"Saldo_en_pesos\": 1140941.51, \"Tasa\": \"TIIE + 2.18\", \"Fecha_de_Contrataci\\u00f3n\": \"06/03/2012\", \"Plazo_m\\u00e1ximo_(meses)\": \"60\", \"Fecha_de_Vencimiento\": \"06/02/2017\", \"Garant\\u00eda\": \"Participaciones Federales\", \"Destino\": \"Proyecto ejecutivo del programa de modernizaci\\u00f3n catastral; Porgrama H\\u00e1bitat; proyecto ejectuvio de la Av. Paseo de Los H\\u00e9roes; remodelaci\\u00f3n de la Presidencia Municipal.\"}, {\"Ente_Acreditado\": \"Valle de Santiago\", \"No_de_Cr\\u00e9dito\": null, \"No_de_inscripci\\u00f3n_SHCP\": \"P11-0612090\", \"Registro_Estatal\": \"219/12\", \"Ambito\": \"Municipal\", \"Instituci\\u00f3n_Acreedora\": \"Banco del Baj\\u00edo, S.A.\", \"Tipo_de_Obligaci\\u00f3n\": \"Contrato de Apertura de Cr\\u00e9dito Simple\", \"Clase_del_titulo\": \"Pesos\", \"Monto_original_contratado_en_pesos\": 6929675.89, \"Monto_dispuesto_en_pesos\": 6929675.89, \"Saldo_en_pesos\": 808462.09, \"Tasa\": \"TIIE + 1.87\", \"Fecha_de_Contrataci\\u00f3n\": \"14/05/2012\", \"Plazo_m\\u00e1ximo_(meses)\": \"60\", \"Fecha_de_Vencimiento\": \"26/09/2017\", \"Garant\\u00eda\": \"Participaciones Federales\", \"Destino\": \"Restauraci\\u00f3n del Templo de San Francisco y remodelaci\\u00f3n del Jard\\u00edn Principal\"}, {\"Ente_Acreditado\": \"Gobierno del Estado de Guanajuato\", \"No_de_Cr\\u00e9dito\": null, \"No_de_inscripci\\u00f3n_SHCP\": \"P11-0612087\", \"Registro_Estatal\": \"226/12\", \"Ambito\": \"Estatal\", \"Instituci\\u00f3n_Acreedora\": \"Banamex\", \"Tipo_de_Obligaci\\u00f3n\": \"Contrato de Apertura de Cr\\u00e9dito Simple\", \"Clase_del_titulo\": \"Pesos\", \"Monto_original_contratado_en_pesos\": 628989198.96, \"Monto_dispuesto_en_pesos\": 310689997.93, \"Saldo_en_pesos\": 170879499.18, \"Tasa\": \"TIIE + 0.66\", \"Fecha_de_Contrataci\\u00f3n\": \"08/06/2012\", \"Plazo_m\\u00e1ximo_(meses)\": \"120\", \"Fecha_de_Vencimiento\": \"27/06/2022\", \"Garant\\u00eda\": \"Participaciones Federales\", \"Destino\": \"Inversi\\u00f3n p\\u00fablica productiva\"}, {\"Ente_Acreditado\": \"Gobierno del Estado de Guanajuato\", \"No_de_Cr\\u00e9dito\": null, \"No_de_inscripci\\u00f3n_SHCP\": \"P11-0813101\", \"Registro_Estatal\": \"236/13\", \"Ambito\": \"Estatal\", \"Instituci\\u00f3n_Acreedora\": \"Banamex\", \"Tipo_de_Obligaci\\u00f3n\": \"Contrato de Apertura de Cr\\u00e9dito Simple\", \"Clase_del_titulo\": \"Pesos\", \"Monto_original_contratado_en_pesos\": 644000000.0, \"Monto_dispuesto_en_pesos\": 644000000.0, \"Saldo_en_pesos\": 225400000.13, \"Tasa\": \"TIIE + 0.43\", \"Fecha_de_Contrataci\\u00f3n\": \"13/08/2013\", \"Plazo_m\\u00e1ximo_(meses)\": \"60\", \"Fecha_de_Vencimiento\": \"26/09/2018\", \"Garant\\u00eda\": \"Participaciones Federales\", \"Destino\": \"Inversi\\u00f3n p\\u00fablica productiva\"}, {\"Ente_Acreditado\": \"Gobierno del Estado de Guanajuato\", \"No_de_Cr\\u00e9dito\": null, \"No_de_inscripci\\u00f3n_SHCP\": \"P11-0813102\", \"Registro_Estatal\": \"237/13\", \"Ambito\": \"Estatal\", \"Instituci\\u00f3n_Acreedora\": \"HSBC \", \"Tipo_de_Obligaci\\u00f3n\": \"Contrato de Apertura de Cr\\u00e9dito Simple\", \"Clase_del_titulo\": \"Pesos\", \"Monto_original_contratado_en_pesos\": 235950160.0, \"Monto_dispuesto_en_pesos\": 185950160.0, \"Saldo_en_pesos\": 64786494.81, \"Tasa\": \"TIIE + 0.84\", \"Fecha_de_Contrataci\\u00f3n\": \"13/08/2013\", \"Plazo_m\\u00e1ximo_(meses)\": \"60\", \"Fecha_de_Vencimiento\": \"26/10/2018\", \"Garant\\u00eda\": \"Participaciones Federales\", \"Destino\": \"Inversi\\u00f3n p\\u00fablica productiva\"}, {\"Ente_Acreditado\": \"Gobierno del Estado de Guanajuato\", \"No_de_Cr\\u00e9dito\": null, \"No_de_inscripci\\u00f3n_SHCP\": \"P11-0813104\", \"Registro_Estatal\": \"239/13\", \"Ambito\": \"Estatal\", \"Instituci\\u00f3n_Acreedora\": \"Scotiabank\", \"Tipo_de_Obligaci\\u00f3n\": \"Contrato de Apertura de Cr\\u00e9dito Simple\", \"Clase_del_titulo\": \"Pesos\", \"Monto_original_contratado_en_pesos\": 500000000.0, \"Monto_dispuesto_en_pesos\": 500000000.0, \"Saldo_en_pesos\": 175000000.13, \"Tasa\": \"TIIE + 0.5\", \"Fecha_de_Contrataci\\u00f3n\": \"23/08/2013\", \"Plazo_m\\u00e1ximo_(meses)\": \"60\", \"Fecha_de_Vencimiento\": \"02/10/2018\", \"Garant\\u00eda\": \"Participaciones Federales\", \"Destino\": \"Inversi\\u00f3n p\\u00fablica productiva\"}, {\"Ente_Acreditado\": \"San Francisco del Rinc\\u00f3n\", \"No_de_Cr\\u00e9dito\": null, \"No_de_inscripci\\u00f3n_SHCP\": \"P11-0312041\", \"Registro_Estatal\": \"240/13\", \"Ambito\": \"Municipal\", \"Instituci\\u00f3n_Acreedora\": \"Banco del Baj\\u00edo, S.A.\", \"Tipo_de_Obligaci\\u00f3n\": \"Contrato de Apertura de Cr\\u00e9dito Simple\", \"Clase_del_titulo\": \"Pesos\", \"Monto_original_contratado_en_pesos\": 25666672.0, \"Monto_dispuesto_en_pesos\": 25666672.0, \"Saldo_en_pesos\": 19962952.0, \"Tasa\": \"TIIE + 1.60\", \"Fecha_de_Contrataci\\u00f3n\": \"20/08/2013\", \"Plazo_m\\u00e1ximo_(meses)\": \"180\", \"Fecha_de_Vencimiento\": \"11/08/2028\", \"Garant\\u00eda\": \"Participaciones Federales\", \"Destino\": \"Reestructura del cr\\u00e9dito con registro 216/12\"}, {\"Ente_Acreditado\": \"San Francisco del Rinc\\u00f3n\", \"No_de_Cr\\u00e9dito\": null, \"No_de_inscripci\\u00f3n_SHCP\": \"P11-1013117\", \"Registro_Estatal\": \"241/13\", \"Ambito\": \"Municipal\", \"Instituci\\u00f3n_Acreedora\": \"Banco del Baj\\u00edo, S.A.\", \"Tipo_de_Obligaci\\u00f3n\": \"Contrato de Apertura de Cr\\u00e9dito Simple\", \"Clase_del_titulo\": \"Pesos\", \"Monto_original_contratado_en_pesos\": 22000000.0, \"Monto_dispuesto_en_pesos\": 22000000.0, \"Saldo_en_pesos\": 17653960.0, \"Tasa\": \"TIIE +1.60\", \"Fecha_de_Contrataci\\u00f3n\": \"20/08/2013\", \"Plazo_m\\u00e1ximo_(meses)\": \"180\", \"Fecha_de_Vencimiento\": \"11/08/2028\", \"Garant\\u00eda\": \"Participaciones Federales\", \"Destino\": \"Compra de reserva territorial para la instalci\\u00f3n del CECYTEG\"}, {\"Ente_Acreditado\": \"Salamanca\", \"No_de_Cr\\u00e9dito\": null, \"No_de_inscripci\\u00f3n_SHCP\": \"P11-0913113\", \"Registro_Estatal\": \"242/13\", \"Ambito\": \"Municipal\", \"Instituci\\u00f3n_Acreedora\": \"Banco del Baj\\u00edo, S.A.\", \"Tipo_de_Obligaci\\u00f3n\": \"Contrato de Apertura de Cr\\u00e9dito Simple\", \"Clase_del_titulo\": \"Pesos\", \"Monto_original_contratado_en_pesos\": 70000000.0, \"Monto_dispuesto_en_pesos\": 60000000.0, \"Saldo_en_pesos\": 48546082.0, \"Tasa\": \"TIIE + 1.60\", \"Fecha_de_Contrataci\\u00f3n\": \"22/08/2013\", \"Plazo_m\\u00e1ximo_(meses)\": \"180\", \"Fecha_de_Vencimiento\": \"20/12/2028\", \"Garant\\u00eda\": \"Participaciones Federales\", \"Destino\": \"Adquisici\\u00f3n de un bien inmueble para prestaci\\u00f3n del servicio p\\u00fablico de panteones; adquisici\\u00f3n de un bien inmueble para el Centro de Comunicaciones, C\\u00f3mputo, Control y Comando, denomidado \\\"C4\\\", y acciones necesarias tendientes a la construcci\\u00f3n, rehabilitaci\\u00f3n, ampliaci\\u00f3n o equipamiento del mismo; pago de las afectaciones con motivo de la construcci\\u00f3n del proyecto \\\"Ampliaci\\u00f3n a cuatro carriles Paseo R\\u00edo Lerma, tramo calle R\\u00edo Lerma a calle Andr\\u00e9s Delgado\\\".\"}, {\"Ente_Acreditado\": \"Cuer\\u00e1maro\", \"No_de_Cr\\u00e9dito\": 6065100.0, \"No_de_inscripci\\u00f3n_SHCP\": \"P11-1013118\", \"Registro_Estatal\": \"243/13\", \"Ambito\": \"Municipal\", \"Instituci\\u00f3n_Acreedora\": \"Banco del Baj\\u00edo, S.A.\", \"Tipo_de_Obligaci\\u00f3n\": \"Contrato de apertura de cr\\u00e9dito simple\", \"Clase_del_titulo\": \"Pesos\", \"Monto_original_contratado_en_pesos\": 8200000.0, \"Monto_dispuesto_en_pesos\": 8200000.0, \"Saldo_en_pesos\": 6514465.0, \"Tasa\": \"TIIE + 3.0\", \"Fecha_de_Contrataci\\u00f3n\": \"19/09/2013\", \"Plazo_m\\u00e1ximo_(meses)\": \"180\", \"Fecha_de_Vencimiento\": \"06/11/2028\", \"Garant\\u00eda\": \"Participaciones Federales\", \"Destino\": \"Conjunto deportivo en la localidad de San Gregorio; cancha de usos m\\u00faltiples en el Fraccionamiento Camino Real; remodelaci\\u00f3n del toril San Miguel en la comunidad de Tupataro; aplicaci\\u00f3n de carpeta y emulsi\\u00f3n asf\\u00e1ltica en diversos caminos y calles de Cuer\\u00e1maro, Gto.; urbanizaci\\u00f3n de la calle acceso a la escuela primaria en la comunidad de Tupataro; 5ta etapa de la pavimentaci\\u00f3n de la calle principal en la comunidad San Gregorio;  pavimentaci\\u00f3n de la calle principal en la comunidad de Sarteneja;  2da etapa de la pavimentaci\\u00f3n de la calle principal en Galera de la Grulla;  pavimentaci\\u00f3n de la calle Venustiano Carranza para el acceso al nuevo hospital y la urbanizaci\\u00f3n de la calle Galena,  para el acceso al nuevo hospital.  \"}, {\"Ente_Acreditado\": \"Sistema de Agua Potable y Alcantarillado de Le\\u00f3n, Gto.\", \"No_de_Cr\\u00e9dito\": null, \"No_de_inscripci\\u00f3n_SHCP\": \"P11-0914133\", \"Registro_Estatal\": \"244/13\", \"Ambito\": \"Paramunicipal\", \"Instituci\\u00f3n_Acreedora\": \"Banco del Baj\\u00edo, S.A.\", \"Tipo_de_Obligaci\\u00f3n\": \"Contrato de Apertura de Cr\\u00e9dito en Cuenta Corriente Irrevocable, Contingente y Revolvente\", \"Clase_del_titulo\": \"Pesos\", \"Monto_original_contratado_en_pesos\": 110117708.87, \"Monto_dispuesto_en_pesos\": 0.0, \"Saldo_en_pesos\": 0.0, \"Tasa\": \"TIIE + 1.90\", \"Fecha_de_Contrataci\\u00f3n\": \"27/09/2013\", \"Plazo_m\\u00e1ximo_(meses)\": \"300\", \"Fecha_de_Vencimiento\": null, \"Garant\\u00eda\": \"Participaciones del Muncipio de Le\\u00f3n.\", \"Destino\": \"Cubrir faltantes de liquidez para el pago equivalente  a tres veces el importe mensual de la contraprestaci\\u00f3n CPS m\\u00e1s el IVA con el objeto de establecer una fuente de pago contingente cuando SAPAL no realice el pago respectivo con recursos propios.\"}, {\"Ente_Acreditado\": \"Santa Cruz de Juventino Rosas\", \"No_de_Cr\\u00e9dito\": null, \"No_de_inscripci\\u00f3n_SHCP\": \"P11-1213170\", \"Registro_Estatal\": \"245/13\", \"Ambito\": \"Municipal\", \"Instituci\\u00f3n_Acreedora\": \"Banco del Baj\\u00edo, S.A.\", \"Tipo_de_Obligaci\\u00f3n\": \"Contrato de Apertura de Cr\\u00e9dito Simple\", \"Clase_del_titulo\": \"Pesos\", \"Monto_original_contratado_en_pesos\": 35000000.0, \"Monto_dispuesto_en_pesos\": 35000000.0, \"Saldo_en_pesos\": 28330238.0, \"Tasa\": \"TIIE + 1.60\", \"Fecha_de_Contrataci\\u00f3n\": \"10/12/2013\", \"Plazo_m\\u00e1ximo_(meses)\": \"180\", \"Fecha_de_Vencimiento\": \"07/01/2029\", \"Garant\\u00eda\": \"Participaciones Federales\", \"Destino\": \"Adquisici\\u00f3n de un terreno para la construcci\\u00f3n de un plantel del Colegio de Estudios Cient\\u00edficos y Tecnol\\u00f3gicos del Estado de Guanajuato; inversi\\u00f3n necesaria para dotar de serviciso p\\u00fablicos al plantel del Colegio de Estudios Cient\\u00edficos y Tecnol\\u00f3gicos del Estado de Guanajuato; adquisici\\u00f3n de un terreno para la ampliaci\\u00f3n del cementerio municipal; inversi\\u00f3n necesaria para la operaci\\u00f3n de la ampliaci\\u00f3n del cementerio municipal; adquisici\\u00f3n de un terreno para la construcci\\u00f3n de un relleno sanitario para la disposici\\u00f3n de residuos; construcci\\u00f3n de las dos primeras celdas del relleno sanitario, categor\\u00eda \\\"B\\\" de conformidad con la Norma Oficial Mexicana; adquisici\\u00f3n de un terreno para la construcci\\u00f3n de instalaciones deportivas y recreativas; adquisici\\u00f3n de un terreno para la instalaci\\u00f3n de empresas y naves impulsoras de empleo; adquisici\\u00f3n de un terreno para la construcci\\u00f3n de vivienda popular.\"}, {\"Ente_Acreditado\": \"Comisi\\u00f3n Estatal del Agua de Guanajuato\\nSistema de Agua Potable y Alcantarillado de Le\\u00f3n, Gto.\", \"No_de_Cr\\u00e9dito\": null, \"No_de_inscripci\\u00f3n_SHCP\": \"P11-0914138\", \"Registro_Estatal\": \"247/14\", \"Ambito\": \"Paraestatal\\nParamunicipal\", \"Instituci\\u00f3n_Acreedora\": \"Concesionaria del Acueducto El Zapotillo S.A. de C.V.\", \"Tipo_de_Obligaci\\u00f3n\": \"P\\u00fablico-privada\", \"Clase_del_titulo\": \"Pesos\", \"Monto_original_contratado_en_pesos\": 3310000000.0, \"Monto_dispuesto_en_pesos\": 0.0, \"Saldo_en_pesos\": 0.0, \"Tasa\": null, \"Fecha_de_Contrataci\\u00f3n\": \"11/10/2011\", \"Plazo_m\\u00e1ximo_(meses)\": \"300\", \"Fecha_de_Vencimiento\": null, \"Garant\\u00eda\": \"Participaciones Federales \", \"Destino\": \"Inversi\\u00f3n p\\u00fablica productiva.\"}, {\"Ente_Acreditado\": \"Le\\u00f3n\", \"No_de_Cr\\u00e9dito\": 11513.0, \"No_de_inscripci\\u00f3n_SHCP\": \"P11-0414046\", \"Registro_Estatal\": \"248/14\", \"Ambito\": \"Municipal\", \"Instituci\\u00f3n_Acreedora\": \"Banobras S.N.C\", \"Tipo_de_Obligaci\\u00f3n\": \"Contrato de Apertura de Cr\\u00e9dito Simple\", \"Clase_del_titulo\": \"Pesos\", \"Monto_original_contratado_en_pesos\": 540000000.0, \"Monto_dispuesto_en_pesos\": 536000000.0, \"Saldo_en_pesos\": 525000000.0, \"Tasa\": \"TIIE + 0.94\", \"Fecha_de_Contrataci\\u00f3n\": \"18/03/2014\", \"Plazo_m\\u00e1ximo_(meses)\": \"240\", \"Fecha_de_Vencimiento\": \"19/06/2034\", \"Garant\\u00eda\": \"Participaciones Federales\", \"Destino\": \"1) Obras de pavimentaci\\u00f3n;\\n2) Sistema integrado de transporte (SIT), fases numero 3 y 4.\"}, {\"Ente_Acreditado\": \"Le\\u00f3n\", \"No_de_Cr\\u00e9dito\": null, \"No_de_inscripci\\u00f3n_SHCP\": \"P11-0514063\", \"Registro_Estatal\": \"249/14\", \"Ambito\": \"Municipal\", \"Instituci\\u00f3n_Acreedora\": \"Banamex\", \"Tipo_de_Obligaci\\u00f3n\": \"Contrato de Apertura de Cr\\u00e9dito Simple\", \"Clase_del_titulo\": \"Pesos\", \"Monto_original_contratado_en_pesos\": 632000000.0, \"Monto_dispuesto_en_pesos\": 609801665.27, \"Saldo_en_pesos\": 571706280.33, \"Tasa\": \"TIIE + 0.70\", \"Fecha_de_Contrataci\\u00f3n\": \"06/05/2014\", \"Plazo_m\\u00e1ximo_(meses)\": \"180\", \"Fecha_de_Vencimiento\": \"04/06/2029\", \"Garant\\u00eda\": \"Participaciones Federales\", \"Destino\": \"Refinanciamiento de los cr\\u00e9ditos, que se tienen contratados con el Banco del Baj\\u00edo, Sociedad An\\u00f3nima, Instituci\\u00f3n de Banca M\\u00faltiple con el Banco Mercantil del Norte (BANORTE) y con el Banco Nacional de Obras y Servicios P\\u00fablicos, S.N.C.\"}, {\"Ente_Acreditado\": \"Le\\u00f3n\", \"No_de_Cr\\u00e9dito\": null, \"No_de_inscripci\\u00f3n_SHCP\": \"P11-0714096\", \"Registro_Estatal\": \"250/14\", \"Ambito\": \"Municipal\", \"Instituci\\u00f3n_Acreedora\": \"Banorte\", \"Tipo_de_Obligaci\\u00f3n\": \"Contrato de Apertura de Cr\\u00e9dito Simple\", \"Clase_del_titulo\": \"Pesos\", \"Monto_original_contratado_en_pesos\": 271000000.0, \"Monto_dispuesto_en_pesos\": 255769230.0, \"Saldo_en_pesos\": 243193210.0, \"Tasa\": \"TIIE + 0.68\", \"Fecha_de_Contrataci\\u00f3n\": \"10/06/2014\", \"Plazo_m\\u00e1ximo_(meses)\": \"240\", \"Fecha_de_Vencimiento\": \"09/06/2034\", \"Garant\\u00eda\": \"Participaciones Federales\", \"Destino\": \"Refinanciamiento de los cr\\u00e9ditos, que se tienen contratados con el Banco del Baj\\u00edo, Sociedad An\\u00f3nima, Instituci\\u00f3n de Banca M\\u00faltiple con el Banco Mercantil del Norte (BANORTE) y con el Banco Nacional de Obras y Servicios P\\u00fablicos, S.N.C.\"}, {\"Ente_Acreditado\": \"Irapuato\", \"No_de_Cr\\u00e9dito\": null, \"No_de_inscripci\\u00f3n_SHCP\": \"P11-1014149\", \"Registro_Estatal\": \"252/14\", \"Ambito\": \"Municipal\", \"Instituci\\u00f3n_Acreedora\": \"BBVA Bancomer\", \"Tipo_de_Obligaci\\u00f3n\": \"Contrato de Apertura de Cr\\u00e9dito Simple\", \"Clase_del_titulo\": \"Pesos\", \"Monto_original_contratado_en_pesos\": 261485238.93, \"Monto_dispuesto_en_pesos\": 257611452.83, \"Saldo_en_pesos\": 221832077.83, \"Tasa\": \"TIIE + 0.70\", \"Fecha_de_Contrataci\\u00f3n\": \"30/09/2014\", \"Plazo_m\\u00e1ximo_(meses)\": \"180\", \"Fecha_de_Vencimiento\": \"21/11/2029\", \"Garant\\u00eda\": \"Participaciones Federales\", \"Destino\": \"Refinanciamiento del cr\\u00e9dito que se tiene contratado con el Banco del Baj\\u00edo S. A., Instituci\\u00f3n de Banca M\\u00faltiple,  derivado del  Proceso Jur\\u00eddico-Administrativo tendiente a la ejecuci\\u00f3n de la obra de Infraestructura vial, que incluye el cuarto cintur\\u00f3n vial y sus radiales, as\\u00ed como los servicios relacionados con los mismos, a ejecutarse en el Municipio.\"}, {\"Ente_Acreditado\": \"Irapuato\", \"No_de_Cr\\u00e9dito\": null, \"No_de_inscripci\\u00f3n_SHCP\": \"P11-1014150\", \"Registro_Estatal\": \"253/14\", \"Ambito\": \"Municipal\", \"Instituci\\u00f3n_Acreedora\": \"BBVA Bancomer\", \"Tipo_de_Obligaci\\u00f3n\": \"Contrato de Apertura de Cr\\u00e9dito Simple\", \"Clase_del_titulo\": \"Pesos\", \"Monto_original_contratado_en_pesos\": 200000000.0, \"Monto_dispuesto_en_pesos\": 200000000.0, \"Saldo_en_pesos\": 175888840.0, \"Tasa\": \"TIIE + 0.70\", \"Fecha_de_Contrataci\\u00f3n\": \"30/09/2014\", \"Plazo_m\\u00e1ximo_(meses)\": \"180\", \"Fecha_de_Vencimiento\": \"30/11/2029\", \"Garant\\u00eda\": \"Participaciones Federales\", \"Destino\": \"Adquisici\\u00f3n de maquinaria, terreno para pante\\u00f3n municipal, terreno para construcci\\u00f3n de un m\\u00f3dulo de COMUDAJ y pago de la adquisici\\u00f3n de reserva territorial.\"}, {\"Ente_Acreditado\": \"Gobierno del Estado de Guanajuato\", \"No_de_Cr\\u00e9dito\": null, \"No_de_inscripci\\u00f3n_SHCP\": \"P11-0516024\", \"Registro_Estatal\": \"283/16\", \"Ambito\": \"Estatal\", \"Instituci\\u00f3n_Acreedora\": \"Banamex\", \"Tipo_de_Obligaci\\u00f3n\": \"Contrato de Apertura de Cr\\u00e9dito Simple\", \"Clase_del_titulo\": \"Pesos\", \"Monto_original_contratado_en_pesos\": 2152000000.0, \"Monto_dispuesto_en_pesos\": 0.0, \"Saldo_en_pesos\": 2126972358.4, \"Tasa\": \"TIIE + 0.45\", \"Fecha_de_Contrataci\\u00f3n\": \"08/04/2016\", \"Plazo_m\\u00e1ximo_(meses)\": \"180\", \"Fecha_de_Vencimiento\": \"23/03/2031\", \"Garant\\u00eda\": \"Participaciones Federales\", \"Destino\": \"Se destinar\\u00e1n para financiar proyectos de inversi\\u00f3n p\\u00fablico productivo en los siguientes rubros y conforme o los importes que se refieren a continuaci\\u00f3n:\\nI. Fortalecimiento de lo infraestructura en salud- $860'000,000.00\\nII. Sistema de movilidad interurbano y metropolitano, sequndo etapa-$130'000,000.00\\nIII. Fortalecimiento d el sistema de seguridad publica-$100'000,000.00\\nIV. Eje metropolitano Le\\u00f3n-Silao-$200'000,000.00\\nV. Caminos rurales-$250'000,000.00\\nVI. Creaci\\u00f3n de fuentes de empleo y el desarrollo regional-$200'000,000.00\\nVII. Infraestructura poro lo reconstrucci\\u00f3n del tejido social (sociaL deportivo y educ ativo)-$2,500'000,000.00\"}, {\"Ente_Acreditado\": \"Celaya\", \"No_de_Cr\\u00e9dito\": null, \"No_de_inscripci\\u00f3n_SHCP\": \"P11-1016045\", \"Registro_Estatal\": \"285/16\", \"Ambito\": \"Municipal\", \"Instituci\\u00f3n_Acreedora\": \"BBVA Bancomer\", \"Tipo_de_Obligaci\\u00f3n\": null, \"Clase_del_titulo\": \"Pesos\", \"Monto_original_contratado_en_pesos\": 350000000.0, \"Monto_dispuesto_en_pesos\": 0.0, \"Saldo_en_pesos\": 79555555.56, \"Tasa\": \"TIIE + 0.73\", \"Fecha_de_Contrataci\\u00f3n\": null, \"Plazo_m\\u00e1ximo_(meses)\": \"180 meses\", \"Fecha_de_Vencimiento\": \"31/10/2031\", \"Garant\\u00eda\": \"Participaciones que le correspondan al Municipio durante el periodo del cr\\u00e9dito; y de manera complementaria la garant\\u00eda subsidiaria del Gobierno del Estado\", \"Destino\": \"Inversi\\u00f3n p\\u00fablica productiva\"}, {\"Ente_Acreditado\": null, \"No_de_Cr\\u00e9dito\": null, \"No_de_inscripci\\u00f3n_SHCP\": null, \"Registro_Estatal\": null, \"Ambito\": null, \"Instituci\\u00f3n_Acreedora\": null, \"Tipo_de_Obligaci\\u00f3n\": null, \"Clase_del_titulo\": null, \"Monto_original_contratado_en_pesos\": 0.0, \"Monto_dispuesto_en_pesos\": 0.0, \"Saldo_en_pesos\": 0.0, \"Tasa\": null, \"Fecha_de_Contrataci\\u00f3n\": null, \"Plazo_m\\u00e1ximo_(meses)\": null, \"Fecha_de_Vencimiento\": null, \"Garant\\u00eda\": null, \"Destino\": null}, {\"Ente_Acreditado\": null, \"No_de_Cr\\u00e9dito\": null, \"No_de_inscripci\\u00f3n_SHCP\": null, \"Registro_Estatal\": null, \"Ambito\": null, \"Instituci\\u00f3n_Acreedora\": null, \"Tipo_de_Obligaci\\u00f3n\": null, \"Clase_del_titulo\": null, \"Monto_original_contratado_en_pesos\": 0.0, \"Monto_dispuesto_en_pesos\": 0.0, \"Saldo_en_pesos\": 8087110560.9, \"Tasa\": null, \"Fecha_de_Contrataci\\u00f3n\": null, \"Plazo_m\\u00e1ximo_(meses)\": null, \"Fecha_de_Vencimiento\": null, \"Garant\\u00eda\": null, \"Destino\": null}]}}, {\"mode\": \"vega-lite\"});\n",
              "</script>"
            ]
          },
          "metadata": {
            "tags": []
          },
          "execution_count": 85
        }
      ]
    },
    {
      "cell_type": "markdown",
      "metadata": {
        "id": "IMZKLOQuzkbK"
      },
      "source": [
        "## __Conclusion.__"
      ]
    },
    {
      "cell_type": "markdown",
      "metadata": {
        "id": "TnekKsQwznOA"
      },
      "source": [
        "## __Referencias.__"
      ]
    }
  ]
}